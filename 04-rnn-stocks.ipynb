{
 "cells": [
  {
   "cell_type": "markdown",
   "id": "33e9f6f8",
   "metadata": {
    "papermill": {
     "duration": 0.004743,
     "end_time": "2025-02-04T06:47:22.243179",
     "exception": false,
     "start_time": "2025-02-04T06:47:22.238436",
     "status": "completed"
    },
    "tags": []
   },
   "source": [
    "## simple RNN\n",
    "- dataset : https://www.kaggle.com/datasets/iveeaten3223times/massive-yahoo-finance-dataset\n",
    "- 연속형(=시계열, 문장 등) 데이터 처리에 유리"
   ]
  },
  {
   "cell_type": "markdown",
   "id": "ddace218",
   "metadata": {
    "papermill": {
     "duration": 0.003855,
     "end_time": "2025-02-04T06:47:22.251263",
     "exception": false,
     "start_time": "2025-02-04T06:47:22.247408",
     "status": "completed"
    },
    "tags": []
   },
   "source": [
    "## 데이터 관련"
   ]
  },
  {
   "cell_type": "code",
   "execution_count": 1,
   "id": "5ce6369c",
   "metadata": {
    "execution": {
     "iopub.execute_input": "2025-02-04T06:47:22.260981Z",
     "iopub.status.busy": "2025-02-04T06:47:22.260479Z",
     "iopub.status.idle": "2025-02-04T06:47:24.536912Z",
     "shell.execute_reply": "2025-02-04T06:47:24.535860Z"
    },
    "papermill": {
     "duration": 2.283502,
     "end_time": "2025-02-04T06:47:24.538890",
     "exception": false,
     "start_time": "2025-02-04T06:47:22.255388",
     "status": "completed"
    },
    "tags": []
   },
   "outputs": [
    {
     "data": {
      "text/html": [
       "<div>\n",
       "<style scoped>\n",
       "    .dataframe tbody tr th:only-of-type {\n",
       "        vertical-align: middle;\n",
       "    }\n",
       "\n",
       "    .dataframe tbody tr th {\n",
       "        vertical-align: top;\n",
       "    }\n",
       "\n",
       "    .dataframe thead th {\n",
       "        text-align: right;\n",
       "    }\n",
       "</style>\n",
       "<table border=\"1\" class=\"dataframe\">\n",
       "  <thead>\n",
       "    <tr style=\"text-align: right;\">\n",
       "      <th></th>\n",
       "      <th>Date</th>\n",
       "      <th>Open</th>\n",
       "      <th>High</th>\n",
       "      <th>Low</th>\n",
       "      <th>Close</th>\n",
       "      <th>Volume</th>\n",
       "      <th>Dividends</th>\n",
       "      <th>Stock Splits</th>\n",
       "      <th>Company</th>\n",
       "    </tr>\n",
       "  </thead>\n",
       "  <tbody>\n",
       "    <tr>\n",
       "      <th>0</th>\n",
       "      <td>2018-11-29 00:00:00-05:00</td>\n",
       "      <td>43.829761</td>\n",
       "      <td>43.863354</td>\n",
       "      <td>42.639594</td>\n",
       "      <td>43.083508</td>\n",
       "      <td>167080000</td>\n",
       "      <td>0.0</td>\n",
       "      <td>0.0</td>\n",
       "      <td>AAPL</td>\n",
       "    </tr>\n",
       "    <tr>\n",
       "      <th>1</th>\n",
       "      <td>2018-11-29 00:00:00-05:00</td>\n",
       "      <td>104.769074</td>\n",
       "      <td>105.519257</td>\n",
       "      <td>103.534595</td>\n",
       "      <td>104.636131</td>\n",
       "      <td>28123200</td>\n",
       "      <td>0.0</td>\n",
       "      <td>0.0</td>\n",
       "      <td>MSFT</td>\n",
       "    </tr>\n",
       "    <tr>\n",
       "      <th>2</th>\n",
       "      <td>2018-11-29 00:00:00-05:00</td>\n",
       "      <td>54.176498</td>\n",
       "      <td>55.007500</td>\n",
       "      <td>54.099998</td>\n",
       "      <td>54.729000</td>\n",
       "      <td>31004000</td>\n",
       "      <td>0.0</td>\n",
       "      <td>0.0</td>\n",
       "      <td>GOOGL</td>\n",
       "    </tr>\n",
       "  </tbody>\n",
       "</table>\n",
       "</div>"
      ],
      "text/plain": [
       "                        Date        Open        High         Low       Close  \\\n",
       "0  2018-11-29 00:00:00-05:00   43.829761   43.863354   42.639594   43.083508   \n",
       "1  2018-11-29 00:00:00-05:00  104.769074  105.519257  103.534595  104.636131   \n",
       "2  2018-11-29 00:00:00-05:00   54.176498   55.007500   54.099998   54.729000   \n",
       "\n",
       "      Volume  Dividends  Stock Splits Company  \n",
       "0  167080000        0.0           0.0    AAPL  \n",
       "1   28123200        0.0           0.0    MSFT  \n",
       "2   31004000        0.0           0.0   GOOGL  "
      ]
     },
     "execution_count": 1,
     "metadata": {},
     "output_type": "execute_result"
    }
   ],
   "source": [
    "# 데이터 로드\n",
    "import pandas as pd\n",
    "# df_stock = pd.read_csv('/kaggle/input/massive-yahoo-finance-dataset/stock_details_5_years.csv')\n",
    "# df_stock.head(3)\n",
    "\n",
    "df_stock_all = pd.read_csv('/kaggle/input/massive-yahoo-finance-dataset/stock_details_5_years.csv')\n",
    "df_stock_all.head(3)"
   ]
  },
  {
   "cell_type": "code",
   "execution_count": 2,
   "id": "d4e725da",
   "metadata": {
    "execution": {
     "iopub.execute_input": "2025-02-04T06:47:24.550818Z",
     "iopub.status.busy": "2025-02-04T06:47:24.550427Z",
     "iopub.status.idle": "2025-02-04T06:47:24.630638Z",
     "shell.execute_reply": "2025-02-04T06:47:24.629083Z"
    },
    "papermill": {
     "duration": 0.089751,
     "end_time": "2025-02-04T06:47:24.633967",
     "exception": false,
     "start_time": "2025-02-04T06:47:24.544216",
     "status": "completed"
    },
    "tags": []
   },
   "outputs": [
    {
     "data": {
      "text/html": [
       "<div>\n",
       "<style scoped>\n",
       "    .dataframe tbody tr th:only-of-type {\n",
       "        vertical-align: middle;\n",
       "    }\n",
       "\n",
       "    .dataframe tbody tr th {\n",
       "        vertical-align: top;\n",
       "    }\n",
       "\n",
       "    .dataframe thead th {\n",
       "        text-align: right;\n",
       "    }\n",
       "</style>\n",
       "<table border=\"1\" class=\"dataframe\">\n",
       "  <thead>\n",
       "    <tr style=\"text-align: right;\">\n",
       "      <th></th>\n",
       "      <th>Date</th>\n",
       "      <th>Open</th>\n",
       "      <th>High</th>\n",
       "      <th>Low</th>\n",
       "      <th>Close</th>\n",
       "      <th>Volume</th>\n",
       "      <th>Dividends</th>\n",
       "      <th>Stock Splits</th>\n",
       "      <th>Company</th>\n",
       "    </tr>\n",
       "  </thead>\n",
       "  <tbody>\n",
       "    <tr>\n",
       "      <th>0</th>\n",
       "      <td>2018-11-29 00:00:00-05:00</td>\n",
       "      <td>43.829761</td>\n",
       "      <td>43.863354</td>\n",
       "      <td>42.639594</td>\n",
       "      <td>43.083508</td>\n",
       "      <td>167080000</td>\n",
       "      <td>0.0</td>\n",
       "      <td>0.0</td>\n",
       "      <td>AAPL</td>\n",
       "    </tr>\n",
       "    <tr>\n",
       "      <th>458</th>\n",
       "      <td>2018-11-30 00:00:00-05:00</td>\n",
       "      <td>43.261071</td>\n",
       "      <td>43.270671</td>\n",
       "      <td>42.478826</td>\n",
       "      <td>42.850754</td>\n",
       "      <td>158126000</td>\n",
       "      <td>0.0</td>\n",
       "      <td>0.0</td>\n",
       "      <td>AAPL</td>\n",
       "    </tr>\n",
       "    <tr>\n",
       "      <th>916</th>\n",
       "      <td>2018-12-03 00:00:00-05:00</td>\n",
       "      <td>44.261681</td>\n",
       "      <td>44.376858</td>\n",
       "      <td>43.481835</td>\n",
       "      <td>44.348064</td>\n",
       "      <td>163210000</td>\n",
       "      <td>0.0</td>\n",
       "      <td>0.0</td>\n",
       "      <td>AAPL</td>\n",
       "    </tr>\n",
       "    <tr>\n",
       "      <th>1374</th>\n",
       "      <td>2018-12-04 00:00:00-05:00</td>\n",
       "      <td>43.419445</td>\n",
       "      <td>43.764977</td>\n",
       "      <td>42.296468</td>\n",
       "      <td>42.397247</td>\n",
       "      <td>165377200</td>\n",
       "      <td>0.0</td>\n",
       "      <td>0.0</td>\n",
       "      <td>AAPL</td>\n",
       "    </tr>\n",
       "    <tr>\n",
       "      <th>1832</th>\n",
       "      <td>2018-12-06 00:00:00-05:00</td>\n",
       "      <td>41.214280</td>\n",
       "      <td>41.938938</td>\n",
       "      <td>40.892744</td>\n",
       "      <td>41.924541</td>\n",
       "      <td>172393600</td>\n",
       "      <td>0.0</td>\n",
       "      <td>0.0</td>\n",
       "      <td>AAPL</td>\n",
       "    </tr>\n",
       "  </tbody>\n",
       "</table>\n",
       "</div>"
      ],
      "text/plain": [
       "                           Date       Open       High        Low      Close  \\\n",
       "0     2018-11-29 00:00:00-05:00  43.829761  43.863354  42.639594  43.083508   \n",
       "458   2018-11-30 00:00:00-05:00  43.261071  43.270671  42.478826  42.850754   \n",
       "916   2018-12-03 00:00:00-05:00  44.261681  44.376858  43.481835  44.348064   \n",
       "1374  2018-12-04 00:00:00-05:00  43.419445  43.764977  42.296468  42.397247   \n",
       "1832  2018-12-06 00:00:00-05:00  41.214280  41.938938  40.892744  41.924541   \n",
       "\n",
       "         Volume  Dividends  Stock Splits Company  \n",
       "0     167080000        0.0           0.0    AAPL  \n",
       "458   158126000        0.0           0.0    AAPL  \n",
       "916   163210000        0.0           0.0    AAPL  \n",
       "1374  165377200        0.0           0.0    AAPL  \n",
       "1832  172393600        0.0           0.0    AAPL  "
      ]
     },
     "execution_count": 2,
     "metadata": {},
     "output_type": "execute_result"
    }
   ],
   "source": [
    "# 특정 회사(컴퍼니)만 시계열 가져오기 (나오게)\n",
    "selected_company = 'AAPL'\n",
    "df_stock = df_stock_all[df_stock_all['Company'] == selected_company]\n",
    "df_stock.head()"
   ]
  },
  {
   "cell_type": "markdown",
   "id": "1ef7abcb",
   "metadata": {
    "papermill": {
     "duration": 0.004292,
     "end_time": "2025-02-04T06:47:24.646359",
     "exception": false,
     "start_time": "2025-02-04T06:47:24.642067",
     "status": "completed"
    },
    "tags": []
   },
   "source": [
    "### 데이터 전처리"
   ]
  },
  {
   "cell_type": "code",
   "execution_count": 3,
   "id": "ad553b34",
   "metadata": {
    "execution": {
     "iopub.execute_input": "2025-02-04T06:47:24.656666Z",
     "iopub.status.busy": "2025-02-04T06:47:24.656269Z",
     "iopub.status.idle": "2025-02-04T06:47:24.681227Z",
     "shell.execute_reply": "2025-02-04T06:47:24.680010Z"
    },
    "papermill": {
     "duration": 0.031883,
     "end_time": "2025-02-04T06:47:24.682849",
     "exception": false,
     "start_time": "2025-02-04T06:47:24.650966",
     "status": "completed"
    },
    "tags": []
   },
   "outputs": [
    {
     "name": "stderr",
     "output_type": "stream",
     "text": [
      "<ipython-input-3-6faa62f0cc68>:2: SettingWithCopyWarning: \n",
      "A value is trying to be set on a copy of a slice from a DataFrame.\n",
      "Try using .loc[row_indexer,col_indexer] = value instead\n",
      "\n",
      "See the caveats in the documentation: https://pandas.pydata.org/pandas-docs/stable/user_guide/indexing.html#returning-a-view-versus-a-copy\n",
      "  df_stock['Date'] = pd.to_datetime(df_stock['Date'], utc=True)\n"
     ]
    },
    {
     "data": {
      "text/plain": [
       "datetime64[ns, UTC]"
      ]
     },
     "execution_count": 3,
     "metadata": {},
     "output_type": "execute_result"
    }
   ],
   "source": [
    "# 날짜를 datetime 변환\n",
    "df_stock['Date'] = pd.to_datetime(df_stock['Date'], utc=True)\n",
    "df_stock['Date'].dtype"
   ]
  },
  {
   "cell_type": "code",
   "execution_count": 4,
   "id": "8d738dff",
   "metadata": {
    "execution": {
     "iopub.execute_input": "2025-02-04T06:47:24.693571Z",
     "iopub.status.busy": "2025-02-04T06:47:24.693232Z",
     "iopub.status.idle": "2025-02-04T06:47:24.697189Z",
     "shell.execute_reply": "2025-02-04T06:47:24.696250Z"
    },
    "papermill": {
     "duration": 0.011297,
     "end_time": "2025-02-04T06:47:24.698773",
     "exception": false,
     "start_time": "2025-02-04T06:47:24.687476",
     "status": "completed"
    },
    "tags": []
   },
   "outputs": [],
   "source": [
    "# df_stock.info()"
   ]
  },
  {
   "cell_type": "code",
   "execution_count": 5,
   "id": "3a471827",
   "metadata": {
    "execution": {
     "iopub.execute_input": "2025-02-04T06:47:24.708998Z",
     "iopub.status.busy": "2025-02-04T06:47:24.708685Z",
     "iopub.status.idle": "2025-02-04T06:47:25.944179Z",
     "shell.execute_reply": "2025-02-04T06:47:25.943035Z"
    },
    "papermill": {
     "duration": 1.24236,
     "end_time": "2025-02-04T06:47:25.945757",
     "exception": false,
     "start_time": "2025-02-04T06:47:24.703397",
     "status": "completed"
    },
    "tags": []
   },
   "outputs": [
    {
     "name": "stderr",
     "output_type": "stream",
     "text": [
      "<ipython-input-5-7eb35ecb155c>:4: SettingWithCopyWarning: \n",
      "A value is trying to be set on a copy of a slice from a DataFrame.\n",
      "Try using .loc[row_indexer,col_indexer] = value instead\n",
      "\n",
      "See the caveats in the documentation: https://pandas.pydata.org/pandas-docs/stable/user_guide/indexing.html#returning-a-view-versus-a-copy\n",
      "  df_stock[['Open','High','Low','Close','Volume']] = scaler.fit_transform(df_stock[['Open','High','Low','Close','Volume']])\n"
     ]
    },
    {
     "data": {
      "text/html": [
       "<div>\n",
       "<style scoped>\n",
       "    .dataframe tbody tr th:only-of-type {\n",
       "        vertical-align: middle;\n",
       "    }\n",
       "\n",
       "    .dataframe tbody tr th {\n",
       "        vertical-align: top;\n",
       "    }\n",
       "\n",
       "    .dataframe thead th {\n",
       "        text-align: right;\n",
       "    }\n",
       "</style>\n",
       "<table border=\"1\" class=\"dataframe\">\n",
       "  <thead>\n",
       "    <tr style=\"text-align: right;\">\n",
       "      <th></th>\n",
       "      <th>Date</th>\n",
       "      <th>Open</th>\n",
       "      <th>High</th>\n",
       "      <th>Low</th>\n",
       "      <th>Close</th>\n",
       "      <th>Volume</th>\n",
       "      <th>Dividends</th>\n",
       "      <th>Stock Splits</th>\n",
       "      <th>Company</th>\n",
       "    </tr>\n",
       "  </thead>\n",
       "  <tbody>\n",
       "    <tr>\n",
       "      <th>0</th>\n",
       "      <td>2018-11-29 05:00:00+00:00</td>\n",
       "      <td>-1.598199</td>\n",
       "      <td>-1.611253</td>\n",
       "      <td>-1.611061</td>\n",
       "      <td>-1.615618</td>\n",
       "      <td>1.176835</td>\n",
       "      <td>0.0</td>\n",
       "      <td>0.0</td>\n",
       "      <td>AAPL</td>\n",
       "    </tr>\n",
       "    <tr>\n",
       "      <th>458</th>\n",
       "      <td>2018-11-30 05:00:00+00:00</td>\n",
       "      <td>-1.610310</td>\n",
       "      <td>-1.623753</td>\n",
       "      <td>-1.614516</td>\n",
       "      <td>-1.620572</td>\n",
       "      <td>1.010309</td>\n",
       "      <td>0.0</td>\n",
       "      <td>0.0</td>\n",
       "      <td>AAPL</td>\n",
       "    </tr>\n",
       "    <tr>\n",
       "      <th>916</th>\n",
       "      <td>2018-12-03 05:00:00+00:00</td>\n",
       "      <td>-1.589000</td>\n",
       "      <td>-1.600423</td>\n",
       "      <td>-1.592958</td>\n",
       "      <td>-1.588704</td>\n",
       "      <td>1.104861</td>\n",
       "      <td>0.0</td>\n",
       "      <td>0.0</td>\n",
       "      <td>AAPL</td>\n",
       "    </tr>\n",
       "  </tbody>\n",
       "</table>\n",
       "</div>"
      ],
      "text/plain": [
       "                         Date      Open      High       Low     Close  \\\n",
       "0   2018-11-29 05:00:00+00:00 -1.598199 -1.611253 -1.611061 -1.615618   \n",
       "458 2018-11-30 05:00:00+00:00 -1.610310 -1.623753 -1.614516 -1.620572   \n",
       "916 2018-12-03 05:00:00+00:00 -1.589000 -1.600423 -1.592958 -1.588704   \n",
       "\n",
       "       Volume  Dividends  Stock Splits Company  \n",
       "0    1.176835        0.0           0.0    AAPL  \n",
       "458  1.010309        0.0           0.0    AAPL  \n",
       "916  1.104861        0.0           0.0    AAPL  "
      ]
     },
     "execution_count": 5,
     "metadata": {},
     "output_type": "execute_result"
    }
   ],
   "source": [
    "# 스케일링\n",
    "from sklearn.preprocessing import StandardScaler\n",
    "scaler = StandardScaler()\n",
    "df_stock[['Open','High','Low','Close','Volume']] = scaler.fit_transform(df_stock[['Open','High','Low','Close','Volume']])\n",
    "df_stock.head(3)"
   ]
  },
  {
   "cell_type": "code",
   "execution_count": 6,
   "id": "c1a5475f",
   "metadata": {
    "execution": {
     "iopub.execute_input": "2025-02-04T06:47:25.957214Z",
     "iopub.status.busy": "2025-02-04T06:47:25.956673Z",
     "iopub.status.idle": "2025-02-04T06:47:25.962422Z",
     "shell.execute_reply": "2025-02-04T06:47:25.961402Z"
    },
    "papermill": {
     "duration": 0.013291,
     "end_time": "2025-02-04T06:47:25.964153",
     "exception": false,
     "start_time": "2025-02-04T06:47:25.950862",
     "status": "completed"
    },
    "tags": []
   },
   "outputs": [
    {
     "data": {
      "text/plain": [
       "(1258, 9)"
      ]
     },
     "execution_count": 6,
     "metadata": {},
     "output_type": "execute_result"
    }
   ],
   "source": [
    "df_stock.shape"
   ]
  },
  {
   "cell_type": "code",
   "execution_count": 7,
   "id": "9af3a578",
   "metadata": {
    "execution": {
     "iopub.execute_input": "2025-02-04T06:47:25.975573Z",
     "iopub.status.busy": "2025-02-04T06:47:25.975234Z",
     "iopub.status.idle": "2025-02-04T06:47:29.682716Z",
     "shell.execute_reply": "2025-02-04T06:47:29.681672Z"
    },
    "papermill": {
     "duration": 3.714954,
     "end_time": "2025-02-04T06:47:29.684319",
     "exception": false,
     "start_time": "2025-02-04T06:47:25.969365",
     "status": "completed"
    },
    "tags": []
   },
   "outputs": [
    {
     "name": "stderr",
     "output_type": "stream",
     "text": [
      "Generating Sequences: 100%|██████████| 1253/1253 [00:00<00:00, 929183.68it/s]\n"
     ]
    },
    {
     "data": {
      "text/plain": [
       "((1253, 5), (1253,))"
      ]
     },
     "execution_count": 7,
     "metadata": {},
     "output_type": "execute_result"
    }
   ],
   "source": [
    "# 시계열 데이터 생성\n",
    "import numpy as np\n",
    "import torch\n",
    "\n",
    "sequence_length = 5 # 5일 단위\n",
    "\n",
    "from tqdm import tqdm\n",
    "\n",
    "\n",
    "def create_sequences(data, seq_length):\n",
    "    xs = []\n",
    "    ys = []\n",
    "    # for i in range(len(data) - seq_length):\n",
    "    for i in tqdm(range(len(data) - seq_length), desc = 'Generating Sequences'):\n",
    "        x = data[i:i+seq_length]\n",
    "        y = data[i+seq_length]\n",
    "        xs.append(x)\n",
    "        ys.append(y)\n",
    "    return np.array(xs), np.array(ys) # features, label\n",
    "\n",
    "features, label = create_sequences(df_stock['Close'].values, sequence_length)\n",
    "features.shape, label.shape"
   ]
  },
  {
   "cell_type": "code",
   "execution_count": 8,
   "id": "25ae7fd3",
   "metadata": {
    "execution": {
     "iopub.execute_input": "2025-02-04T06:47:29.696840Z",
     "iopub.status.busy": "2025-02-04T06:47:29.696291Z",
     "iopub.status.idle": "2025-02-04T06:47:29.702289Z",
     "shell.execute_reply": "2025-02-04T06:47:29.701440Z"
    },
    "papermill": {
     "duration": 0.013914,
     "end_time": "2025-02-04T06:47:29.703825",
     "exception": false,
     "start_time": "2025-02-04T06:47:29.689911",
     "status": "completed"
    },
    "tags": []
   },
   "outputs": [
    {
     "data": {
      "text/plain": [
       "array([[-1.61561817, -1.62057201, -1.58870387, -1.63022425, -1.64028513],\n",
       "       [-1.62057201, -1.58870387, -1.63022425, -1.64028513, -1.67210203],\n",
       "       [-1.58870387, -1.63022425, -1.64028513, -1.67210203, -1.66643324]])"
      ]
     },
     "execution_count": 8,
     "metadata": {},
     "output_type": "execute_result"
    }
   ],
   "source": [
    "features[:3]"
   ]
  },
  {
   "cell_type": "code",
   "execution_count": 9,
   "id": "71893774",
   "metadata": {
    "execution": {
     "iopub.execute_input": "2025-02-04T06:47:29.715665Z",
     "iopub.status.busy": "2025-02-04T06:47:29.715307Z",
     "iopub.status.idle": "2025-02-04T06:47:29.753688Z",
     "shell.execute_reply": "2025-02-04T06:47:29.752534Z"
    },
    "papermill": {
     "duration": 0.04643,
     "end_time": "2025-02-04T06:47:29.755629",
     "exception": false,
     "start_time": "2025-02-04T06:47:29.709199",
     "status": "completed"
    },
    "tags": []
   },
   "outputs": [
    {
     "data": {
      "text/plain": [
       "(torch.Size([1253, 5, 1]), torch.Size([1253, 1]))"
      ]
     },
     "execution_count": 9,
     "metadata": {},
     "output_type": "execute_result"
    }
   ],
   "source": [
    "# 텐서 변환\n",
    "features_tensor = torch.tensor(features, dtype = torch.float32).unsqueeze(-1)\n",
    "label_tensor = torch.tensor(label, dtype = torch.float32).unsqueeze(-1)\n",
    "features_tensor.shape, label_tensor.shape"
   ]
  },
  {
   "cell_type": "markdown",
   "id": "296f5e29",
   "metadata": {
    "papermill": {
     "duration": 0.004914,
     "end_time": "2025-02-04T06:47:29.765979",
     "exception": false,
     "start_time": "2025-02-04T06:47:29.761065",
     "status": "completed"
    },
    "tags": []
   },
   "source": [
    "## 모델관련"
   ]
  },
  {
   "cell_type": "code",
   "execution_count": 10,
   "id": "cc5d8a42",
   "metadata": {
    "execution": {
     "iopub.execute_input": "2025-02-04T06:47:29.777981Z",
     "iopub.status.busy": "2025-02-04T06:47:29.777589Z",
     "iopub.status.idle": "2025-02-04T06:47:29.794282Z",
     "shell.execute_reply": "2025-02-04T06:47:29.793315Z"
    },
    "papermill": {
     "duration": 0.024749,
     "end_time": "2025-02-04T06:47:29.795927",
     "exception": false,
     "start_time": "2025-02-04T06:47:29.771178",
     "status": "completed"
    },
    "tags": []
   },
   "outputs": [
    {
     "data": {
      "text/plain": [
       "SimpleRNN(\n",
       "  (rnn): RNN(1, 5, batch_first=True)\n",
       "  (fc): Linear(in_features=5, out_features=1, bias=True)\n",
       ")"
      ]
     },
     "execution_count": 10,
     "metadata": {},
     "output_type": "execute_result"
    }
   ],
   "source": [
    "# RNN 모델 정의\n",
    "import torch.nn as nn\n",
    "\n",
    "class SimpleRNN(nn.Module):\n",
    "    def __init__(self, input_size, hidden_size, output_size):\n",
    "        super(SimpleRNN, self).__init__()\n",
    "        self.rnn = nn.RNN(input_size, hidden_size, batch_first=True)\n",
    "        self.fc = nn.Linear(hidden_size, output_size)\n",
    "    \n",
    "    def forward(self, x):\n",
    "        h0 = torch.zeros(1, x.size(0), hidden_size)\n",
    "        out, _ = self.rnn(x, h0)\n",
    "        out = self.fc(out[:, -1, :])\n",
    "        return out\n",
    "\n",
    "input_size = 1 # row 단위 갯수\n",
    "hidden_size = 5 # 은닉층 갯수\n",
    "output_size = 1 \n",
    "\n",
    "model = SimpleRNN(input_size, hidden_size, output_size)\n",
    "model"
   ]
  },
  {
   "cell_type": "code",
   "execution_count": 11,
   "id": "22d46d95",
   "metadata": {
    "execution": {
     "iopub.execute_input": "2025-02-04T06:47:29.808741Z",
     "iopub.status.busy": "2025-02-04T06:47:29.808334Z",
     "iopub.status.idle": "2025-02-04T06:47:34.798299Z",
     "shell.execute_reply": "2025-02-04T06:47:34.797135Z"
    },
    "papermill": {
     "duration": 4.999474,
     "end_time": "2025-02-04T06:47:34.801186",
     "exception": false,
     "start_time": "2025-02-04T06:47:29.801712",
     "status": "completed"
    },
    "tags": []
   },
   "outputs": [
    {
     "name": "stderr",
     "output_type": "stream",
     "text": [
      "learning Model:  63%|██████▎   | 63/100 [00:00<00:00, 192.87it/s]"
     ]
    },
    {
     "name": "stdout",
     "output_type": "stream",
     "text": [
      "Epoch [10 / 100]. Loss : 0.37644\n",
      "Epoch [20 / 100]. Loss : 0.07579\n",
      "Epoch [30 / 100]. Loss : 0.05108\n",
      "Epoch [40 / 100]. Loss : 0.01282\n",
      "Epoch [50 / 100]. Loss : 0.01244\n",
      "Epoch [60 / 100]. Loss : 0.00715\n",
      "Epoch [70 / 100]. Loss : 0.00449\n"
     ]
    },
    {
     "name": "stderr",
     "output_type": "stream",
     "text": [
      "learning Model: 100%|██████████| 100/100 [00:00<00:00, 183.76it/s]"
     ]
    },
    {
     "name": "stdout",
     "output_type": "stream",
     "text": [
      "Epoch [80 / 100]. Loss : 0.00372\n",
      "Epoch [90 / 100]. Loss : 0.00333\n",
      "Epoch [100 / 100]. Loss : 0.00305\n"
     ]
    },
    {
     "name": "stderr",
     "output_type": "stream",
     "text": [
      "\n"
     ]
    }
   ],
   "source": [
    "# 모델 학습\n",
    "import torch.optim as optim\n",
    "\n",
    "criterion = nn.MSELoss()\n",
    "optimizer = optim.AdamW(model.parameters(), lr = 0.01)\n",
    "\n",
    "epochs = 100\n",
    "\n",
    "for epoch in tqdm(range(epochs), desc = 'learning Model'):\n",
    "    model.train()\n",
    "    outputs = model(features_tensor)\n",
    "    optimizer.zero_grad()\n",
    "    loss = criterion(outputs, label_tensor) # error율 확인\n",
    "    loss.backward()\n",
    "    optimizer.step()\n",
    "\n",
    "    if (epoch+1) % 10 == 0: # 10회에 1번 출력\n",
    "        print(f'Epoch [{epoch+1} / {epochs}]. Loss : {loss.item():.5f}')"
   ]
  },
  {
   "cell_type": "code",
   "execution_count": 12,
   "id": "e129f406",
   "metadata": {
    "execution": {
     "iopub.execute_input": "2025-02-04T06:47:34.827222Z",
     "iopub.status.busy": "2025-02-04T06:47:34.826608Z",
     "iopub.status.idle": "2025-02-04T06:47:34.855511Z",
     "shell.execute_reply": "2025-02-04T06:47:34.854217Z"
    },
    "papermill": {
     "duration": 0.046577,
     "end_time": "2025-02-04T06:47:34.858640",
     "exception": false,
     "start_time": "2025-02-04T06:47:34.812063",
     "status": "completed"
    },
    "tags": []
   },
   "outputs": [
    {
     "data": {
      "text/plain": [
       "OrderedDict([('rnn.weight_ih_l0',\n",
       "              tensor([[-0.6295],\n",
       "                      [ 0.6235],\n",
       "                      [-0.5685],\n",
       "                      [ 0.3158],\n",
       "                      [ 0.2052]])),\n",
       "             ('rnn.weight_hh_l0',\n",
       "              tensor([[-0.4046, -0.0246, -0.1486, -0.4862,  0.1588],\n",
       "                      [ 0.3081,  0.3946, -0.4671, -0.4152, -0.3169],\n",
       "                      [ 0.1670, -0.4396, -0.0220,  0.3032,  0.0500],\n",
       "                      [-0.6185,  0.2768,  0.0188, -0.3537,  0.0373],\n",
       "                      [ 0.0356,  0.0028, -0.5810,  0.2785,  0.2676]])),\n",
       "             ('rnn.bias_ih_l0',\n",
       "              tensor([-0.0375,  0.1491,  0.3545, -0.0723, -0.5514])),\n",
       "             ('rnn.bias_hh_l0',\n",
       "              tensor([ 0.6611,  0.1004,  0.1232, -0.2875,  0.1258])),\n",
       "             ('fc.weight',\n",
       "              tensor([[-0.5663,  0.6525, -0.4088,  0.2000,  0.5054]])),\n",
       "             ('fc.bias', tensor([0.1897]))])"
      ]
     },
     "execution_count": 12,
     "metadata": {},
     "output_type": "execute_result"
    }
   ],
   "source": [
    "model.state_dict()"
   ]
  },
  {
   "cell_type": "markdown",
   "id": "8d9b083a",
   "metadata": {
    "papermill": {
     "duration": 0.008358,
     "end_time": "2025-02-04T06:47:34.876932",
     "exception": false,
     "start_time": "2025-02-04T06:47:34.868574",
     "status": "completed"
    },
    "tags": []
   },
   "source": [
    "## 평가 관련"
   ]
  },
  {
   "cell_type": "code",
   "execution_count": 13,
   "id": "faaf69bd",
   "metadata": {
    "execution": {
     "iopub.execute_input": "2025-02-04T06:47:34.890752Z",
     "iopub.status.busy": "2025-02-04T06:47:34.890401Z",
     "iopub.status.idle": "2025-02-04T06:47:34.896042Z",
     "shell.execute_reply": "2025-02-04T06:47:34.895020Z"
    },
    "papermill": {
     "duration": 0.014387,
     "end_time": "2025-02-04T06:47:34.897678",
     "exception": false,
     "start_time": "2025-02-04T06:47:34.883291",
     "status": "completed"
    },
    "tags": []
   },
   "outputs": [
    {
     "data": {
      "text/plain": [
       "SimpleRNN(\n",
       "  (rnn): RNN(1, 5, batch_first=True)\n",
       "  (fc): Linear(in_features=5, out_features=1, bias=True)\n",
       ")"
      ]
     },
     "execution_count": 13,
     "metadata": {},
     "output_type": "execute_result"
    }
   ],
   "source": [
    "model.eval()"
   ]
  },
  {
   "cell_type": "code",
   "execution_count": 14,
   "id": "72fe612e",
   "metadata": {
    "execution": {
     "iopub.execute_input": "2025-02-04T06:47:34.911483Z",
     "iopub.status.busy": "2025-02-04T06:47:34.911166Z",
     "iopub.status.idle": "2025-02-04T06:47:34.919247Z",
     "shell.execute_reply": "2025-02-04T06:47:34.918211Z"
    },
    "papermill": {
     "duration": 0.016505,
     "end_time": "2025-02-04T06:47:34.920666",
     "exception": false,
     "start_time": "2025-02-04T06:47:34.904161",
     "status": "completed"
    },
    "tags": []
   },
   "outputs": [
    {
     "data": {
      "text/plain": [
       "(tensor([[-1.5842],\n",
       "         [-1.6024],\n",
       "         [-1.6043],\n",
       "         [-1.6072],\n",
       "         [-1.6067]]),\n",
       " tensor([[-1.6721],\n",
       "         [-1.6664],\n",
       "         [-1.6714],\n",
       "         [-1.6690],\n",
       "         [-1.6595]]))"
      ]
     },
     "execution_count": 14,
     "metadata": {},
     "output_type": "execute_result"
    }
   ],
   "source": [
    "with torch.no_grad():\n",
    "    predicted = model(features_tensor[:5])\n",
    "predicted, label_tensor[:5]"
   ]
  },
  {
   "cell_type": "code",
   "execution_count": null,
   "id": "47208930",
   "metadata": {
    "papermill": {
     "duration": 0.0061,
     "end_time": "2025-02-04T06:47:34.933076",
     "exception": false,
     "start_time": "2025-02-04T06:47:34.926976",
     "status": "completed"
    },
    "tags": []
   },
   "outputs": [],
   "source": []
  }
 ],
 "metadata": {
  "kaggle": {
   "accelerator": "nvidiaTeslaT4",
   "dataSources": [
    {
     "datasetId": 4081618,
     "sourceId": 7084494,
     "sourceType": "datasetVersion"
    }
   ],
   "dockerImageVersionId": 30840,
   "isGpuEnabled": true,
   "isInternetEnabled": true,
   "language": "python",
   "sourceType": "notebook"
  },
  "kernelspec": {
   "display_name": "Python 3",
   "language": "python",
   "name": "python3"
  },
  "language_info": {
   "codemirror_mode": {
    "name": "ipython",
    "version": 3
   },
   "file_extension": ".py",
   "mimetype": "text/x-python",
   "name": "python",
   "nbconvert_exporter": "python",
   "pygments_lexer": "ipython3",
   "version": "3.10.12"
  },
  "papermill": {
   "default_parameters": {},
   "duration": 17.635584,
   "end_time": "2025-02-04T06:47:36.763409",
   "environment_variables": {},
   "exception": null,
   "input_path": "__notebook__.ipynb",
   "output_path": "__notebook__.ipynb",
   "parameters": {},
   "start_time": "2025-02-04T06:47:19.127825",
   "version": "2.6.0"
  }
 },
 "nbformat": 4,
 "nbformat_minor": 5
}
