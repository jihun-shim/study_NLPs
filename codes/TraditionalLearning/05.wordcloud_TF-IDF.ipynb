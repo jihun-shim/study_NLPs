{
 "cells": [
  {
   "cell_type": "markdown",
   "metadata": {},
   "source": [
    "## TF-IDF 사용 wordcloud 작성"
   ]
  },
  {
   "cell_type": "code",
   "execution_count": 20,
   "metadata": {},
   "outputs": [],
   "source": [
    "it_sentences = [\n",
    "    \"인공지능 기술이 사회의 다양한 분야에 점점 더 널리 적용되고 있다.\",\n",
    "    \"클라우드 컴퓨팅은 데이터 저장과 처리를 더욱 효율적으로 만들어 주며, 기업의 IT 인프라를 혁신하고 있다.\",\n",
    "    \"머신러닝과 딥러닝 알고리즘은 데이터 분석과 예측 모델링에 혁명을 일으키고 있다.\",\n",
    "    \"블록체인 기술은 금융 거래의 투명성과 보안성을 향상시키는데 기여하고 있다.\",\n",
    "    \"사이버 보안은 디지털 시대의 중요한 이슈로 부상하고 있으며, 지속적인 관심과 개선이 요구된다.\",\n",
    "    \"소프트웨어 개발에서의 애자일 방법론은 빠른 시장 변화에 효과적으로 대응할 수 있게 해준다.\",\n",
    "    \"데이터 과학과 분석은 비즈니스 의사 결정 과정에서 중요한 역할을 하며, 기업의 경쟁력을 강화시킨다.\",\n",
    "    \"사물인터넷(IoT) 기술은 일상 생활을 더욱 편리하고 연결된 공간으로 변화시키고 있다.\",\n",
    "    \"가상현실(VR)과 증강현실(AR) 기술은 엔터테인먼트, 교육, 의료 등 다양한 분야에서 새로운 경험을 제공한다.\",\n",
    "    \"파이썬은 데이터 과학, 웹 개발, 자동화 스크립트 작성 등 다양한 프로그래밍 작업에 널리 사용되는 언어이다.\"\n",
    "]\n",
    "\n",
    "'''\n",
    "이 코드는 텍스트 데이터를 분석하여 TF-IDF(문서-역문서 빈도) 스코어를 계산한 뒤, \n",
    "WordCloud로 상위 단어들을 시각화하는 과정을 보여줍니다. 아래에 각 단계별로 자세한 설명을 제공\n",
    "\n",
    "1. 데이터 준비\n",
    "'''"
   ]
  },
  {
   "cell_type": "code",
   "execution_count": 21,
   "metadata": {},
   "outputs": [],
   "source": [
    "from sklearn.feature_extraction.text import TfidfVectorizer # word embedding\n",
    "tfidfVectorizer = TfidfVectorizer()\n",
    "tfidfVectorizer.fit(it_sentences)   # 학습용\n",
    "result_vectors = tfidfVectorizer.transform(it_sentences) # 서비스용\n",
    "\n",
    "'''\n",
    "2. TF-IDF 벡터화\n",
    "\n",
    "TF-IDF란?\n",
    "텍스트 데이터를 분석할 때, 단어의 중요도를 평가하기 위한 방법입니다.\n",
    "TF(문서 내 단어 빈도)와 IDF(전체 문서에서의 역빈도)를 조합하여 계산합니다.\n",
    "\n",
    "작업 과정:\n",
    "fit() 메서드로 텍스트 데이터를 학습시켜 단어의 사전(어휘)을 만듭니다.\n",
    "transform() 메서드로 각 문장에 대해 TF-IDF 값을 계산하여 벡터로 변환합니다.\n",
    "'''"
   ]
  },
  {
   "cell_type": "code",
   "execution_count": 22,
   "metadata": {},
   "outputs": [
    {
     "data": {
      "text/plain": [
       "((10, 100), (100,))"
      ]
     },
     "execution_count": 22,
     "metadata": {},
     "output_type": "execute_result"
    }
   ],
   "source": [
    "result_vectors.toarray().shape, tfidfVectorizer.get_feature_names_out().shape\n",
    "\n",
    "'''\n",
    "3. TF-IDF 결과 확인\n",
    "\n",
    "result_vectors.toarray()는 TF-IDF 결과를 배열 형태로 반환합니다.\n",
    ".shape를 사용해 데이터의 크기를 확인합니다.\n",
    "각 문장별로 단어가 어떤 TF-IDF 값을 가지는지 나타냅니다.\n",
    "get_feature_names_out()는 모델이 학습한 단어의 리스트(어휘)를 반환합니다.\n",
    "'''"
   ]
  },
  {
   "cell_type": "code",
   "execution_count": 23,
   "metadata": {},
   "outputs": [
    {
     "data": {
      "text/plain": [
       "(array(['ar', 'iot', 'it', 'vr', '가상현실', '강화시킨다', '개발', '개발에서의', '개선이',\n",
       "        '거래의', '결정', '경쟁력을', '경험을', '공간으로', '과정에서', '과학', '과학과', '관심과',\n",
       "        '교육', '금융', '기술은', '기술이', '기업의', '기여하고', '널리', '다양한', '대응할', '더욱',\n",
       "        '데이터', '디지털', '딥러닝', '만들어', '머신러닝과', '모델링에', '방법론은', '변화시키고',\n",
       "        '변화에', '보안성을', '보안은', '부상하고', '분석과', '분석은', '분야에', '분야에서', '블록체인',\n",
       "        '비즈니스', '빠른', '사물인터넷', '사용되는', '사이버', '사회의', '새로운', '생활을', '소프트웨어',\n",
       "        '스크립트', '시대의', '시장', '알고리즘은', '애자일', '언어이다', '엔터테인먼트', '역할을',\n",
       "        '연결된', '예측', '요구된다', '의료', '의사', '이슈로', '인공지능', '인프라를', '일상',\n",
       "        '일으키고', '있게', '있다', '있으며', '자동화', '작성', '작업에', '저장과', '적용되고', '점점',\n",
       "        '제공한다', '주며', '중요한', '증강현실', '지속적인', '처리를', '컴퓨팅은', '클라우드', '투명성과',\n",
       "        '파이썬은', '편리하고', '프로그래밍', '하며', '해준다', '향상시키는데', '혁명을', '혁신하고',\n",
       "        '효과적으로', '효율적으로'], dtype=object),\n",
       " array([0.        , 0.        , 0.        , 0.        , 0.        ,\n",
       "        0.        , 0.        , 0.        , 0.        , 0.        ,\n",
       "        0.        , 0.        , 0.        , 0.        , 0.        ,\n",
       "        0.        , 0.        , 0.        , 0.        , 0.        ,\n",
       "        0.        , 0.36206198, 0.        , 0.        , 0.30778576,\n",
       "        0.26927617, 0.        , 0.        , 0.        , 0.        ,\n",
       "        0.        , 0.        , 0.        , 0.        , 0.        ,\n",
       "        0.        , 0.        , 0.        , 0.        , 0.        ,\n",
       "        0.        , 0.        , 0.36206198, 0.        , 0.        ,\n",
       "        0.        , 0.        , 0.        , 0.        , 0.        ,\n",
       "        0.36206198, 0.        , 0.        , 0.        , 0.        ,\n",
       "        0.        , 0.        , 0.        , 0.        , 0.        ,\n",
       "        0.        , 0.        , 0.        , 0.        , 0.        ,\n",
       "        0.        , 0.        , 0.        , 0.36206198, 0.        ,\n",
       "        0.        , 0.        , 0.        , 0.21499995, 0.        ,\n",
       "        0.        , 0.        , 0.        , 0.        , 0.36206198,\n",
       "        0.36206198, 0.        , 0.        , 0.        , 0.        ,\n",
       "        0.        , 0.        , 0.        , 0.        , 0.        ,\n",
       "        0.        , 0.        , 0.        , 0.        , 0.        ,\n",
       "        0.        , 0.        , 0.        , 0.        , 0.        ]))"
      ]
     },
     "execution_count": 23,
     "metadata": {},
     "output_type": "execute_result"
    }
   ],
   "source": [
    "# 문장과 단어 vocab에 대한 매칭 관계 확인\n",
    "tfidfVectorizer.get_feature_names_out(), result_vectors.toarray()[0]"
   ]
  },
  {
   "cell_type": "code",
   "execution_count": 27,
   "metadata": {},
   "outputs": [
    {
     "data": {
      "text/plain": [
       "(100,)"
      ]
     },
     "execution_count": 27,
     "metadata": {},
     "output_type": "execute_result"
    }
   ],
   "source": [
    "tfidf_scores = result_vectors.toarray().sum(axis=0)\n",
    "tfidf_scores.shape\n",
    "\n",
    "'''\n",
    "4. TF-IDF 점수 계산\n",
    "\n",
    "모든 문장에서 계산된 TF-IDF 값을 합산하여 각 단어의 총 점수를 계산합니다.\n",
    "이는 전체 문서에서 가장 중요한 단어를 찾는 데 사용됩니다.\n",
    "'''"
   ]
  },
  {
   "cell_type": "code",
   "execution_count": 30,
   "metadata": {},
   "outputs": [
    {
     "data": {
      "text/plain": [
       "<zip at 0x7fc2327bcec0>"
      ]
     },
     "execution_count": 30,
     "metadata": {},
     "output_type": "execute_result"
    }
   ],
   "source": [
    "zip(tfidf_scores, tfidfVectorizer.get_feature_names_out())\n",
    "#(0.22,'ar'), (0.33,'iot') ..."
   ]
  },
  {
   "cell_type": "code",
   "execution_count": 32,
   "metadata": {},
   "outputs": [
    {
     "data": {
      "text/plain": [
       "[(0.987625392933926, '있다'),\n",
       " (0.7970920393452454, '데이터'),\n",
       " (0.7179458056949942, '기술은'),\n",
       " (0.7003385145464591, '다양한'),\n",
       " (0.5561741595338365, '널리'),\n",
       " (0.5169912238411, '더욱'),\n",
       " (0.4948964303835777, '중요한'),\n",
       " (0.4896407408396237, '기업의'),\n",
       " (0.3620619846744857, '점점'),\n",
       " (0.3620619846744857, '적용되고')]"
      ]
     },
     "execution_count": 32,
     "metadata": {},
     "output_type": "execute_result"
    }
   ],
   "source": [
    "# sorted(zip(tfidf_scores, tfidfVectorizer.get_feature_names_out())\n",
    "#        , reverse = True)[:10]\n",
    "\n",
    "tfidf_ranking_10 =sorted(zip(tfidf_scores, tfidfVectorizer.get_feature_names_out())\n",
    "       , reverse = True)[:10]\n",
    "tfidf_ranking_10\n",
    "\n",
    "'''\n",
    "5. 상위 10개 단어 선택\n",
    "\n",
    "1) zip()으로 TF-IDF 점수와 단어를 묶습니다.\n",
    "2) 점수를 기준으로 내림차순(reverse=True) 정렬합니다.\n",
    "3) 상위 10개 단어만 추출합니다.\n",
    "'''"
   ]
  },
  {
   "cell_type": "code",
   "execution_count": 33,
   "metadata": {},
   "outputs": [
    {
     "data": {
      "text/plain": [
       "{'있다': 0.987625392933926,\n",
       " '데이터': 0.7970920393452454,\n",
       " '기술은': 0.7179458056949942,\n",
       " '다양한': 0.7003385145464591,\n",
       " '널리': 0.5561741595338365,\n",
       " '더욱': 0.5169912238411,\n",
       " '중요한': 0.4948964303835777,\n",
       " '기업의': 0.4896407408396237,\n",
       " '점점': 0.3620619846744857,\n",
       " '적용되고': 0.3620619846744857}"
      ]
     },
     "execution_count": 33,
     "metadata": {},
     "output_type": "execute_result"
    }
   ],
   "source": [
    "top10_words = {word:score for score, word in tfidf_ranking_10 }\n",
    "top10_words\n",
    "\n",
    "'''\n",
    "딕셔너리 형태로 상위 10개 단어와 그 점수를 저장합니다.\n",
    "'''"
   ]
  },
  {
   "cell_type": "code",
   "execution_count": 35,
   "metadata": {},
   "outputs": [],
   "source": [
    "from wordcloud import WordCloud\n",
    "wordCloud = WordCloud(background_color='white'\n",
    "                      , font_path='/usr/share/fonts/truetype/nanum/NanumBarunGothic.ttf')\n",
    "\n",
    "'''\n",
    "6. WordCloud 생성\n",
    "\n",
    "WordCloud란?\n",
    "    텍스트 데이터를 시각화하는 방법 중 하나로, 단어의 중요도(여기서는 TF-IDF 점수)에 따라 단어 크기를 다르게 표시합니다.\n",
    "매개변수:\n",
    "    background_color='white': 배경을 흰색으로 설정.\n",
    "    font_path: 한글 표시를 위해 폰트를 설정합니다.\n",
    "'''\n"
   ]
  },
  {
   "cell_type": "code",
   "execution_count": 36,
   "metadata": {},
   "outputs": [
    {
     "data": {
      "image/png": "[encoded data removed]",
      "text/plain": [
       "<Figure size 640x480 with 1 Axes>"
      ]
     },
     "metadata": {},
     "output_type": "display_data"
    }
   ],
   "source": [
    "# tops_counter_dict\n",
    "wordCloud.generate_from_frequencies(top10_words)\n",
    "'''\n",
    "작업 과정:\n",
    "    generate_from_frequencies()를 사용해 단어와 점수를 기반으로 WordCloud 이미지를 생성합니다.\n",
    "'''\n",
    "\n",
    "import matplotlib.pyplot as plt\n",
    "plt.imshow(wordCloud)\n",
    "plt.axis('off') # 그래프 좌표 없앰\n",
    "plt.show()\n",
    "\n",
    "'''\n",
    "시각화 설명:\n",
    "    imshow()로 생성된 WordCloud를 출력합니다.\n",
    "    axis('off')를 사용해 그래프의 축을 없앱니다.\n",
    "'''"
   ]
  },
  {
   "cell_type": "code",
   "execution_count": null,
   "metadata": {},
   "outputs": [],
   "source": []
  }
 ],
 "metadata": {
  "kernelspec": {
   "display_name": "Python 3",
   "language": "python",
   "name": "python3"
  },
  "language_info": {
   "codemirror_mode": {
    "name": "ipython",
    "version": 3
   },
   "file_extension": ".py",
   "mimetype": "text/x-python",
   "name": "python",
   "nbconvert_exporter": "python",
   "pygments_lexer": "ipython3",
   "version": "3.11.11"
  }
 },
 "nbformat": 4,
 "nbformat_minor": 2
}
