{
  "nbformat": 4,
  "nbformat_minor": 0,
  "metadata": {
    "colab": {
      "provenance": [],
      "authorship_tag": "ABX9TyOujAoMJHzrGHkZSKkNPMJx",
      "include_colab_link": true
    },
    "kernelspec": {
      "name": "python3",
      "display_name": "Python 3"
    },
    "language_info": {
      "name": "python"
    }
  },
  "cells": [
    {
      "cell_type": "markdown",
      "metadata": {
        "id": "view-in-github",
        "colab_type": "text"
      },
      "source": [
        "<a href=\"https://colab.research.google.com/github/jihun-shim/study_NLPs/blob/main/codes/Deeplearings/03_Regression_Linear_diatetes.ipynb\" target=\"_parent\"><img src=\"https://colab.research.google.com/assets/colab-badge.svg\" alt=\"Open In Colab\"/></a>"
      ]
    },
    {
      "cell_type": "markdown",
      "source": [
        "## 데이터수집"
      ],
      "metadata": {
        "id": "V6lAQd16JItP"
      }
    },
    {
      "cell_type": "code",
      "source": [
        "from sklearn.datasets import load_diabetes\n",
        "data_diabetes = load_diabetes()\n",
        "features,label = data_diabetes.data, data_diabetes.target\n",
        "features.shape, label.shape"
      ],
      "metadata": {
        "colab": {
          "base_uri": "https://localhost:8080/"
        },
        "id": "NpJiWQafJ10W",
        "outputId": "5d342cd9-08dc-4341-84db-b98703731f92"
      },
      "execution_count": 28,
      "outputs": [
        {
          "output_type": "execute_result",
          "data": {
            "text/plain": [
              "((442, 10), (442,))"
            ]
          },
          "metadata": {},
          "execution_count": 28
        }
      ]
    },
    {
      "cell_type": "markdown",
      "source": [
        "## 데이터 전처리\n",
        "- 데이터 분석"
      ],
      "metadata": {
        "id": "9qZyDDCSJOQX"
      }
    },
    {
      "cell_type": "markdown",
      "source": [
        "## 데이터 분할\n",
        "- train, test, validation"
      ],
      "metadata": {
        "id": "s0clEPYqJXXd"
      }
    },
    {
      "cell_type": "code",
      "source": [
        "from sklearn.model_selection import train_test_split\n",
        "train_features, test_features, train_label, test_label = train_test_split(features, label, test_size=0.2, random_state=42)"
      ],
      "metadata": {
        "id": "X2CDJ7gyKukW"
      },
      "execution_count": 29,
      "outputs": []
    },
    {
      "cell_type": "code",
      "source": [
        "import torch"
      ],
      "metadata": {
        "id": "l5yPrDB1LVDv"
      },
      "execution_count": 30,
      "outputs": []
    },
    {
      "cell_type": "code",
      "source": [
        "train_features_tensor = torch.tensor(train_features, dtype = torch.float32)\n",
        "train_label_tensor = torch.tensor(train_label, dtype = torch.float32).view(-1,1) # 행렬 모양으로 변경\n",
        "# train_features_tensor = torch.tensor(train_features)\n",
        "# train_label_tensor = torch.tensor(train_label)\n",
        "type(train_features_tensor),type(train_label_tensor), train_label_tensor.shape"
      ],
      "metadata": {
        "colab": {
          "base_uri": "https://localhost:8080/"
        },
        "id": "oPkkAD-MLe-P",
        "outputId": "bfb207b0-5781-4807-ad52-abfbf0905a1f"
      },
      "execution_count": 31,
      "outputs": [
        {
          "output_type": "execute_result",
          "data": {
            "text/plain": [
              "(torch.Tensor, torch.Tensor, torch.Size([353, 1]))"
            ]
          },
          "metadata": {},
          "execution_count": 31
        }
      ]
    },
    {
      "cell_type": "markdown",
      "source": [
        "## 모델 학습"
      ],
      "metadata": {
        "id": "QYBDBvLqJkjG"
      }
    },
    {
      "cell_type": "code",
      "source": [
        "# simple model linear regression\n",
        "class LinearRegression(torch.nn.Module):\n",
        "  def __init__(self, input_dim, output_dim):  # input_dim:fetures 열 갯수, output_dim:label 카테고리 갯수\n",
        "    super(LinearRegression, self).__init__()\n",
        "    self.linear = torch.nn.Linear(input_dim, output_dim)\n",
        "\n",
        "  def forward(self, x):\n",
        "    out = self.linear(x)\n",
        "    return out\n"
      ],
      "metadata": {
        "id": "Jl-enc3SMMk3"
      },
      "execution_count": 32,
      "outputs": []
    },
    {
      "cell_type": "code",
      "source": [
        "train_features_tensor.shape, train_label_tensor.shape"
      ],
      "metadata": {
        "colab": {
          "base_uri": "https://localhost:8080/"
        },
        "id": "0h1AQ3w-OVLW",
        "outputId": "8a1308d6-e429-497b-9469-a55f706de59e"
      },
      "execution_count": 33,
      "outputs": [
        {
          "output_type": "execute_result",
          "data": {
            "text/plain": [
              "(torch.Size([353, 10]), torch.Size([353, 1]))"
            ]
          },
          "metadata": {},
          "execution_count": 33
        }
      ]
    },
    {
      "cell_type": "code",
      "source": [
        "model = LinearRegression(10,train_label_tensor.shape[1])"
      ],
      "metadata": {
        "id": "eMOUacaVOLMm"
      },
      "execution_count": 34,
      "outputs": []
    },
    {
      "cell_type": "code",
      "source": [
        "model"
      ],
      "metadata": {
        "colab": {
          "base_uri": "https://localhost:8080/"
        },
        "id": "MBzHAhycPOPW",
        "outputId": "8a9f549c-7fce-43d1-b43b-0b00917e1c34"
      },
      "execution_count": 35,
      "outputs": [
        {
          "output_type": "execute_result",
          "data": {
            "text/plain": [
              "LinearRegression(\n",
              "  (linear): Linear(in_features=10, out_features=1, bias=True)\n",
              ")"
            ]
          },
          "metadata": {},
          "execution_count": 35
        }
      ]
    },
    {
      "cell_type": "code",
      "source": [
        "criterion = torch.nn.MSELoss() # Loss function\n",
        "optimizer = torch.optim.SGD(model.parameters(), lr=0.01) # optimizer function"
      ],
      "metadata": {
        "id": "xeYbUQRpVZ_u"
      },
      "execution_count": 36,
      "outputs": []
    },
    {
      "cell_type": "code",
      "source": [
        "## 반복 학습\n",
        "# for epoch in range(10):\n",
        "for epoch in range(1000):\n",
        "    # Forward pass: Compute predicted y by passing x to the model\n",
        "    pred_y = model(train_features_tensor)\n",
        "\n",
        "    # Compute and print loss\n",
        "    loss = criterion(pred_y, train_label_tensor)\n",
        "\n",
        "    optimizer.zero_grad()\n",
        "    loss.backward()\n",
        "    optimizer.step()\n",
        "    if epoch % 100 == 0 :\n",
        "      print('epoch:{}, loss:{}'.format(epoch, loss.item()))"
      ],
      "metadata": {
        "colab": {
          "base_uri": "https://localhost:8080/"
        },
        "id": "HKmhql0VXIXv",
        "outputId": "7eee8f9f-3ba8-4c6c-feb8-c27f771e3e2e"
      },
      "execution_count": 38,
      "outputs": [
        {
          "output_type": "stream",
          "name": "stdout",
          "text": [
            "epoch:0, loss:21811.646484375\n",
            "epoch:100, loss:6262.36962890625\n",
            "epoch:200, loss:5914.28173828125\n",
            "epoch:300, loss:5835.8564453125\n",
            "epoch:400, loss:5764.4130859375\n",
            "epoch:500, loss:5695.25732421875\n",
            "epoch:600, loss:5628.232421875\n",
            "epoch:700, loss:5563.265625\n",
            "epoch:800, loss:5500.2861328125\n",
            "epoch:900, loss:5439.228515625\n"
          ]
        }
      ]
    },
    {
      "cell_type": "markdown",
      "source": [
        "## 모델 평가"
      ],
      "metadata": {
        "id": "6J8KtjmUJpCG"
      }
    },
    {
      "cell_type": "code",
      "source": [
        "model.eval()"
      ],
      "metadata": {
        "colab": {
          "base_uri": "https://localhost:8080/"
        },
        "id": "Dlc5dEsHYsC_",
        "outputId": "33010a8f-3142-44ba-9ab5-e62a364cd25a"
      },
      "execution_count": 39,
      "outputs": [
        {
          "output_type": "execute_result",
          "data": {
            "text/plain": [
              "LinearRegression(\n",
              "  (linear): Linear(in_features=10, out_features=1, bias=True)\n",
              ")"
            ]
          },
          "metadata": {},
          "execution_count": 39
        }
      ]
    },
    {
      "cell_type": "code",
      "source": [
        "with torch.no_grad(): # 학습 목적 아닌 평가 목적 위해 고정\n",
        "  pred_y = model(train_features_tensor)\n",
        "  loss = criterion(pred_y, train_label_tensor) # 예측도 같은 Loss function\n",
        "  print('loss: {}'.format(loss.item()))"
      ],
      "metadata": {
        "colab": {
          "base_uri": "https://localhost:8080/"
        },
        "id": "e2qZkPxRY2pO",
        "outputId": "dff1ebb4-23e7-4cf8-8250-4419d2290acc"
      },
      "execution_count": 40,
      "outputs": [
        {
          "output_type": "stream",
          "name": "stdout",
          "text": [
            "loss: 5380.0263671875\n"
          ]
        }
      ]
    },
    {
      "cell_type": "markdown",
      "source": [
        "## 모델 배포"
      ],
      "metadata": {
        "id": "fBzdrnYpJtW9"
      }
    }
  ]
}