{
 "cells": [
  {
   "cell_type": "code",
   "execution_count": 1,
   "id": "f4747a3b",
   "metadata": {
    "_cell_guid": "b1076dfc-b9ad-4769-8c92-a6c4dae69d19",
    "_uuid": "8f2839f25d086af736a60e9eeb907d3b93b6e0e5",
    "execution": {
     "iopub.execute_input": "2025-02-03T08:41:49.996703Z",
     "iopub.status.busy": "2025-02-03T08:41:49.996299Z",
     "iopub.status.idle": "2025-02-03T08:41:50.750145Z",
     "shell.execute_reply": "2025-02-03T08:41:50.749146Z"
    },
    "papermill": {
     "duration": 0.759741,
     "end_time": "2025-02-03T08:41:50.751693",
     "exception": false,
     "start_time": "2025-02-03T08:41:49.991952",
     "status": "completed"
    },
    "tags": []
   },
   "outputs": [
    {
     "name": "stdout",
     "output_type": "stream",
     "text": [
      "/kaggle/input/linear_regression_nnm.pth/pytorch/default/1/linear_regression_nnm.pth\n"
     ]
    }
   ],
   "source": [
    "# This Python 3 environment comes with many helpful analytics libraries installed\n",
    "# It is defined by the kaggle/python Docker image: https://github.com/kaggle/docker-python\n",
    "# For example, here's several helpful packages to load\n",
    "\n",
    "import numpy as np # linear algebra\n",
    "import pandas as pd # data processing, CSV file I/O (e.g. pd.read_csv)\n",
    "\n",
    "# Input data files are available in the read-only \"../input/\" directory\n",
    "# For example, running this (by clicking run or pressing Shift+Enter) will list all files under the input directory\n",
    "\n",
    "import os\n",
    "for dirname, _, filenames in os.walk('/kaggle/input'):\n",
    "    for filename in filenames:\n",
    "        print(os.path.join(dirname, filename))\n",
    "\n",
    "# You can write up to 20GB to the current directory (/kaggle/working/) that gets preserved as output when you create a version using \"Save & Run All\" \n",
    "# You can also write temporary files to /kaggle/temp/, but they won't be saved outside of the current session"
   ]
  },
  {
   "cell_type": "code",
   "execution_count": 2,
   "id": "9ba83618",
   "metadata": {
    "execution": {
     "iopub.execute_input": "2025-02-03T08:41:50.758504Z",
     "iopub.status.busy": "2025-02-03T08:41:50.758013Z",
     "iopub.status.idle": "2025-02-03T08:41:54.174012Z",
     "shell.execute_reply": "2025-02-03T08:41:54.172842Z"
    },
    "papermill": {
     "duration": 3.421248,
     "end_time": "2025-02-03T08:41:54.175888",
     "exception": false,
     "start_time": "2025-02-03T08:41:50.754640",
     "status": "completed"
    },
    "tags": []
   },
   "outputs": [],
   "source": [
    "import torch\n",
    "# Neural Network model linear regression\n",
    "class LinearRegressionNNM(torch.nn.Module):\n",
    "    def __init__(self, input_dim):    # input_dim:features 열 갯수\n",
    "        super(LinearRegressionNNM, self).__init__()\n",
    "        # super(self).__init__()\n",
    "        self.hidden_1 = torch.nn.Linear(input_dim, 64)\n",
    "        self.hidden_2 = torch.nn.Linear(64, 32)\n",
    "        self.hidden_3 = torch.nn.Linear(32, 16)\n",
    "        self.output = torch.nn.Linear(16, 1)\n",
    "        self.relu = torch.nn.ReLU()  # Activation function\n",
    "\n",
    "    def forward(self, x):\n",
    "        x = self.relu(self.hidden_1(x))  # hidden layer 1\n",
    "        x = self.relu(self.hidden_2(x))  # hidden layer 2\n",
    "        x = self.relu(self.hidden_3(x))  # hidden layer 3\n",
    "        out = self.output(x)   # result\n",
    "        return out\n"
   ]
  },
  {
   "cell_type": "code",
   "execution_count": 3,
   "id": "f2c79700",
   "metadata": {
    "execution": {
     "iopub.execute_input": "2025-02-03T08:41:54.182560Z",
     "iopub.status.busy": "2025-02-03T08:41:54.182084Z",
     "iopub.status.idle": "2025-02-03T08:41:54.209652Z",
     "shell.execute_reply": "2025-02-03T08:41:54.208640Z"
    },
    "papermill": {
     "duration": 0.032336,
     "end_time": "2025-02-03T08:41:54.211130",
     "exception": false,
     "start_time": "2025-02-03T08:41:54.178794",
     "status": "completed"
    },
    "tags": []
   },
   "outputs": [
    {
     "data": {
      "text/plain": [
       "LinearRegressionNNM(\n",
       "  (hidden_1): Linear(in_features=10, out_features=64, bias=True)\n",
       "  (hidden_2): Linear(in_features=64, out_features=32, bias=True)\n",
       "  (hidden_3): Linear(in_features=32, out_features=16, bias=True)\n",
       "  (output): Linear(in_features=16, out_features=1, bias=True)\n",
       "  (relu): ReLU()\n",
       ")"
      ]
     },
     "execution_count": 3,
     "metadata": {},
     "output_type": "execute_result"
    }
   ],
   "source": [
    "loaded_model = LinearRegressionNNM(10)\n",
    "loaded_model"
   ]
  },
  {
   "cell_type": "code",
   "execution_count": 4,
   "id": "1551c842",
   "metadata": {
    "execution": {
     "iopub.execute_input": "2025-02-03T08:41:54.217661Z",
     "iopub.status.busy": "2025-02-03T08:41:54.217382Z",
     "iopub.status.idle": "2025-02-03T08:41:54.229067Z",
     "shell.execute_reply": "2025-02-03T08:41:54.228084Z"
    },
    "papermill": {
     "duration": 0.016463,
     "end_time": "2025-02-03T08:41:54.230384",
     "exception": false,
     "start_time": "2025-02-03T08:41:54.213921",
     "status": "completed"
    },
    "tags": []
   },
   "outputs": [
    {
     "name": "stderr",
     "output_type": "stream",
     "text": [
      "<ipython-input-4-f3202727984a>:1: FutureWarning: You are using `torch.load` with `weights_only=False` (the current default value), which uses the default pickle module implicitly. It is possible to construct malicious pickle data which will execute arbitrary code during unpickling (See https://github.com/pytorch/pytorch/blob/main/SECURITY.md#untrusted-models for more details). In a future release, the default value for `weights_only` will be flipped to `True`. This limits the functions that could be executed during unpickling. Arbitrary objects will no longer be allowed to be loaded via this mode unless they are explicitly allowlisted by the user via `torch.serialization.add_safe_globals`. We recommend you start setting `weights_only=True` for any use case where you don't have full control of the loaded file. Please open an issue on GitHub for any issues related to this experimental feature.\n",
      "  loaded_state_dict = torch.load(\"/kaggle/input/linear_regression_nnm.pth/pytorch/default/1/linear_regression_nnm.pth\")\n"
     ]
    }
   ],
   "source": [
    "loaded_state_dict = torch.load(\"/kaggle/input/linear_regression_nnm.pth/pytorch/default/1/linear_regression_nnm.pth\")"
   ]
  },
  {
   "cell_type": "code",
   "execution_count": 5,
   "id": "347c9885",
   "metadata": {
    "execution": {
     "iopub.execute_input": "2025-02-03T08:41:54.236495Z",
     "iopub.status.busy": "2025-02-03T08:41:54.236216Z",
     "iopub.status.idle": "2025-02-03T08:41:54.247350Z",
     "shell.execute_reply": "2025-02-03T08:41:54.246539Z"
    },
    "papermill": {
     "duration": 0.015456,
     "end_time": "2025-02-03T08:41:54.248691",
     "exception": false,
     "start_time": "2025-02-03T08:41:54.233235",
     "status": "completed"
    },
    "tags": []
   },
   "outputs": [
    {
     "data": {
      "text/plain": [
       "LinearRegressionNNM(\n",
       "  (hidden_1): Linear(in_features=10, out_features=64, bias=True)\n",
       "  (hidden_2): Linear(in_features=64, out_features=32, bias=True)\n",
       "  (hidden_3): Linear(in_features=32, out_features=16, bias=True)\n",
       "  (output): Linear(in_features=16, out_features=1, bias=True)\n",
       "  (relu): ReLU()\n",
       ")"
      ]
     },
     "execution_count": 5,
     "metadata": {},
     "output_type": "execute_result"
    }
   ],
   "source": [
    "loaded_model.load_state_dict(loaded_state_dict)\n",
    "loaded_model.eval()"
   ]
  },
  {
   "cell_type": "markdown",
   "id": "69de02e2",
   "metadata": {
    "papermill": {
     "duration": 0.002493,
     "end_time": "2025-02-03T08:41:54.253769",
     "exception": false,
     "start_time": "2025-02-03T08:41:54.251276",
     "status": "completed"
    },
    "tags": []
   },
   "source": [
    "## 데이터 예측 서비스"
   ]
  },
  {
   "cell_type": "code",
   "execution_count": 6,
   "id": "9c2797c0",
   "metadata": {
    "execution": {
     "iopub.execute_input": "2025-02-03T08:41:54.259655Z",
     "iopub.status.busy": "2025-02-03T08:41:54.259408Z",
     "iopub.status.idle": "2025-02-03T08:41:55.573847Z",
     "shell.execute_reply": "2025-02-03T08:41:55.572900Z"
    },
    "papermill": {
     "duration": 1.31903,
     "end_time": "2025-02-03T08:41:55.575261",
     "exception": false,
     "start_time": "2025-02-03T08:41:54.256231",
     "status": "completed"
    },
    "tags": []
   },
   "outputs": [
    {
     "data": {
      "text/plain": [
       "((442, 10), (442,))"
      ]
     },
     "execution_count": 6,
     "metadata": {},
     "output_type": "execute_result"
    }
   ],
   "source": [
    "# 데이터 로딩과 일부 사용\n",
    "from sklearn.datasets import load_diabetes\n",
    "data_diabetes = load_diabetes()\n",
    "features, label = data_diabetes.data, data_diabetes.target\n",
    "features.shape, label.shape"
   ]
  },
  {
   "cell_type": "code",
   "execution_count": 7,
   "id": "84df66a0",
   "metadata": {
    "execution": {
     "iopub.execute_input": "2025-02-03T08:41:55.582516Z",
     "iopub.status.busy": "2025-02-03T08:41:55.581985Z",
     "iopub.status.idle": "2025-02-03T08:41:55.629346Z",
     "shell.execute_reply": "2025-02-03T08:41:55.628275Z"
    },
    "papermill": {
     "duration": 0.053286,
     "end_time": "2025-02-03T08:41:55.631711",
     "exception": false,
     "start_time": "2025-02-03T08:41:55.578425",
     "status": "completed"
    },
    "tags": []
   },
   "outputs": [
    {
     "data": {
      "text/plain": [
       "array([[271.25162],\n",
       "       [ 78.22154],\n",
       "       [141.1666 ]], dtype=float32)"
      ]
     },
     "execution_count": 7,
     "metadata": {},
     "output_type": "execute_result"
    }
   ],
   "source": [
    "features_tensor = torch.tensor(features[:3], dtype=torch.float32)\n",
    "# features_tensor\n",
    "with torch.no_grad():\n",
    "    predicts = loaded_model(features_tensor)\n",
    "predicts.numpy()"
   ]
  },
  {
   "cell_type": "code",
   "execution_count": null,
   "id": "bb24caf3",
   "metadata": {
    "papermill": {
     "duration": 0.002776,
     "end_time": "2025-02-03T08:41:55.639183",
     "exception": false,
     "start_time": "2025-02-03T08:41:55.636407",
     "status": "completed"
    },
    "tags": []
   },
   "outputs": [],
   "source": []
  }
 ],
 "metadata": {
  "kaggle": {
   "accelerator": "none",
   "dataSources": [
    {
     "isSourceIdPinned": true,
     "modelId": 234295,
     "modelInstanceId": 212646,
     "sourceId": 248780,
     "sourceType": "modelInstanceVersion"
    }
   ],
   "dockerImageVersionId": 30839,
   "isGpuEnabled": false,
   "isInternetEnabled": false,
   "language": "python",
   "sourceType": "notebook"
  },
  "kernelspec": {
   "display_name": "Python 3",
   "language": "python",
   "name": "python3"
  },
  "language_info": {
   "codemirror_mode": {
    "name": "ipython",
    "version": 3
   },
   "file_extension": ".py",
   "mimetype": "text/x-python",
   "name": "python",
   "nbconvert_exporter": "python",
   "pygments_lexer": "ipython3",
   "version": "3.10.12"
  },
  "papermill": {
   "default_parameters": {},
   "duration": 10.525549,
   "end_time": "2025-02-03T08:41:58.026840",
   "environment_variables": {},
   "exception": null,
   "input_path": "__notebook__.ipynb",
   "output_path": "__notebook__.ipynb",
   "parameters": {},
   "start_time": "2025-02-03T08:41:47.501291",
   "version": "2.6.0"
  }
 },
 "nbformat": 4,
 "nbformat_minor": 5
}
