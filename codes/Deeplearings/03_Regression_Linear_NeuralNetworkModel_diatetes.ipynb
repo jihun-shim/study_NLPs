{
 "cells": [
  {
   "cell_type": "markdown",
   "id": "7c1c5cf3",
   "metadata": {
    "id": "oq5l7PlCJHGK",
    "papermill": {
     "duration": 0.005626,
     "end_time": "2025-02-03T08:19:57.185636",
     "exception": false,
     "start_time": "2025-02-03T08:19:57.180010",
     "status": "completed"
    },
    "tags": []
   },
   "source": [
    "## 데이터수집"
   ]
  },
  {
   "cell_type": "code",
   "execution_count": 1,
   "id": "678a295a",
   "metadata": {
    "execution": {
     "iopub.execute_input": "2025-02-03T08:19:57.197304Z",
     "iopub.status.busy": "2025-02-03T08:19:57.196880Z",
     "iopub.status.idle": "2025-02-03T08:19:59.239082Z",
     "shell.execute_reply": "2025-02-03T08:19:59.237834Z"
    },
    "id": "WWqnlVD1Jzzr",
    "outputId": "b720360d-8452-4f42-f643-f7730c47e2fd",
    "papermill": {
     "duration": 2.049952,
     "end_time": "2025-02-03T08:19:59.240838",
     "exception": false,
     "start_time": "2025-02-03T08:19:57.190886",
     "status": "completed"
    },
    "tags": []
   },
   "outputs": [
    {
     "data": {
      "text/plain": [
       "((442, 10), (442,))"
      ]
     },
     "execution_count": 1,
     "metadata": {},
     "output_type": "execute_result"
    }
   ],
   "source": [
    "from sklearn.datasets import load_diabetes\n",
    "data_diabetes = load_diabetes()\n",
    "features, label = data_diabetes.data, data_diabetes.target\n",
    "features.shape, label.shape"
   ]
  },
  {
   "cell_type": "markdown",
   "id": "c8387b7f",
   "metadata": {
    "id": "5KcIOhMiJNKp",
    "papermill": {
     "duration": 0.004984,
     "end_time": "2025-02-03T08:19:59.251296",
     "exception": false,
     "start_time": "2025-02-03T08:19:59.246312",
     "status": "completed"
    },
    "tags": []
   },
   "source": [
    "## 데이터 전처리\n",
    "- 데이터 분석"
   ]
  },
  {
   "cell_type": "markdown",
   "id": "2a06e5a0",
   "metadata": {
    "id": "zucSSN6sJWJC",
    "papermill": {
     "duration": 0.004887,
     "end_time": "2025-02-03T08:19:59.261463",
     "exception": false,
     "start_time": "2025-02-03T08:19:59.256576",
     "status": "completed"
    },
    "tags": []
   },
   "source": [
    "## 데이터 분할\n",
    "- train, test, validation"
   ]
  },
  {
   "cell_type": "code",
   "execution_count": 2,
   "id": "cb457496",
   "metadata": {
    "execution": {
     "iopub.execute_input": "2025-02-03T08:19:59.273262Z",
     "iopub.status.busy": "2025-02-03T08:19:59.272751Z",
     "iopub.status.idle": "2025-02-03T08:19:59.448465Z",
     "shell.execute_reply": "2025-02-03T08:19:59.447293Z"
    },
    "id": "H4Bwj5IvKsXq",
    "papermill": {
     "duration": 0.183969,
     "end_time": "2025-02-03T08:19:59.450589",
     "exception": false,
     "start_time": "2025-02-03T08:19:59.266620",
     "status": "completed"
    },
    "tags": []
   },
   "outputs": [],
   "source": [
    "from sklearn.model_selection import train_test_split\n",
    "train_features, test_features, train_label, test_label = train_test_split(features, label, test_size=0.2, random_state=42)"
   ]
  },
  {
   "cell_type": "code",
   "execution_count": 3,
   "id": "6354fdc2",
   "metadata": {
    "execution": {
     "iopub.execute_input": "2025-02-03T08:19:59.462895Z",
     "iopub.status.busy": "2025-02-03T08:19:59.462503Z",
     "iopub.status.idle": "2025-02-03T08:20:04.663710Z",
     "shell.execute_reply": "2025-02-03T08:20:04.662559Z"
    },
    "id": "yuhS4Jc9LQbZ",
    "papermill": {
     "duration": 5.209757,
     "end_time": "2025-02-03T08:20:04.665790",
     "exception": false,
     "start_time": "2025-02-03T08:19:59.456033",
     "status": "completed"
    },
    "tags": []
   },
   "outputs": [],
   "source": [
    "import torch"
   ]
  },
  {
   "cell_type": "code",
   "execution_count": 4,
   "id": "54c3a69f",
   "metadata": {
    "execution": {
     "iopub.execute_input": "2025-02-03T08:20:04.678216Z",
     "iopub.status.busy": "2025-02-03T08:20:04.677679Z",
     "iopub.status.idle": "2025-02-03T08:20:04.742328Z",
     "shell.execute_reply": "2025-02-03T08:20:04.741390Z"
    },
    "id": "t_YAJ9mELdpZ",
    "outputId": "c71d840d-763a-4497-b6c6-1e27a09e71c6",
    "papermill": {
     "duration": 0.072532,
     "end_time": "2025-02-03T08:20:04.743942",
     "exception": false,
     "start_time": "2025-02-03T08:20:04.671410",
     "status": "completed"
    },
    "tags": []
   },
   "outputs": [
    {
     "data": {
      "text/plain": [
       "(torch.Tensor, torch.Tensor, torch.Size([353, 1]))"
      ]
     },
     "execution_count": 4,
     "metadata": {},
     "output_type": "execute_result"
    }
   ],
   "source": [
    "train_features_tensor = torch.tensor(train_features, dtype=torch.float32)\n",
    "train_label_tensor = torch.tensor(train_label, dtype=torch.float32).view(-1, 1)    # 행렬 모양으로 변경\n",
    "# test_features_tensor = torch.tensor(test_features)\n",
    "# test_label_tensor = torch.tensor(test_label)\n",
    "type(train_features_tensor), type(train_label_tensor), train_label_tensor.shape"
   ]
  },
  {
   "cell_type": "markdown",
   "id": "d1f72507",
   "metadata": {
    "id": "nATrFQ0EJjwJ",
    "papermill": {
     "duration": 0.005004,
     "end_time": "2025-02-03T08:20:04.754626",
     "exception": false,
     "start_time": "2025-02-03T08:20:04.749622",
     "status": "completed"
    },
    "tags": []
   },
   "source": [
    "## 모델 학습"
   ]
  },
  {
   "cell_type": "code",
   "execution_count": 5,
   "id": "ca17b610",
   "metadata": {
    "execution": {
     "iopub.execute_input": "2025-02-03T08:20:04.766417Z",
     "iopub.status.busy": "2025-02-03T08:20:04.766054Z",
     "iopub.status.idle": "2025-02-03T08:20:04.820787Z",
     "shell.execute_reply": "2025-02-03T08:20:04.819822Z"
    },
    "papermill": {
     "duration": 0.06277,
     "end_time": "2025-02-03T08:20:04.822644",
     "exception": false,
     "start_time": "2025-02-03T08:20:04.759874",
     "status": "completed"
    },
    "tags": []
   },
   "outputs": [],
   "source": [
    "torch.nn.Module?"
   ]
  },
  {
   "cell_type": "code",
   "execution_count": 6,
   "id": "f8e519f5",
   "metadata": {
    "execution": {
     "iopub.execute_input": "2025-02-03T08:20:04.834567Z",
     "iopub.status.busy": "2025-02-03T08:20:04.834231Z",
     "iopub.status.idle": "2025-02-03T08:20:04.840370Z",
     "shell.execute_reply": "2025-02-03T08:20:04.839429Z"
    },
    "id": "-pe2fsPfL9gp",
    "papermill": {
     "duration": 0.013954,
     "end_time": "2025-02-03T08:20:04.841972",
     "exception": false,
     "start_time": "2025-02-03T08:20:04.828018",
     "status": "completed"
    },
    "tags": []
   },
   "outputs": [],
   "source": [
    "# Neural Network model linear regression\n",
    "class LinearRegressionNNM(torch.nn.Module):\n",
    "    def __init__(self, input_dim):    # input_dim:features 열 갯수\n",
    "        super(LinearRegressionNNM, self).__init__()\n",
    "        # super(self).__init__()\n",
    "        self.hidden_1 = torch.nn.Linear(input_dim, 64)\n",
    "        self.hidden_2 = torch.nn.Linear(64, 32)\n",
    "        self.hidden_3 = torch.nn.Linear(32, 16)\n",
    "        self.output = torch.nn.Linear(16, 1)\n",
    "        self.relu = torch.nn.ReLU()  # Activation function\n",
    "\n",
    "    def forward(self, x):\n",
    "        x = self.relu(self.hidden_1(x))  # hidden layer 1\n",
    "        x = self.relu(self.hidden_2(x))  # hidden layer 2\n",
    "        x = self.relu(self.hidden_3(x))  # hidden layer 3\n",
    "        out = self.output(x)   # result\n",
    "        return out\n"
   ]
  },
  {
   "cell_type": "code",
   "execution_count": 7,
   "id": "3cce9ea1",
   "metadata": {
    "execution": {
     "iopub.execute_input": "2025-02-03T08:20:04.854141Z",
     "iopub.status.busy": "2025-02-03T08:20:04.853719Z",
     "iopub.status.idle": "2025-02-03T08:20:04.859666Z",
     "shell.execute_reply": "2025-02-03T08:20:04.858661Z"
    },
    "id": "gJRMFMXjOToZ",
    "outputId": "eff5c085-ceb2-462a-975f-ef6f08e71131",
    "papermill": {
     "duration": 0.013925,
     "end_time": "2025-02-03T08:20:04.861327",
     "exception": false,
     "start_time": "2025-02-03T08:20:04.847402",
     "status": "completed"
    },
    "tags": []
   },
   "outputs": [
    {
     "data": {
      "text/plain": [
       "(torch.Size([353, 10]), torch.Size([353, 1]))"
      ]
     },
     "execution_count": 7,
     "metadata": {},
     "output_type": "execute_result"
    }
   ],
   "source": [
    "train_features_tensor.shape, train_label_tensor.shape"
   ]
  },
  {
   "cell_type": "code",
   "execution_count": 8,
   "id": "f4418392",
   "metadata": {
    "execution": {
     "iopub.execute_input": "2025-02-03T08:20:04.873447Z",
     "iopub.status.busy": "2025-02-03T08:20:04.873069Z",
     "iopub.status.idle": "2025-02-03T08:20:04.893382Z",
     "shell.execute_reply": "2025-02-03T08:20:04.892216Z"
    },
    "id": "N6dfYfN9OKVZ",
    "papermill": {
     "duration": 0.028496,
     "end_time": "2025-02-03T08:20:04.895320",
     "exception": false,
     "start_time": "2025-02-03T08:20:04.866824",
     "status": "completed"
    },
    "tags": []
   },
   "outputs": [],
   "source": [
    "model = LinearRegressionNNM(10)"
   ]
  },
  {
   "cell_type": "code",
   "execution_count": 9,
   "id": "5e8c2e21",
   "metadata": {
    "execution": {
     "iopub.execute_input": "2025-02-03T08:20:04.907569Z",
     "iopub.status.busy": "2025-02-03T08:20:04.907189Z",
     "iopub.status.idle": "2025-02-03T08:20:04.912969Z",
     "shell.execute_reply": "2025-02-03T08:20:04.912010Z"
    },
    "id": "Vu7UEFjrPNGR",
    "outputId": "2459ef1f-9b7b-4392-90db-0c868ab350f4",
    "papermill": {
     "duration": 0.01384,
     "end_time": "2025-02-03T08:20:04.914689",
     "exception": false,
     "start_time": "2025-02-03T08:20:04.900849",
     "status": "completed"
    },
    "tags": []
   },
   "outputs": [
    {
     "data": {
      "text/plain": [
       "LinearRegressionNNM(\n",
       "  (hidden_1): Linear(in_features=10, out_features=64, bias=True)\n",
       "  (hidden_2): Linear(in_features=64, out_features=32, bias=True)\n",
       "  (hidden_3): Linear(in_features=32, out_features=16, bias=True)\n",
       "  (output): Linear(in_features=16, out_features=1, bias=True)\n",
       "  (relu): ReLU()\n",
       ")"
      ]
     },
     "execution_count": 9,
     "metadata": {},
     "output_type": "execute_result"
    }
   ],
   "source": [
    "model"
   ]
  },
  {
   "cell_type": "code",
   "execution_count": 10,
   "id": "1183bae7",
   "metadata": {
    "execution": {
     "iopub.execute_input": "2025-02-03T08:20:04.926910Z",
     "iopub.status.busy": "2025-02-03T08:20:04.926525Z",
     "iopub.status.idle": "2025-02-03T08:20:09.907099Z",
     "shell.execute_reply": "2025-02-03T08:20:09.905892Z"
    },
    "id": "PkH3WN7eVZE6",
    "papermill": {
     "duration": 4.988667,
     "end_time": "2025-02-03T08:20:09.909042",
     "exception": false,
     "start_time": "2025-02-03T08:20:04.920375",
     "status": "completed"
    },
    "tags": []
   },
   "outputs": [],
   "source": [
    "criterion = torch.nn.MSELoss()  # Loss function\n",
    "# optimizer = torch.optim.SGD(model.parameters(), lr=0.01)  # optimizer function\n",
    "optimizer = torch.optim.Adam(model.parameters(), lr=0.001)  # optimizer function"
   ]
  },
  {
   "cell_type": "code",
   "execution_count": 11,
   "id": "3c88a099",
   "metadata": {
    "execution": {
     "iopub.execute_input": "2025-02-03T08:20:09.923125Z",
     "iopub.status.busy": "2025-02-03T08:20:09.922556Z",
     "iopub.status.idle": "2025-02-03T08:20:27.612502Z",
     "shell.execute_reply": "2025-02-03T08:20:27.611059Z"
    },
    "id": "fAp4BWFOWpvJ",
    "outputId": "c011f3aa-ea92-4172-8073-244b0321a5e7",
    "papermill": {
     "duration": 17.699655,
     "end_time": "2025-02-03T08:20:27.614612",
     "exception": false,
     "start_time": "2025-02-03T08:20:09.914957",
     "status": "completed"
    },
    "tags": []
   },
   "outputs": [
    {
     "name": "stdout",
     "output_type": "stream",
     "text": [
      "epoch: 0, loss: 29696.419921875\n",
      "epoch: 1000, loss: 2989.015625\n",
      "epoch: 2000, loss: 2884.371826171875\n",
      "epoch: 3000, loss: 2812.9599609375\n",
      "epoch: 4000, loss: 2719.09814453125\n",
      "epoch: 5000, loss: 2546.85009765625\n",
      "epoch: 6000, loss: 1873.1138916015625\n",
      "epoch: 7000, loss: 1250.5435791015625\n",
      "epoch: 8000, loss: 744.6486206054688\n",
      "epoch: 9000, loss: 474.44769287109375\n"
     ]
    }
   ],
   "source": [
    "## 반복 학습\n",
    "# for epoch in range(10):\n",
    "# for epoch in range(1000):\n",
    "for epoch in range(10000):\n",
    "    # Forward pass: Compute predicted y by passing x to the model\n",
    "    pred_y = model(train_features_tensor)\n",
    "\n",
    "    # Compute and print loss\n",
    "    loss = criterion(pred_y, train_label_tensor)\n",
    "\n",
    "    optimizer.zero_grad()\n",
    "    loss.backward()\n",
    "    optimizer.step()\n",
    "    if epoch % 1000 == 0:\n",
    "      print('epoch: {}, loss: {}'.format(epoch, loss.item()))"
   ]
  },
  {
   "cell_type": "code",
   "execution_count": 12,
   "id": "8c74058b",
   "metadata": {
    "execution": {
     "iopub.execute_input": "2025-02-03T08:20:27.630867Z",
     "iopub.status.busy": "2025-02-03T08:20:27.630444Z",
     "iopub.status.idle": "2025-02-03T08:20:27.637250Z",
     "shell.execute_reply": "2025-02-03T08:20:27.636143Z"
    },
    "papermill": {
     "duration": 0.016806,
     "end_time": "2025-02-03T08:20:27.639244",
     "exception": false,
     "start_time": "2025-02-03T08:20:27.622438",
     "status": "completed"
    },
    "tags": []
   },
   "outputs": [
    {
     "data": {
      "text/plain": [
       "odict_keys(['hidden_1.weight', 'hidden_1.bias', 'hidden_2.weight', 'hidden_2.bias', 'hidden_3.weight', 'hidden_3.bias', 'output.weight', 'output.bias'])"
      ]
     },
     "execution_count": 12,
     "metadata": {},
     "output_type": "execute_result"
    }
   ],
   "source": [
    "# 전체 weight와 bias\n",
    "# model.state_dict()\n",
    "model.state_dict().keys()"
   ]
  },
  {
   "cell_type": "code",
   "execution_count": 13,
   "id": "bbfc745e",
   "metadata": {
    "execution": {
     "iopub.execute_input": "2025-02-03T08:20:27.653028Z",
     "iopub.status.busy": "2025-02-03T08:20:27.652597Z",
     "iopub.status.idle": "2025-02-03T08:20:27.659355Z",
     "shell.execute_reply": "2025-02-03T08:20:27.658306Z"
    },
    "papermill": {
     "duration": 0.015612,
     "end_time": "2025-02-03T08:20:27.661187",
     "exception": false,
     "start_time": "2025-02-03T08:20:27.645575",
     "status": "completed"
    },
    "tags": []
   },
   "outputs": [
    {
     "data": {
      "text/plain": [
       "(torch.Size([64, 10]), torch.Size([64]))"
      ]
     },
     "execution_count": 13,
     "metadata": {},
     "output_type": "execute_result"
    }
   ],
   "source": [
    "model.state_dict()['hidden_1.weight'].shape, model.state_dict()['hidden_1.bias'].shape"
   ]
  },
  {
   "cell_type": "code",
   "execution_count": 14,
   "id": "829bb286",
   "metadata": {
    "execution": {
     "iopub.execute_input": "2025-02-03T08:20:27.674996Z",
     "iopub.status.busy": "2025-02-03T08:20:27.674582Z",
     "iopub.status.idle": "2025-02-03T08:20:27.681261Z",
     "shell.execute_reply": "2025-02-03T08:20:27.680287Z"
    },
    "papermill": {
     "duration": 0.015419,
     "end_time": "2025-02-03T08:20:27.682936",
     "exception": false,
     "start_time": "2025-02-03T08:20:27.667517",
     "status": "completed"
    },
    "tags": []
   },
   "outputs": [
    {
     "data": {
      "text/plain": [
       "(torch.Size([32, 64]), torch.Size([32]))"
      ]
     },
     "execution_count": 14,
     "metadata": {},
     "output_type": "execute_result"
    }
   ],
   "source": [
    "model.state_dict()['hidden_2.weight'].shape, model.state_dict()['hidden_2.bias'].shape"
   ]
  },
  {
   "cell_type": "code",
   "execution_count": 15,
   "id": "d9484c54",
   "metadata": {
    "execution": {
     "iopub.execute_input": "2025-02-03T08:20:27.697323Z",
     "iopub.status.busy": "2025-02-03T08:20:27.696913Z",
     "iopub.status.idle": "2025-02-03T08:20:27.704466Z",
     "shell.execute_reply": "2025-02-03T08:20:27.703182Z"
    },
    "papermill": {
     "duration": 0.016514,
     "end_time": "2025-02-03T08:20:27.706356",
     "exception": false,
     "start_time": "2025-02-03T08:20:27.689842",
     "status": "completed"
    },
    "tags": []
   },
   "outputs": [
    {
     "data": {
      "text/plain": [
       "(torch.Size([1, 16]), torch.Size([1]))"
      ]
     },
     "execution_count": 15,
     "metadata": {},
     "output_type": "execute_result"
    }
   ],
   "source": [
    "model.state_dict()['output.weight'].shape, model.state_dict()['output.bias'].shape"
   ]
  },
  {
   "cell_type": "markdown",
   "id": "52d3f5c3",
   "metadata": {
    "id": "Vm7nLFcqJn6h",
    "papermill": {
     "duration": 0.006457,
     "end_time": "2025-02-03T08:20:27.719560",
     "exception": false,
     "start_time": "2025-02-03T08:20:27.713103",
     "status": "completed"
    },
    "tags": []
   },
   "source": [
    "## 모델 평가"
   ]
  },
  {
   "cell_type": "code",
   "execution_count": 16,
   "id": "9a4faa46",
   "metadata": {
    "execution": {
     "iopub.execute_input": "2025-02-03T08:20:27.734010Z",
     "iopub.status.busy": "2025-02-03T08:20:27.733575Z",
     "iopub.status.idle": "2025-02-03T08:20:27.739893Z",
     "shell.execute_reply": "2025-02-03T08:20:27.738820Z"
    },
    "id": "TcxYXQj2YojK",
    "outputId": "b216ed77-ae65-4995-c99f-8858c92b4136",
    "papermill": {
     "duration": 0.015327,
     "end_time": "2025-02-03T08:20:27.741584",
     "exception": false,
     "start_time": "2025-02-03T08:20:27.726257",
     "status": "completed"
    },
    "tags": []
   },
   "outputs": [
    {
     "data": {
      "text/plain": [
       "LinearRegressionNNM(\n",
       "  (hidden_1): Linear(in_features=10, out_features=64, bias=True)\n",
       "  (hidden_2): Linear(in_features=64, out_features=32, bias=True)\n",
       "  (hidden_3): Linear(in_features=32, out_features=16, bias=True)\n",
       "  (output): Linear(in_features=16, out_features=1, bias=True)\n",
       "  (relu): ReLU()\n",
       ")"
      ]
     },
     "execution_count": 16,
     "metadata": {},
     "output_type": "execute_result"
    }
   ],
   "source": [
    "model.eval()"
   ]
  },
  {
   "cell_type": "code",
   "execution_count": 17,
   "id": "0289a63b",
   "metadata": {
    "execution": {
     "iopub.execute_input": "2025-02-03T08:20:27.756955Z",
     "iopub.status.busy": "2025-02-03T08:20:27.756564Z",
     "iopub.status.idle": "2025-02-03T08:20:27.763258Z",
     "shell.execute_reply": "2025-02-03T08:20:27.762060Z"
    },
    "id": "kZsIrHPnYsox",
    "outputId": "0d4c2cb2-9995-4f3c-d8ec-b51200d652db",
    "papermill": {
     "duration": 0.016054,
     "end_time": "2025-02-03T08:20:27.764929",
     "exception": false,
     "start_time": "2025-02-03T08:20:27.748875",
     "status": "completed"
    },
    "tags": []
   },
   "outputs": [
    {
     "name": "stdout",
     "output_type": "stream",
     "text": [
      "loss: 256.3682861328125\n"
     ]
    }
   ],
   "source": [
    "with torch.no_grad():   # 학습 목적 아닌 평가 목적 위해 고정\n",
    "    pred_y = model(train_features_tensor)\n",
    "    loss = criterion(pred_y, train_label_tensor)  # 예측도 같은 Loss function\n",
    "    print('loss: {}'.format(loss.item()))"
   ]
  },
  {
   "cell_type": "code",
   "execution_count": 18,
   "id": "0d9c3ff2",
   "metadata": {
    "execution": {
     "iopub.execute_input": "2025-02-03T08:20:27.779616Z",
     "iopub.status.busy": "2025-02-03T08:20:27.779284Z",
     "iopub.status.idle": "2025-02-03T08:20:27.805987Z",
     "shell.execute_reply": "2025-02-03T08:20:27.804866Z"
    },
    "papermill": {
     "duration": 0.036049,
     "end_time": "2025-02-03T08:20:27.807815",
     "exception": false,
     "start_time": "2025-02-03T08:20:27.771766",
     "status": "completed"
    },
    "tags": []
   },
   "outputs": [
    {
     "data": {
      "text/plain": [
       "(tensor([140.1918]), 144.0)"
      ]
     },
     "execution_count": 18,
     "metadata": {},
     "output_type": "execute_result"
    }
   ],
   "source": [
    "# 결과 값(예측값, 원래값)\n",
    "pred_y[0], train_label[0]"
   ]
  },
  {
   "cell_type": "markdown",
   "id": "f49b2bed",
   "metadata": {
    "id": "AmEg3DFvJqlK",
    "papermill": {
     "duration": 0.006424,
     "end_time": "2025-02-03T08:20:27.821454",
     "exception": false,
     "start_time": "2025-02-03T08:20:27.815030",
     "status": "completed"
    },
    "tags": []
   },
   "source": [
    "## 모델 배포"
   ]
  },
  {
   "cell_type": "code",
   "execution_count": 19,
   "id": "65439824",
   "metadata": {
    "execution": {
     "iopub.execute_input": "2025-02-03T08:20:27.836889Z",
     "iopub.status.busy": "2025-02-03T08:20:27.836466Z",
     "iopub.status.idle": "2025-02-03T08:20:27.843424Z",
     "shell.execute_reply": "2025-02-03T08:20:27.842513Z"
    },
    "id": "L1Hp5HyRI3ov",
    "papermill": {
     "duration": 0.016681,
     "end_time": "2025-02-03T08:20:27.845197",
     "exception": false,
     "start_time": "2025-02-03T08:20:27.828516",
     "status": "completed"
    },
    "tags": []
   },
   "outputs": [],
   "source": [
    "# 모델 weight와 bias 파일로 저장(checkpoints)\n",
    "torch.save(model.state_dict(),\"linear_regression_nnm.pth\")"
   ]
  },
  {
   "cell_type": "code",
   "execution_count": null,
   "id": "1a8dd974",
   "metadata": {
    "papermill": {
     "duration": 0.006254,
     "end_time": "2025-02-03T08:20:27.858184",
     "exception": false,
     "start_time": "2025-02-03T08:20:27.851930",
     "status": "completed"
    },
    "tags": []
   },
   "outputs": [],
   "source": []
  }
 ],
 "metadata": {
  "colab": {
   "provenance": []
  },
  "kaggle": {
   "accelerator": "none",
   "dataSources": [],
   "dockerImageVersionId": 30839,
   "isGpuEnabled": false,
   "isInternetEnabled": false,
   "language": "python",
   "sourceType": "notebook"
  },
  "kernelspec": {
   "display_name": "Python 3",
   "language": "python",
   "name": "python3"
  },
  "language_info": {
   "codemirror_mode": {
    "name": "ipython",
    "version": 3
   },
   "file_extension": ".py",
   "mimetype": "text/x-python",
   "name": "python",
   "nbconvert_exporter": "python",
   "pygments_lexer": "ipython3",
   "version": "3.10.12"
  },
  "papermill": {
   "default_parameters": {},
   "duration": 36.632072,
   "end_time": "2025-02-03T08:20:30.750062",
   "environment_variables": {},
   "exception": null,
   "input_path": "__notebook__.ipynb",
   "output_path": "__notebook__.ipynb",
   "parameters": {},
   "start_time": "2025-02-03T08:19:54.117990",
   "version": "2.6.0"
  }
 },
 "nbformat": 4,
 "nbformat_minor": 5
}
