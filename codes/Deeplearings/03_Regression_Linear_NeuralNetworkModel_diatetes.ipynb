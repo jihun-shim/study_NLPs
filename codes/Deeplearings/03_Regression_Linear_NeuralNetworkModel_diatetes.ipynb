{
 "cells": [
  {
   "cell_type": "markdown",
   "id": "e4917d60",
   "metadata": {
    "id": "oq5l7PlCJHGK",
    "papermill": {
     "duration": 0.005021,
     "end_time": "2025-02-03T05:42:04.524725",
     "exception": false,
     "start_time": "2025-02-03T05:42:04.519704",
     "status": "completed"
    },
    "tags": []
   },
   "source": [
    "## 데이터수집"
   ]
  },
  {
   "cell_type": "code",
   "execution_count": 1,
   "id": "ba5f577e",
   "metadata": {
    "execution": {
     "iopub.execute_input": "2025-02-03T05:42:04.534547Z",
     "iopub.status.busy": "2025-02-03T05:42:04.534238Z",
     "iopub.status.idle": "2025-02-03T05:42:06.065480Z",
     "shell.execute_reply": "2025-02-03T05:42:06.064510Z"
    },
    "id": "WWqnlVD1Jzzr",
    "outputId": "b720360d-8452-4f42-f643-f7730c47e2fd",
    "papermill": {
     "duration": 1.537961,
     "end_time": "2025-02-03T05:42:06.067137",
     "exception": false,
     "start_time": "2025-02-03T05:42:04.529176",
     "status": "completed"
    },
    "tags": []
   },
   "outputs": [
    {
     "data": {
      "text/plain": [
       "((442, 10), (442,))"
      ]
     },
     "execution_count": 1,
     "metadata": {},
     "output_type": "execute_result"
    }
   ],
   "source": [
    "from sklearn.datasets import load_diabetes\n",
    "data_diabetes = load_diabetes()\n",
    "features, label = data_diabetes.data, data_diabetes.target\n",
    "features.shape, label.shape"
   ]
  },
  {
   "cell_type": "markdown",
   "id": "848bdbae",
   "metadata": {
    "id": "5KcIOhMiJNKp",
    "papermill": {
     "duration": 0.004002,
     "end_time": "2025-02-03T05:42:06.075799",
     "exception": false,
     "start_time": "2025-02-03T05:42:06.071797",
     "status": "completed"
    },
    "tags": []
   },
   "source": [
    "## 데이터 전처리\n",
    "- 데이터 분석"
   ]
  },
  {
   "cell_type": "markdown",
   "id": "35bec3b6",
   "metadata": {
    "id": "zucSSN6sJWJC",
    "papermill": {
     "duration": 0.003941,
     "end_time": "2025-02-03T05:42:06.083942",
     "exception": false,
     "start_time": "2025-02-03T05:42:06.080001",
     "status": "completed"
    },
    "tags": []
   },
   "source": [
    "## 데이터 분할\n",
    "- train, test, validation"
   ]
  },
  {
   "cell_type": "code",
   "execution_count": 2,
   "id": "217378d0",
   "metadata": {
    "execution": {
     "iopub.execute_input": "2025-02-03T05:42:06.093507Z",
     "iopub.status.busy": "2025-02-03T05:42:06.093037Z",
     "iopub.status.idle": "2025-02-03T05:42:06.226194Z",
     "shell.execute_reply": "2025-02-03T05:42:06.225130Z"
    },
    "id": "H4Bwj5IvKsXq",
    "papermill": {
     "duration": 0.140012,
     "end_time": "2025-02-03T05:42:06.228035",
     "exception": false,
     "start_time": "2025-02-03T05:42:06.088023",
     "status": "completed"
    },
    "tags": []
   },
   "outputs": [],
   "source": [
    "from sklearn.model_selection import train_test_split\n",
    "train_features, test_features, train_label, test_label = train_test_split(features, label, test_size=0.2, random_state=42)"
   ]
  },
  {
   "cell_type": "code",
   "execution_count": 3,
   "id": "7629523f",
   "metadata": {
    "execution": {
     "iopub.execute_input": "2025-02-03T05:42:06.238414Z",
     "iopub.status.busy": "2025-02-03T05:42:06.238068Z",
     "iopub.status.idle": "2025-02-03T05:42:10.541786Z",
     "shell.execute_reply": "2025-02-03T05:42:10.540963Z"
    },
    "id": "yuhS4Jc9LQbZ",
    "papermill": {
     "duration": 4.311075,
     "end_time": "2025-02-03T05:42:10.543740",
     "exception": false,
     "start_time": "2025-02-03T05:42:06.232665",
     "status": "completed"
    },
    "tags": []
   },
   "outputs": [],
   "source": [
    "import torch"
   ]
  },
  {
   "cell_type": "code",
   "execution_count": 4,
   "id": "81e3b6c7",
   "metadata": {
    "execution": {
     "iopub.execute_input": "2025-02-03T05:42:10.554024Z",
     "iopub.status.busy": "2025-02-03T05:42:10.553547Z",
     "iopub.status.idle": "2025-02-03T05:42:10.605650Z",
     "shell.execute_reply": "2025-02-03T05:42:10.604456Z"
    },
    "id": "t_YAJ9mELdpZ",
    "outputId": "c71d840d-763a-4497-b6c6-1e27a09e71c6",
    "papermill": {
     "duration": 0.059473,
     "end_time": "2025-02-03T05:42:10.607804",
     "exception": false,
     "start_time": "2025-02-03T05:42:10.548331",
     "status": "completed"
    },
    "tags": []
   },
   "outputs": [
    {
     "data": {
      "text/plain": [
       "(torch.Tensor, torch.Tensor, torch.Size([353, 1]))"
      ]
     },
     "execution_count": 4,
     "metadata": {},
     "output_type": "execute_result"
    }
   ],
   "source": [
    "train_features_tensor = torch.tensor(train_features, dtype=torch.float32)\n",
    "train_label_tensor = torch.tensor(train_label, dtype=torch.float32).view(-1, 1)    # 행렬 모양으로 변경\n",
    "# test_features_tensor = torch.tensor(test_features)\n",
    "# test_label_tensor = torch.tensor(test_label)\n",
    "type(train_features_tensor), type(train_label_tensor), train_label_tensor.shape"
   ]
  },
  {
   "cell_type": "markdown",
   "id": "3fd26cd0",
   "metadata": {
    "id": "nATrFQ0EJjwJ",
    "papermill": {
     "duration": 0.004601,
     "end_time": "2025-02-03T05:42:10.619960",
     "exception": false,
     "start_time": "2025-02-03T05:42:10.615359",
     "status": "completed"
    },
    "tags": []
   },
   "source": [
    "## 모델 학습"
   ]
  },
  {
   "cell_type": "code",
   "execution_count": 5,
   "id": "76f3015a",
   "metadata": {
    "collapsed": true,
    "execution": {
     "iopub.execute_input": "2025-02-03T05:42:10.636922Z",
     "iopub.status.busy": "2025-02-03T05:42:10.636528Z",
     "iopub.status.idle": "2025-02-03T05:42:10.693825Z",
     "shell.execute_reply": "2025-02-03T05:42:10.692695Z"
    },
    "jupyter": {
     "outputs_hidden": true
    },
    "papermill": {
     "duration": 0.067568,
     "end_time": "2025-02-03T05:42:10.695812",
     "exception": false,
     "start_time": "2025-02-03T05:42:10.628244",
     "status": "completed"
    },
    "tags": []
   },
   "outputs": [],
   "source": [
    "torch.nn.Module?"
   ]
  },
  {
   "cell_type": "code",
   "execution_count": 6,
   "id": "5f7499a6",
   "metadata": {
    "execution": {
     "iopub.execute_input": "2025-02-03T05:42:10.706961Z",
     "iopub.status.busy": "2025-02-03T05:42:10.706571Z",
     "iopub.status.idle": "2025-02-03T05:42:10.715269Z",
     "shell.execute_reply": "2025-02-03T05:42:10.713957Z"
    },
    "id": "-pe2fsPfL9gp",
    "papermill": {
     "duration": 0.016601,
     "end_time": "2025-02-03T05:42:10.717175",
     "exception": false,
     "start_time": "2025-02-03T05:42:10.700574",
     "status": "completed"
    },
    "tags": []
   },
   "outputs": [],
   "source": [
    "# Neural Network model linear regression\n",
    "class LinearRegressionNNM(torch.nn.Module):\n",
    "    def __init__(self, input_dim):    # input_dim:features 열 갯수\n",
    "        super(LinearRegressionNNM, self).__init__()\n",
    "        # super(self).__init__()\n",
    "        self.hidden_1 = torch.nn.Linear(input_dim, 64)\n",
    "        self.hidden_2 = torch.nn.Linear(64, 32)\n",
    "        self.hidden_3 = torch.nn.Linear(32, 16)\n",
    "        self.output = torch.nn.Linear(16, 1)\n",
    "        self.relu = torch.nn.ReLU()  # Activation function\n",
    "\n",
    "    def forward(self, x):\n",
    "        x = self.relu(self.hidden_1(x))  # hidden layer 1\n",
    "        x = self.relu(self.hidden_2(x))  # hidden layer 2\n",
    "        x = self.relu(self.hidden_3(x))  # hidden layer 3\n",
    "        out = self.output(x)   # result\n",
    "        return out\n"
   ]
  },
  {
   "cell_type": "code",
   "execution_count": 7,
   "id": "a3486c77",
   "metadata": {
    "execution": {
     "iopub.execute_input": "2025-02-03T05:42:10.729339Z",
     "iopub.status.busy": "2025-02-03T05:42:10.728832Z",
     "iopub.status.idle": "2025-02-03T05:42:10.734287Z",
     "shell.execute_reply": "2025-02-03T05:42:10.733413Z"
    },
    "id": "gJRMFMXjOToZ",
    "outputId": "eff5c085-ceb2-462a-975f-ef6f08e71131",
    "papermill": {
     "duration": 0.013,
     "end_time": "2025-02-03T05:42:10.736004",
     "exception": false,
     "start_time": "2025-02-03T05:42:10.723004",
     "status": "completed"
    },
    "tags": []
   },
   "outputs": [
    {
     "data": {
      "text/plain": [
       "(torch.Size([353, 10]), torch.Size([353, 1]))"
      ]
     },
     "execution_count": 7,
     "metadata": {},
     "output_type": "execute_result"
    }
   ],
   "source": [
    "train_features_tensor.shape, train_label_tensor.shape"
   ]
  },
  {
   "cell_type": "code",
   "execution_count": 8,
   "id": "628d60da",
   "metadata": {
    "execution": {
     "iopub.execute_input": "2025-02-03T05:42:10.752216Z",
     "iopub.status.busy": "2025-02-03T05:42:10.751679Z",
     "iopub.status.idle": "2025-02-03T05:42:10.768774Z",
     "shell.execute_reply": "2025-02-03T05:42:10.768010Z"
    },
    "id": "N6dfYfN9OKVZ",
    "papermill": {
     "duration": 0.029453,
     "end_time": "2025-02-03T05:42:10.770826",
     "exception": false,
     "start_time": "2025-02-03T05:42:10.741373",
     "status": "completed"
    },
    "tags": []
   },
   "outputs": [],
   "source": [
    "model = LinearRegressionNNM(10)"
   ]
  },
  {
   "cell_type": "code",
   "execution_count": 9,
   "id": "3e528157",
   "metadata": {
    "execution": {
     "iopub.execute_input": "2025-02-03T05:42:10.782298Z",
     "iopub.status.busy": "2025-02-03T05:42:10.781800Z",
     "iopub.status.idle": "2025-02-03T05:42:10.789926Z",
     "shell.execute_reply": "2025-02-03T05:42:10.788730Z"
    },
    "id": "Vu7UEFjrPNGR",
    "outputId": "2459ef1f-9b7b-4392-90db-0c868ab350f4",
    "papermill": {
     "duration": 0.016314,
     "end_time": "2025-02-03T05:42:10.792129",
     "exception": false,
     "start_time": "2025-02-03T05:42:10.775815",
     "status": "completed"
    },
    "tags": []
   },
   "outputs": [
    {
     "data": {
      "text/plain": [
       "LinearRegressionNNM(\n",
       "  (hidden_1): Linear(in_features=10, out_features=64, bias=True)\n",
       "  (hidden_2): Linear(in_features=64, out_features=32, bias=True)\n",
       "  (hidden_3): Linear(in_features=32, out_features=16, bias=True)\n",
       "  (output): Linear(in_features=16, out_features=1, bias=True)\n",
       "  (relu): ReLU()\n",
       ")"
      ]
     },
     "execution_count": 9,
     "metadata": {},
     "output_type": "execute_result"
    }
   ],
   "source": [
    "model"
   ]
  },
  {
   "cell_type": "code",
   "execution_count": 10,
   "id": "73e60438",
   "metadata": {
    "execution": {
     "iopub.execute_input": "2025-02-03T05:42:10.805510Z",
     "iopub.status.busy": "2025-02-03T05:42:10.805183Z",
     "iopub.status.idle": "2025-02-03T05:42:15.409994Z",
     "shell.execute_reply": "2025-02-03T05:42:15.408847Z"
    },
    "id": "PkH3WN7eVZE6",
    "papermill": {
     "duration": 4.612482,
     "end_time": "2025-02-03T05:42:15.411941",
     "exception": false,
     "start_time": "2025-02-03T05:42:10.799459",
     "status": "completed"
    },
    "tags": []
   },
   "outputs": [],
   "source": [
    "criterion = torch.nn.MSELoss()  # Loss function\n",
    "# optimizer = torch.optim.SGD(model.parameters(), lr=0.01)  # optimizer function\n",
    "optimizer = torch.optim.Adam(model.parameters(), lr=0.001)  # optimizer function"
   ]
  },
  {
   "cell_type": "code",
   "execution_count": 11,
   "id": "43a5c6ae",
   "metadata": {
    "execution": {
     "iopub.execute_input": "2025-02-03T05:42:15.422999Z",
     "iopub.status.busy": "2025-02-03T05:42:15.422497Z",
     "iopub.status.idle": "2025-02-03T05:42:32.518405Z",
     "shell.execute_reply": "2025-02-03T05:42:32.517435Z"
    },
    "id": "fAp4BWFOWpvJ",
    "outputId": "c011f3aa-ea92-4172-8073-244b0321a5e7",
    "papermill": {
     "duration": 17.103346,
     "end_time": "2025-02-03T05:42:32.520303",
     "exception": false,
     "start_time": "2025-02-03T05:42:15.416957",
     "status": "completed"
    },
    "tags": []
   },
   "outputs": [
    {
     "name": "stdout",
     "output_type": "stream",
     "text": [
      "epoch: 0, loss: 29649.259765625\n",
      "epoch: 1000, loss: 2945.7890625\n",
      "epoch: 2000, loss: 2841.83935546875\n",
      "epoch: 3000, loss: 2728.23095703125\n",
      "epoch: 4000, loss: 2518.014404296875\n",
      "epoch: 5000, loss: 2301.774169921875\n",
      "epoch: 6000, loss: 1428.7086181640625\n",
      "epoch: 7000, loss: 674.314453125\n",
      "epoch: 8000, loss: 421.2172546386719\n",
      "epoch: 9000, loss: 271.86651611328125\n"
     ]
    }
   ],
   "source": [
    "## 반복 학습\n",
    "# for epoch in range(10):\n",
    "# for epoch in range(1000):\n",
    "for epoch in range(10000):\n",
    "    # Forward pass: Compute predicted y by passing x to the model\n",
    "    pred_y = model(train_features_tensor)\n",
    "\n",
    "    # Compute and print loss\n",
    "    loss = criterion(pred_y, train_label_tensor)\n",
    "\n",
    "    optimizer.zero_grad()\n",
    "    loss.backward()\n",
    "    optimizer.step()\n",
    "    if epoch % 1000 == 0:\n",
    "      print('epoch: {}, loss: {}'.format(epoch, loss.item()))"
   ]
  },
  {
   "cell_type": "markdown",
   "id": "ba5ecdf4",
   "metadata": {
    "id": "Vm7nLFcqJn6h",
    "papermill": {
     "duration": 0.00497,
     "end_time": "2025-02-03T05:42:32.530742",
     "exception": false,
     "start_time": "2025-02-03T05:42:32.525772",
     "status": "completed"
    },
    "tags": []
   },
   "source": [
    "## 모델 평가"
   ]
  },
  {
   "cell_type": "code",
   "execution_count": 12,
   "id": "f2e65458",
   "metadata": {
    "execution": {
     "iopub.execute_input": "2025-02-03T05:42:32.542383Z",
     "iopub.status.busy": "2025-02-03T05:42:32.542021Z",
     "iopub.status.idle": "2025-02-03T05:42:32.547786Z",
     "shell.execute_reply": "2025-02-03T05:42:32.546804Z"
    },
    "id": "TcxYXQj2YojK",
    "outputId": "b216ed77-ae65-4995-c99f-8858c92b4136",
    "papermill": {
     "duration": 0.013231,
     "end_time": "2025-02-03T05:42:32.549331",
     "exception": false,
     "start_time": "2025-02-03T05:42:32.536100",
     "status": "completed"
    },
    "tags": []
   },
   "outputs": [
    {
     "data": {
      "text/plain": [
       "LinearRegressionNNM(\n",
       "  (hidden_1): Linear(in_features=10, out_features=64, bias=True)\n",
       "  (hidden_2): Linear(in_features=64, out_features=32, bias=True)\n",
       "  (hidden_3): Linear(in_features=32, out_features=16, bias=True)\n",
       "  (output): Linear(in_features=16, out_features=1, bias=True)\n",
       "  (relu): ReLU()\n",
       ")"
      ]
     },
     "execution_count": 12,
     "metadata": {},
     "output_type": "execute_result"
    }
   ],
   "source": [
    "model.eval()"
   ]
  },
  {
   "cell_type": "code",
   "execution_count": 13,
   "id": "e8fdf1ae",
   "metadata": {
    "execution": {
     "iopub.execute_input": "2025-02-03T05:42:32.561105Z",
     "iopub.status.busy": "2025-02-03T05:42:32.560756Z",
     "iopub.status.idle": "2025-02-03T05:42:32.566764Z",
     "shell.execute_reply": "2025-02-03T05:42:32.565900Z"
    },
    "id": "kZsIrHPnYsox",
    "outputId": "0d4c2cb2-9995-4f3c-d8ec-b51200d652db",
    "papermill": {
     "duration": 0.013595,
     "end_time": "2025-02-03T05:42:32.568319",
     "exception": false,
     "start_time": "2025-02-03T05:42:32.554724",
     "status": "completed"
    },
    "tags": []
   },
   "outputs": [
    {
     "name": "stdout",
     "output_type": "stream",
     "text": [
      "loss: 183.6451873779297\n"
     ]
    }
   ],
   "source": [
    "with torch.no_grad():   # 학습 목적 아닌 평가 목적 위해 고정\n",
    "    pred_y = model(train_features_tensor)\n",
    "    loss = criterion(pred_y, train_label_tensor)  # 예측도 같은 Loss function\n",
    "    print('loss: {}'.format(loss.item()))"
   ]
  },
  {
   "cell_type": "code",
   "execution_count": 14,
   "id": "eed08df0",
   "metadata": {
    "execution": {
     "iopub.execute_input": "2025-02-03T05:42:32.580394Z",
     "iopub.status.busy": "2025-02-03T05:42:32.580046Z",
     "iopub.status.idle": "2025-02-03T05:42:32.604372Z",
     "shell.execute_reply": "2025-02-03T05:42:32.603428Z"
    },
    "papermill": {
     "duration": 0.032033,
     "end_time": "2025-02-03T05:42:32.605821",
     "exception": false,
     "start_time": "2025-02-03T05:42:32.573788",
     "status": "completed"
    },
    "tags": []
   },
   "outputs": [
    {
     "data": {
      "text/plain": [
       "(tensor([134.8768]), 144.0)"
      ]
     },
     "execution_count": 14,
     "metadata": {},
     "output_type": "execute_result"
    }
   ],
   "source": [
    "# 결과 값(예측값, 원래값)\n",
    "pred_y[0], train_label[0]"
   ]
  },
  {
   "cell_type": "markdown",
   "id": "5fc7aef8",
   "metadata": {
    "id": "AmEg3DFvJqlK",
    "papermill": {
     "duration": 0.005076,
     "end_time": "2025-02-03T05:42:32.616561",
     "exception": false,
     "start_time": "2025-02-03T05:42:32.611485",
     "status": "completed"
    },
    "tags": []
   },
   "source": [
    "## 모델 배포"
   ]
  },
  {
   "cell_type": "code",
   "execution_count": null,
   "id": "ff9f176a",
   "metadata": {
    "id": "L1Hp5HyRI3ov",
    "papermill": {
     "duration": 0.004996,
     "end_time": "2025-02-03T05:42:32.626818",
     "exception": false,
     "start_time": "2025-02-03T05:42:32.621822",
     "status": "completed"
    },
    "tags": []
   },
   "outputs": [],
   "source": []
  }
 ],
 "metadata": {
  "colab": {
   "provenance": []
  },
  "kaggle": {
   "accelerator": "none",
   "dataSources": [],
   "isGpuEnabled": false,
   "isInternetEnabled": false,
   "language": "python",
   "sourceType": "notebook"
  },
  "kernelspec": {
   "display_name": "Python 3",
   "language": "python",
   "name": "python3"
  },
  "language_info": {
   "codemirror_mode": {
    "name": "ipython",
    "version": 3
   },
   "file_extension": ".py",
   "mimetype": "text/x-python",
   "name": "python",
   "nbconvert_exporter": "python",
   "pygments_lexer": "ipython3",
   "version": "3.10.12"
  },
  "papermill": {
   "default_parameters": {},
   "duration": 33.564077,
   "end_time": "2025-02-03T05:42:35.356305",
   "environment_variables": {},
   "exception": null,
   "input_path": "__notebook__.ipynb",
   "output_path": "__notebook__.ipynb",
   "parameters": {},
   "start_time": "2025-02-03T05:42:01.792228",
   "version": "2.6.0"
  }
 },
 "nbformat": 4,
 "nbformat_minor": 5
}
