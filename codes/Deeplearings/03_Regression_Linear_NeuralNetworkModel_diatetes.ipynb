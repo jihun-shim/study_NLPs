{
 "cells": [
  {
   "cell_type": "markdown",
   "id": "c8eeb640",
   "metadata": {
    "id": "oq5l7PlCJHGK",
    "papermill": {
     "duration": 0.004932,
     "end_time": "2025-02-03T05:47:04.847815",
     "exception": false,
     "start_time": "2025-02-03T05:47:04.842883",
     "status": "completed"
    },
    "tags": []
   },
   "source": [
    "## 데이터수집"
   ]
  },
  {
   "cell_type": "code",
   "execution_count": 1,
   "id": "85bd2632",
   "metadata": {
    "execution": {
     "iopub.execute_input": "2025-02-03T05:47:04.858834Z",
     "iopub.status.busy": "2025-02-03T05:47:04.858511Z",
     "iopub.status.idle": "2025-02-03T05:47:06.240937Z",
     "shell.execute_reply": "2025-02-03T05:47:06.239832Z"
    },
    "id": "WWqnlVD1Jzzr",
    "outputId": "b720360d-8452-4f42-f643-f7730c47e2fd",
    "papermill": {
     "duration": 1.390358,
     "end_time": "2025-02-03T05:47:06.242718",
     "exception": false,
     "start_time": "2025-02-03T05:47:04.852360",
     "status": "completed"
    },
    "tags": []
   },
   "outputs": [
    {
     "data": {
      "text/plain": [
       "((442, 10), (442,))"
      ]
     },
     "execution_count": 1,
     "metadata": {},
     "output_type": "execute_result"
    }
   ],
   "source": [
    "from sklearn.datasets import load_diabetes\n",
    "data_diabetes = load_diabetes()\n",
    "features, label = data_diabetes.data, data_diabetes.target\n",
    "features.shape, label.shape"
   ]
  },
  {
   "cell_type": "markdown",
   "id": "a94cb870",
   "metadata": {
    "id": "5KcIOhMiJNKp",
    "papermill": {
     "duration": 0.004156,
     "end_time": "2025-02-03T05:47:06.251617",
     "exception": false,
     "start_time": "2025-02-03T05:47:06.247461",
     "status": "completed"
    },
    "tags": []
   },
   "source": [
    "## 데이터 전처리\n",
    "- 데이터 분석"
   ]
  },
  {
   "cell_type": "markdown",
   "id": "aaad0e0d",
   "metadata": {
    "id": "zucSSN6sJWJC",
    "papermill": {
     "duration": 0.004189,
     "end_time": "2025-02-03T05:47:06.260169",
     "exception": false,
     "start_time": "2025-02-03T05:47:06.255980",
     "status": "completed"
    },
    "tags": []
   },
   "source": [
    "## 데이터 분할\n",
    "- train, test, validation"
   ]
  },
  {
   "cell_type": "code",
   "execution_count": 2,
   "id": "3b1c05d1",
   "metadata": {
    "execution": {
     "iopub.execute_input": "2025-02-03T05:47:06.270505Z",
     "iopub.status.busy": "2025-02-03T05:47:06.270010Z",
     "iopub.status.idle": "2025-02-03T05:47:06.377789Z",
     "shell.execute_reply": "2025-02-03T05:47:06.376612Z"
    },
    "id": "H4Bwj5IvKsXq",
    "papermill": {
     "duration": 0.115352,
     "end_time": "2025-02-03T05:47:06.379834",
     "exception": false,
     "start_time": "2025-02-03T05:47:06.264482",
     "status": "completed"
    },
    "tags": []
   },
   "outputs": [],
   "source": [
    "from sklearn.model_selection import train_test_split\n",
    "train_features, test_features, train_label, test_label = train_test_split(features, label, test_size=0.2, random_state=42)"
   ]
  },
  {
   "cell_type": "code",
   "execution_count": 3,
   "id": "7d4372d0",
   "metadata": {
    "execution": {
     "iopub.execute_input": "2025-02-03T05:47:06.390400Z",
     "iopub.status.busy": "2025-02-03T05:47:06.389966Z",
     "iopub.status.idle": "2025-02-03T05:47:10.188401Z",
     "shell.execute_reply": "2025-02-03T05:47:10.186391Z"
    },
    "id": "yuhS4Jc9LQbZ",
    "papermill": {
     "duration": 3.805922,
     "end_time": "2025-02-03T05:47:10.190640",
     "exception": false,
     "start_time": "2025-02-03T05:47:06.384718",
     "status": "completed"
    },
    "tags": []
   },
   "outputs": [],
   "source": [
    "import torch"
   ]
  },
  {
   "cell_type": "code",
   "execution_count": 4,
   "id": "6f3c2d07",
   "metadata": {
    "execution": {
     "iopub.execute_input": "2025-02-03T05:47:10.202402Z",
     "iopub.status.busy": "2025-02-03T05:47:10.201747Z",
     "iopub.status.idle": "2025-02-03T05:47:10.245678Z",
     "shell.execute_reply": "2025-02-03T05:47:10.244691Z"
    },
    "id": "t_YAJ9mELdpZ",
    "outputId": "c71d840d-763a-4497-b6c6-1e27a09e71c6",
    "papermill": {
     "duration": 0.051572,
     "end_time": "2025-02-03T05:47:10.247264",
     "exception": false,
     "start_time": "2025-02-03T05:47:10.195692",
     "status": "completed"
    },
    "tags": []
   },
   "outputs": [
    {
     "data": {
      "text/plain": [
       "(torch.Tensor, torch.Tensor, torch.Size([353, 1]))"
      ]
     },
     "execution_count": 4,
     "metadata": {},
     "output_type": "execute_result"
    }
   ],
   "source": [
    "train_features_tensor = torch.tensor(train_features, dtype=torch.float32)\n",
    "train_label_tensor = torch.tensor(train_label, dtype=torch.float32).view(-1, 1)    # 행렬 모양으로 변경\n",
    "# test_features_tensor = torch.tensor(test_features)\n",
    "# test_label_tensor = torch.tensor(test_label)\n",
    "type(train_features_tensor), type(train_label_tensor), train_label_tensor.shape"
   ]
  },
  {
   "cell_type": "markdown",
   "id": "f4fc24ef",
   "metadata": {
    "id": "nATrFQ0EJjwJ",
    "papermill": {
     "duration": 0.004248,
     "end_time": "2025-02-03T05:47:10.256157",
     "exception": false,
     "start_time": "2025-02-03T05:47:10.251909",
     "status": "completed"
    },
    "tags": []
   },
   "source": [
    "## 모델 학습"
   ]
  },
  {
   "cell_type": "code",
   "execution_count": 5,
   "id": "3c1ec569",
   "metadata": {
    "collapsed": true,
    "execution": {
     "iopub.execute_input": "2025-02-03T05:47:10.266413Z",
     "iopub.status.busy": "2025-02-03T05:47:10.266006Z",
     "iopub.status.idle": "2025-02-03T05:47:10.317483Z",
     "shell.execute_reply": "2025-02-03T05:47:10.316335Z"
    },
    "jupyter": {
     "outputs_hidden": true
    },
    "papermill": {
     "duration": 0.05875,
     "end_time": "2025-02-03T05:47:10.319451",
     "exception": false,
     "start_time": "2025-02-03T05:47:10.260701",
     "status": "completed"
    },
    "tags": []
   },
   "outputs": [],
   "source": [
    "torch.nn.Module?"
   ]
  },
  {
   "cell_type": "code",
   "execution_count": 6,
   "id": "769fe9c1",
   "metadata": {
    "execution": {
     "iopub.execute_input": "2025-02-03T05:47:10.330506Z",
     "iopub.status.busy": "2025-02-03T05:47:10.330108Z",
     "iopub.status.idle": "2025-02-03T05:47:10.336213Z",
     "shell.execute_reply": "2025-02-03T05:47:10.335224Z"
    },
    "id": "-pe2fsPfL9gp",
    "papermill": {
     "duration": 0.013632,
     "end_time": "2025-02-03T05:47:10.337819",
     "exception": false,
     "start_time": "2025-02-03T05:47:10.324187",
     "status": "completed"
    },
    "tags": []
   },
   "outputs": [],
   "source": [
    "# Neural Network model linear regression\n",
    "class LinearRegressionNNM(torch.nn.Module):\n",
    "    def __init__(self, input_dim):    # input_dim:features 열 갯수\n",
    "        super(LinearRegressionNNM, self).__init__()\n",
    "        # super(self).__init__()\n",
    "        self.hidden_1 = torch.nn.Linear(input_dim, 64)\n",
    "        self.hidden_2 = torch.nn.Linear(64, 32)\n",
    "        self.hidden_3 = torch.nn.Linear(32, 16)\n",
    "        self.output = torch.nn.Linear(16, 1)\n",
    "        self.relu = torch.nn.ReLU()  # Activation function\n",
    "\n",
    "    def forward(self, x):\n",
    "        x = self.relu(self.hidden_1(x))  # hidden layer 1\n",
    "        x = self.relu(self.hidden_2(x))  # hidden layer 2\n",
    "        x = self.relu(self.hidden_3(x))  # hidden layer 3\n",
    "        out = self.output(x)   # result\n",
    "        return out\n"
   ]
  },
  {
   "cell_type": "code",
   "execution_count": 7,
   "id": "d7c854e1",
   "metadata": {
    "execution": {
     "iopub.execute_input": "2025-02-03T05:47:10.347955Z",
     "iopub.status.busy": "2025-02-03T05:47:10.347625Z",
     "iopub.status.idle": "2025-02-03T05:47:10.353481Z",
     "shell.execute_reply": "2025-02-03T05:47:10.352324Z"
    },
    "id": "gJRMFMXjOToZ",
    "outputId": "eff5c085-ceb2-462a-975f-ef6f08e71131",
    "papermill": {
     "duration": 0.012805,
     "end_time": "2025-02-03T05:47:10.355227",
     "exception": false,
     "start_time": "2025-02-03T05:47:10.342422",
     "status": "completed"
    },
    "tags": []
   },
   "outputs": [
    {
     "data": {
      "text/plain": [
       "(torch.Size([353, 10]), torch.Size([353, 1]))"
      ]
     },
     "execution_count": 7,
     "metadata": {},
     "output_type": "execute_result"
    }
   ],
   "source": [
    "train_features_tensor.shape, train_label_tensor.shape"
   ]
  },
  {
   "cell_type": "code",
   "execution_count": 8,
   "id": "f5178873",
   "metadata": {
    "execution": {
     "iopub.execute_input": "2025-02-03T05:47:10.366141Z",
     "iopub.status.busy": "2025-02-03T05:47:10.365798Z",
     "iopub.status.idle": "2025-02-03T05:47:10.382220Z",
     "shell.execute_reply": "2025-02-03T05:47:10.380927Z"
    },
    "id": "N6dfYfN9OKVZ",
    "papermill": {
     "duration": 0.024099,
     "end_time": "2025-02-03T05:47:10.384204",
     "exception": false,
     "start_time": "2025-02-03T05:47:10.360105",
     "status": "completed"
    },
    "tags": []
   },
   "outputs": [],
   "source": [
    "model = LinearRegressionNNM(10)"
   ]
  },
  {
   "cell_type": "code",
   "execution_count": 9,
   "id": "1b0d5b60",
   "metadata": {
    "execution": {
     "iopub.execute_input": "2025-02-03T05:47:10.395056Z",
     "iopub.status.busy": "2025-02-03T05:47:10.394711Z",
     "iopub.status.idle": "2025-02-03T05:47:10.400532Z",
     "shell.execute_reply": "2025-02-03T05:47:10.399654Z"
    },
    "id": "Vu7UEFjrPNGR",
    "outputId": "2459ef1f-9b7b-4392-90db-0c868ab350f4",
    "papermill": {
     "duration": 0.01286,
     "end_time": "2025-02-03T05:47:10.401929",
     "exception": false,
     "start_time": "2025-02-03T05:47:10.389069",
     "status": "completed"
    },
    "tags": []
   },
   "outputs": [
    {
     "data": {
      "text/plain": [
       "LinearRegressionNNM(\n",
       "  (hidden_1): Linear(in_features=10, out_features=64, bias=True)\n",
       "  (hidden_2): Linear(in_features=64, out_features=32, bias=True)\n",
       "  (hidden_3): Linear(in_features=32, out_features=16, bias=True)\n",
       "  (output): Linear(in_features=16, out_features=1, bias=True)\n",
       "  (relu): ReLU()\n",
       ")"
      ]
     },
     "execution_count": 9,
     "metadata": {},
     "output_type": "execute_result"
    }
   ],
   "source": [
    "model"
   ]
  },
  {
   "cell_type": "code",
   "execution_count": 10,
   "id": "90a66421",
   "metadata": {
    "execution": {
     "iopub.execute_input": "2025-02-03T05:47:10.412814Z",
     "iopub.status.busy": "2025-02-03T05:47:10.412455Z",
     "iopub.status.idle": "2025-02-03T05:47:14.915416Z",
     "shell.execute_reply": "2025-02-03T05:47:14.914280Z"
    },
    "id": "PkH3WN7eVZE6",
    "papermill": {
     "duration": 4.510372,
     "end_time": "2025-02-03T05:47:14.917196",
     "exception": false,
     "start_time": "2025-02-03T05:47:10.406824",
     "status": "completed"
    },
    "tags": []
   },
   "outputs": [],
   "source": [
    "criterion = torch.nn.MSELoss()  # Loss function\n",
    "# optimizer = torch.optim.SGD(model.parameters(), lr=0.01)  # optimizer function\n",
    "optimizer = torch.optim.Adam(model.parameters(), lr=0.001)  # optimizer function"
   ]
  },
  {
   "cell_type": "code",
   "execution_count": 11,
   "id": "327e93fa",
   "metadata": {
    "execution": {
     "iopub.execute_input": "2025-02-03T05:47:14.928661Z",
     "iopub.status.busy": "2025-02-03T05:47:14.928134Z",
     "iopub.status.idle": "2025-02-03T05:47:31.186699Z",
     "shell.execute_reply": "2025-02-03T05:47:31.185762Z"
    },
    "id": "fAp4BWFOWpvJ",
    "outputId": "c011f3aa-ea92-4172-8073-244b0321a5e7",
    "papermill": {
     "duration": 16.26627,
     "end_time": "2025-02-03T05:47:31.188742",
     "exception": false,
     "start_time": "2025-02-03T05:47:14.922472",
     "status": "completed"
    },
    "tags": []
   },
   "outputs": [
    {
     "name": "stdout",
     "output_type": "stream",
     "text": [
      "epoch: 0, loss: 29682.3515625\n",
      "epoch: 1000, loss: 2966.521484375\n",
      "epoch: 2000, loss: 2849.080322265625\n",
      "epoch: 3000, loss: 2753.3408203125\n",
      "epoch: 4000, loss: 2637.382080078125\n",
      "epoch: 5000, loss: 2463.641357421875\n",
      "epoch: 6000, loss: 2126.42041015625\n",
      "epoch: 7000, loss: 1325.2440185546875\n",
      "epoch: 8000, loss: 850.05859375\n",
      "epoch: 9000, loss: 611.6974487304688\n"
     ]
    }
   ],
   "source": [
    "## 반복 학습\n",
    "# for epoch in range(10):\n",
    "# for epoch in range(1000):\n",
    "for epoch in range(10000):\n",
    "    # Forward pass: Compute predicted y by passing x to the model\n",
    "    pred_y = model(train_features_tensor)\n",
    "\n",
    "    # Compute and print loss\n",
    "    loss = criterion(pred_y, train_label_tensor)\n",
    "\n",
    "    optimizer.zero_grad()\n",
    "    loss.backward()\n",
    "    optimizer.step()\n",
    "    if epoch % 1000 == 0:\n",
    "      print('epoch: {}, loss: {}'.format(epoch, loss.item()))"
   ]
  },
  {
   "cell_type": "markdown",
   "id": "93d4849a",
   "metadata": {
    "id": "Vm7nLFcqJn6h",
    "papermill": {
     "duration": 0.004999,
     "end_time": "2025-02-03T05:47:31.199146",
     "exception": false,
     "start_time": "2025-02-03T05:47:31.194147",
     "status": "completed"
    },
    "tags": []
   },
   "source": [
    "## 모델 평가"
   ]
  },
  {
   "cell_type": "code",
   "execution_count": 12,
   "id": "d4a19610",
   "metadata": {
    "execution": {
     "iopub.execute_input": "2025-02-03T05:47:31.210951Z",
     "iopub.status.busy": "2025-02-03T05:47:31.210603Z",
     "iopub.status.idle": "2025-02-03T05:47:31.215987Z",
     "shell.execute_reply": "2025-02-03T05:47:31.215074Z"
    },
    "id": "TcxYXQj2YojK",
    "outputId": "b216ed77-ae65-4995-c99f-8858c92b4136",
    "papermill": {
     "duration": 0.013027,
     "end_time": "2025-02-03T05:47:31.217517",
     "exception": false,
     "start_time": "2025-02-03T05:47:31.204490",
     "status": "completed"
    },
    "tags": []
   },
   "outputs": [
    {
     "data": {
      "text/plain": [
       "LinearRegressionNNM(\n",
       "  (hidden_1): Linear(in_features=10, out_features=64, bias=True)\n",
       "  (hidden_2): Linear(in_features=64, out_features=32, bias=True)\n",
       "  (hidden_3): Linear(in_features=32, out_features=16, bias=True)\n",
       "  (output): Linear(in_features=16, out_features=1, bias=True)\n",
       "  (relu): ReLU()\n",
       ")"
      ]
     },
     "execution_count": 12,
     "metadata": {},
     "output_type": "execute_result"
    }
   ],
   "source": [
    "model.eval()"
   ]
  },
  {
   "cell_type": "code",
   "execution_count": 13,
   "id": "452026da",
   "metadata": {
    "execution": {
     "iopub.execute_input": "2025-02-03T05:47:31.229521Z",
     "iopub.status.busy": "2025-02-03T05:47:31.229125Z",
     "iopub.status.idle": "2025-02-03T05:47:31.235444Z",
     "shell.execute_reply": "2025-02-03T05:47:31.234404Z"
    },
    "id": "kZsIrHPnYsox",
    "outputId": "0d4c2cb2-9995-4f3c-d8ec-b51200d652db",
    "papermill": {
     "duration": 0.014093,
     "end_time": "2025-02-03T05:47:31.237044",
     "exception": false,
     "start_time": "2025-02-03T05:47:31.222951",
     "status": "completed"
    },
    "tags": []
   },
   "outputs": [
    {
     "name": "stdout",
     "output_type": "stream",
     "text": [
      "loss: 466.0115966796875\n"
     ]
    }
   ],
   "source": [
    "with torch.no_grad():   # 학습 목적 아닌 평가 목적 위해 고정\n",
    "    pred_y = model(train_features_tensor)\n",
    "    loss = criterion(pred_y, train_label_tensor)  # 예측도 같은 Loss function\n",
    "    print('loss: {}'.format(loss.item()))"
   ]
  },
  {
   "cell_type": "code",
   "execution_count": 14,
   "id": "e78a3840",
   "metadata": {
    "execution": {
     "iopub.execute_input": "2025-02-03T05:47:31.249309Z",
     "iopub.status.busy": "2025-02-03T05:47:31.248927Z",
     "iopub.status.idle": "2025-02-03T05:47:31.270859Z",
     "shell.execute_reply": "2025-02-03T05:47:31.269792Z"
    },
    "papermill": {
     "duration": 0.030083,
     "end_time": "2025-02-03T05:47:31.272767",
     "exception": false,
     "start_time": "2025-02-03T05:47:31.242684",
     "status": "completed"
    },
    "tags": []
   },
   "outputs": [
    {
     "data": {
      "text/plain": [
       "(tensor([127.3453]), 144.0)"
      ]
     },
     "execution_count": 14,
     "metadata": {},
     "output_type": "execute_result"
    }
   ],
   "source": [
    "# 결과 값(예측값, 원래값)\n",
    "pred_y[0], train_label[0]"
   ]
  },
  {
   "cell_type": "markdown",
   "id": "658a50cb",
   "metadata": {
    "id": "AmEg3DFvJqlK",
    "papermill": {
     "duration": 0.005305,
     "end_time": "2025-02-03T05:47:31.283885",
     "exception": false,
     "start_time": "2025-02-03T05:47:31.278580",
     "status": "completed"
    },
    "tags": []
   },
   "source": [
    "## 모델 배포"
   ]
  },
  {
   "cell_type": "code",
   "execution_count": null,
   "id": "68bd95e2",
   "metadata": {
    "id": "L1Hp5HyRI3ov",
    "papermill": {
     "duration": 0.005111,
     "end_time": "2025-02-03T05:47:31.294499",
     "exception": false,
     "start_time": "2025-02-03T05:47:31.289388",
     "status": "completed"
    },
    "tags": []
   },
   "outputs": [],
   "source": []
  }
 ],
 "metadata": {
  "colab": {
   "provenance": []
  },
  "kaggle": {
   "accelerator": "none",
   "dataSources": [],
   "isGpuEnabled": false,
   "isInternetEnabled": false,
   "language": "python",
   "sourceType": "notebook"
  },
  "kernelspec": {
   "display_name": "Python 3",
   "language": "python",
   "name": "python3"
  },
  "language_info": {
   "codemirror_mode": {
    "name": "ipython",
    "version": 3
   },
   "file_extension": ".py",
   "mimetype": "text/x-python",
   "name": "python",
   "nbconvert_exporter": "python",
   "pygments_lexer": "ipython3",
   "version": "3.10.12"
  },
  "papermill": {
   "default_parameters": {},
   "duration": 31.575727,
   "end_time": "2025-02-03T05:47:33.701820",
   "environment_variables": {},
   "exception": null,
   "input_path": "__notebook__.ipynb",
   "output_path": "__notebook__.ipynb",
   "parameters": {},
   "start_time": "2025-02-03T05:47:02.126093",
   "version": "2.6.0"
  }
 },
 "nbformat": 4,
 "nbformat_minor": 5
}
