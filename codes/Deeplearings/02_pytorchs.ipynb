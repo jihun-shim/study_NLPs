{
  "nbformat": 4,
  "nbformat_minor": 0,
  "metadata": {
    "colab": {
      "provenance": [],
      "gpuType": "T4",
      "authorship_tag": "ABX9TyMlx4rHLbLB/Ywx1nVOClhF",
      "include_colab_link": true
    },
    "kernelspec": {
      "name": "python3",
      "display_name": "Python 3"
    },
    "language_info": {
      "name": "python"
    },
    "accelerator": "GPU"
  },
  "cells": [
    {
      "cell_type": "markdown",
      "metadata": {
        "id": "view-in-github",
        "colab_type": "text"
      },
      "source": [
        "<a href=\"https://colab.research.google.com/github/jihun-shim/study_NLPs/blob/main/codes/Deeplearings/02_pytorchs.ipynb\" target=\"_parent\"><img src=\"https://colab.research.google.com/assets/colab-badge.svg\" alt=\"Open In Colab\"/></a>"
      ]
    },
    {
      "cell_type": "markdown",
      "source": [
        "pytorch 기본"
      ],
      "metadata": {
        "id": "-6qPbd4i_t7_"
      }
    },
    {
      "cell_type": "code",
      "execution_count": 2,
      "metadata": {
        "id": "Opi2MFEw_ny5"
      },
      "outputs": [],
      "source": [
        "import torch"
      ]
    },
    {
      "cell_type": "code",
      "source": [
        "# torch.device('cuda:2')\n",
        "torch.device('cuda')"
      ],
      "metadata": {
        "colab": {
          "base_uri": "https://localhost:8080/"
        },
        "id": "fpLATJ6m_0We",
        "outputId": "c874d582-bf24-4dd6-bbfd-ebee27be6d53"
      },
      "execution_count": 10,
      "outputs": [
        {
          "output_type": "execute_result",
          "data": {
            "text/plain": [
              "device(type='cuda')"
            ]
          },
          "metadata": {},
          "execution_count": 10
        }
      ]
    },
    {
      "cell_type": "markdown",
      "source": [
        "### torch 주요 datatype"
      ],
      "metadata": {
        "id": "ZIX7O95UBIYX"
      }
    },
    {
      "cell_type": "code",
      "source": [
        "x = torch.randn((10,5)) # 표준정규분포 N(0,1) sampling\n",
        "x"
      ],
      "metadata": {
        "colab": {
          "base_uri": "https://localhost:8080/"
        },
        "id": "0BhgZmieAgpo",
        "outputId": "fc8013b3-692a-4ed1-a72a-060dd84b7bdd"
      },
      "execution_count": 12,
      "outputs": [
        {
          "output_type": "execute_result",
          "data": {
            "text/plain": [
              "tensor([[ 1.0733e+00, -1.6173e+00, -2.3063e-01,  1.3653e+00, -5.1545e-01],\n",
              "        [ 6.6987e-01,  9.9669e-01,  1.2154e+00,  4.5379e-01,  1.9339e+00],\n",
              "        [ 5.8400e-01,  1.4162e+00,  1.9306e+00,  8.5044e-01, -2.8672e-01],\n",
              "        [-1.2012e-03, -4.3777e-01,  3.7777e-01, -1.1171e+00, -1.4524e+00],\n",
              "        [-3.1973e-01,  6.3559e-01, -2.4839e-01, -2.6008e-01, -2.4251e+00],\n",
              "        [ 7.2024e-01, -1.0403e+00,  1.3748e+00, -2.5658e-01,  6.5090e-01],\n",
              "        [-2.8021e-02,  7.0999e-01, -6.0646e-01,  3.5389e-01,  2.5455e-01],\n",
              "        [-1.5478e+00,  1.2592e+00, -8.2572e-01, -1.2887e+00, -8.6468e-01],\n",
              "        [ 8.2841e-01, -1.2976e-01,  7.0157e-01,  1.9959e+00, -8.3675e-01],\n",
              "        [-3.4008e-01, -1.0100e-01,  5.2805e-01, -8.9939e-01,  1.1395e+00]])"
            ]
          },
          "metadata": {},
          "execution_count": 12
        }
      ]
    },
    {
      "cell_type": "code",
      "source": [
        "type(x), x.dtype, x.shape, x.device, x.size()"
      ],
      "metadata": {
        "colab": {
          "base_uri": "https://localhost:8080/"
        },
        "id": "YTc6N4DJBYSe",
        "outputId": "2a11676e-4317-4968-c1c4-1ccb8087c2cd"
      },
      "execution_count": 13,
      "outputs": [
        {
          "output_type": "execute_result",
          "data": {
            "text/plain": [
              "(torch.Tensor,\n",
              " torch.float32,\n",
              " torch.Size([10, 5]),\n",
              " device(type='cpu'),\n",
              " torch.Size([10, 5]))"
            ]
          },
          "metadata": {},
          "execution_count": 13
        }
      ]
    },
    {
      "cell_type": "code",
      "source": [
        "x[0]"
      ],
      "metadata": {
        "colab": {
          "base_uri": "https://localhost:8080/"
        },
        "id": "e1oQtmTlB1_P",
        "outputId": "bf11eca9-3ac9-41a3-b180-710e3488f36c"
      },
      "execution_count": 14,
      "outputs": [
        {
          "output_type": "execute_result",
          "data": {
            "text/plain": [
              "tensor([ 1.0733, -1.6173, -0.2306,  1.3653, -0.5154])"
            ]
          },
          "metadata": {},
          "execution_count": 14
        }
      ]
    },
    {
      "cell_type": "code",
      "source": [
        "# GPU인 cuda 사용\n",
        "x_cuda = x.to('cuda')\n",
        "# x_cuda\n",
        "type(x_cuda), x_cuda.dtype, x_cuda.shape, x_cuda.device"
      ],
      "metadata": {
        "colab": {
          "base_uri": "https://localhost:8080/"
        },
        "id": "Fj-zm2RtCN-O",
        "outputId": "c6b52e71-4b9e-47b4-d8e8-b1c1cf572fbf"
      },
      "execution_count": 18,
      "outputs": [
        {
          "output_type": "execute_result",
          "data": {
            "text/plain": [
              "(torch.Tensor,\n",
              " torch.float32,\n",
              " torch.Size([10, 5]),\n",
              " device(type='cuda', index=0))"
            ]
          },
          "metadata": {},
          "execution_count": 18
        }
      ]
    },
    {
      "cell_type": "code",
      "source": [
        "# x + x_cuda # 연산 영역이 달라 에러 발생\n",
        "x.cuda() + x_cuda"
      ],
      "metadata": {
        "colab": {
          "base_uri": "https://localhost:8080/"
        },
        "id": "vnFZbZvGCYAg",
        "outputId": "c7d5ebe5-1faa-4925-f751-b0a6a525efc3"
      },
      "execution_count": 20,
      "outputs": [
        {
          "output_type": "execute_result",
          "data": {
            "text/plain": [
              "tensor([[ 2.1467e+00, -3.2345e+00, -4.6127e-01,  2.7307e+00, -1.0309e+00],\n",
              "        [ 1.3397e+00,  1.9934e+00,  2.4308e+00,  9.0759e-01,  3.8677e+00],\n",
              "        [ 1.1680e+00,  2.8324e+00,  3.8612e+00,  1.7009e+00, -5.7344e-01],\n",
              "        [-2.4024e-03, -8.7554e-01,  7.5553e-01, -2.2343e+00, -2.9049e+00],\n",
              "        [-6.3947e-01,  1.2712e+00, -4.9679e-01, -5.2016e-01, -4.8501e+00],\n",
              "        [ 1.4405e+00, -2.0805e+00,  2.7497e+00, -5.1317e-01,  1.3018e+00],\n",
              "        [-5.6041e-02,  1.4200e+00, -1.2129e+00,  7.0778e-01,  5.0910e-01],\n",
              "        [-3.0957e+00,  2.5183e+00, -1.6514e+00, -2.5774e+00, -1.7294e+00],\n",
              "        [ 1.6568e+00, -2.5952e-01,  1.4031e+00,  3.9918e+00, -1.6735e+00],\n",
              "        [-6.8015e-01, -2.0199e-01,  1.0561e+00, -1.7988e+00,  2.2789e+00]],\n",
              "       device='cuda:0')"
            ]
          },
          "metadata": {},
          "execution_count": 20
        }
      ]
    },
    {
      "cell_type": "code",
      "source": [
        "x_cuda.T.shape # numpy와 동일"
      ],
      "metadata": {
        "colab": {
          "base_uri": "https://localhost:8080/"
        },
        "id": "JRo14PA8DP23",
        "outputId": "a83fb271-05be-431d-9a2b-d0bf74c7d8e7"
      },
      "execution_count": 22,
      "outputs": [
        {
          "output_type": "execute_result",
          "data": {
            "text/plain": [
              "torch.Size([5, 10])"
            ]
          },
          "metadata": {},
          "execution_count": 22
        }
      ]
    },
    {
      "cell_type": "code",
      "source": [
        "x_cuda @ x_cuda.T # 행렬곱 (10*10)"
      ],
      "metadata": {
        "colab": {
          "base_uri": "https://localhost:8080/"
        },
        "id": "XY1OlnAuD0zX",
        "outputId": "05c0d319-e1a8-4e3a-ebc5-7ee2d756cdab"
      },
      "execution_count": 23,
      "outputs": [
        {
          "output_type": "execute_result",
          "data": {
            "text/plain": [
              "tensor([[ 5.9506, -1.5505, -0.7999, -0.1570, -0.4189,  1.4525, -0.6865, -4.8211,\n",
              "          4.0936, -2.1387],\n",
              "        [-1.5505,  6.8651,  3.9807, -3.2937, -4.6904,  2.2590,  0.6046, -3.0424,\n",
              "          0.5659,  2.1087],\n",
              "        [-0.7999,  3.9807,  6.8794, -0.4250,  0.7080,  1.1969,  0.0463, -1.5629,\n",
              "          3.5918, -0.4138],\n",
              "        [-0.1570, -3.2937, -0.4250,  3.6919,  3.4411,  0.3152, -1.3049,  1.8342,\n",
              "         -0.6936, -0.4061],\n",
              "        [-0.4189, -4.6904,  0.7080,  3.4411,  6.5165, -2.7447, -0.0985,  3.9324,\n",
              "          0.9885, -2.6160],\n",
              "        [ 1.4525,  2.2590,  1.1969,  0.3152, -2.7447,  3.9806, -1.5177, -3.7921,\n",
              "          0.6394,  1.5586],\n",
              "        [-0.6865,  0.6046,  0.0463, -1.3049, -0.0985, -1.5177,  1.0627,  0.7620,\n",
              "         -0.0475, -0.4107],\n",
              "        [-4.8211, -3.0424, -1.5629,  1.8342,  3.9324, -3.7921,  0.7620,  7.0715,\n",
              "         -3.8735,  0.1370],\n",
              "        [ 4.0936,  0.5659,  3.5918, -0.6936,  0.9885,  0.6394, -0.0475, -3.8735,\n",
              "          5.8792, -2.6467],\n",
              "        [-2.1387,  2.1087, -0.4138, -0.4061, -2.6160,  1.5586, -0.4107,  0.1370,\n",
              "         -2.6467,  2.5119]], device='cuda:0')"
            ]
          },
          "metadata": {},
          "execution_count": 23
        }
      ]
    },
    {
      "cell_type": "code",
      "source": [],
      "metadata": {
        "id": "xPn15MwVFN0O"
      },
      "execution_count": null,
      "outputs": []
    }
  ]
}