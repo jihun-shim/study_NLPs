{
 "cells": [
  {
   "cell_type": "markdown",
   "id": "32247c87",
   "metadata": {
    "papermill": {
     "duration": 0.004185,
     "end_time": "2025-03-11T05:24:08.581811",
     "exception": false,
     "start_time": "2025-03-11T05:24:08.577626",
     "status": "completed"
    },
    "tags": []
   },
   "source": [
    "## simple RNN\n",
    "- dataset : https://www.kaggle.com/datasets/iveeaten3223times/massive-yahoo-finance-dataset\n",
    "- 연속형(=시계열, 문장 등) 데이터 처리에 유리"
   ]
  },
  {
   "cell_type": "markdown",
   "id": "a0c90235",
   "metadata": {
    "papermill": {
     "duration": 0.00311,
     "end_time": "2025-03-11T05:24:08.588515",
     "exception": false,
     "start_time": "2025-03-11T05:24:08.585405",
     "status": "completed"
    },
    "tags": []
   },
   "source": [
    "## 데이터 관련"
   ]
  },
  {
   "cell_type": "code",
   "execution_count": 1,
   "id": "2c3024eb",
   "metadata": {
    "execution": {
     "iopub.execute_input": "2025-03-11T05:24:08.595862Z",
     "iopub.status.busy": "2025-03-11T05:24:08.595617Z",
     "iopub.status.idle": "2025-03-11T05:24:10.876068Z",
     "shell.execute_reply": "2025-03-11T05:24:10.875203Z"
    },
    "papermill": {
     "duration": 2.285639,
     "end_time": "2025-03-11T05:24:10.877477",
     "exception": false,
     "start_time": "2025-03-11T05:24:08.591838",
     "status": "completed"
    },
    "tags": []
   },
   "outputs": [
    {
     "data": {
      "text/html": [
       "<div>\n",
       "<style scoped>\n",
       "    .dataframe tbody tr th:only-of-type {\n",
       "        vertical-align: middle;\n",
       "    }\n",
       "\n",
       "    .dataframe tbody tr th {\n",
       "        vertical-align: top;\n",
       "    }\n",
       "\n",
       "    .dataframe thead th {\n",
       "        text-align: right;\n",
       "    }\n",
       "</style>\n",
       "<table border=\"1\" class=\"dataframe\">\n",
       "  <thead>\n",
       "    <tr style=\"text-align: right;\">\n",
       "      <th></th>\n",
       "      <th>Date</th>\n",
       "      <th>Open</th>\n",
       "      <th>High</th>\n",
       "      <th>Low</th>\n",
       "      <th>Close</th>\n",
       "      <th>Volume</th>\n",
       "      <th>Dividends</th>\n",
       "      <th>Stock Splits</th>\n",
       "      <th>Company</th>\n",
       "    </tr>\n",
       "  </thead>\n",
       "  <tbody>\n",
       "    <tr>\n",
       "      <th>0</th>\n",
       "      <td>2018-11-29 00:00:00-05:00</td>\n",
       "      <td>43.829761</td>\n",
       "      <td>43.863354</td>\n",
       "      <td>42.639594</td>\n",
       "      <td>43.083508</td>\n",
       "      <td>167080000</td>\n",
       "      <td>0.0</td>\n",
       "      <td>0.0</td>\n",
       "      <td>AAPL</td>\n",
       "    </tr>\n",
       "    <tr>\n",
       "      <th>1</th>\n",
       "      <td>2018-11-29 00:00:00-05:00</td>\n",
       "      <td>104.769074</td>\n",
       "      <td>105.519257</td>\n",
       "      <td>103.534595</td>\n",
       "      <td>104.636131</td>\n",
       "      <td>28123200</td>\n",
       "      <td>0.0</td>\n",
       "      <td>0.0</td>\n",
       "      <td>MSFT</td>\n",
       "    </tr>\n",
       "    <tr>\n",
       "      <th>2</th>\n",
       "      <td>2018-11-29 00:00:00-05:00</td>\n",
       "      <td>54.176498</td>\n",
       "      <td>55.007500</td>\n",
       "      <td>54.099998</td>\n",
       "      <td>54.729000</td>\n",
       "      <td>31004000</td>\n",
       "      <td>0.0</td>\n",
       "      <td>0.0</td>\n",
       "      <td>GOOGL</td>\n",
       "    </tr>\n",
       "  </tbody>\n",
       "</table>\n",
       "</div>"
      ],
      "text/plain": [
       "                        Date        Open        High         Low       Close  \\\n",
       "0  2018-11-29 00:00:00-05:00   43.829761   43.863354   42.639594   43.083508   \n",
       "1  2018-11-29 00:00:00-05:00  104.769074  105.519257  103.534595  104.636131   \n",
       "2  2018-11-29 00:00:00-05:00   54.176498   55.007500   54.099998   54.729000   \n",
       "\n",
       "      Volume  Dividends  Stock Splits Company  \n",
       "0  167080000        0.0           0.0    AAPL  \n",
       "1   28123200        0.0           0.0    MSFT  \n",
       "2   31004000        0.0           0.0   GOOGL  "
      ]
     },
     "execution_count": 1,
     "metadata": {},
     "output_type": "execute_result"
    }
   ],
   "source": [
    "# 데이터 로드\n",
    "import pandas as pd\n",
    "# df_stock = pd.read_csv('/kaggle/input/massive-yahoo-finance-dataset/stock_details_5_years.csv')\n",
    "# df_stock.head(3)\n",
    "\n",
    "df_stock_all = pd.read_csv('/kaggle/input/massive-yahoo-finance-dataset/stock_details_5_years.csv')\n",
    "df_stock_all.head(3)"
   ]
  },
  {
   "cell_type": "code",
   "execution_count": 2,
   "id": "62486f6a",
   "metadata": {
    "execution": {
     "iopub.execute_input": "2025-03-11T05:24:10.886452Z",
     "iopub.status.busy": "2025-03-11T05:24:10.886175Z",
     "iopub.status.idle": "2025-03-11T05:24:10.945085Z",
     "shell.execute_reply": "2025-03-11T05:24:10.944230Z"
    },
    "papermill": {
     "duration": 0.064515,
     "end_time": "2025-03-11T05:24:10.946358",
     "exception": false,
     "start_time": "2025-03-11T05:24:10.881843",
     "status": "completed"
    },
    "tags": []
   },
   "outputs": [
    {
     "data": {
      "text/html": [
       "<div>\n",
       "<style scoped>\n",
       "    .dataframe tbody tr th:only-of-type {\n",
       "        vertical-align: middle;\n",
       "    }\n",
       "\n",
       "    .dataframe tbody tr th {\n",
       "        vertical-align: top;\n",
       "    }\n",
       "\n",
       "    .dataframe thead th {\n",
       "        text-align: right;\n",
       "    }\n",
       "</style>\n",
       "<table border=\"1\" class=\"dataframe\">\n",
       "  <thead>\n",
       "    <tr style=\"text-align: right;\">\n",
       "      <th></th>\n",
       "      <th>Date</th>\n",
       "      <th>Open</th>\n",
       "      <th>High</th>\n",
       "      <th>Low</th>\n",
       "      <th>Close</th>\n",
       "      <th>Volume</th>\n",
       "      <th>Dividends</th>\n",
       "      <th>Stock Splits</th>\n",
       "      <th>Company</th>\n",
       "    </tr>\n",
       "  </thead>\n",
       "  <tbody>\n",
       "    <tr>\n",
       "      <th>0</th>\n",
       "      <td>2018-11-29 00:00:00-05:00</td>\n",
       "      <td>43.829761</td>\n",
       "      <td>43.863354</td>\n",
       "      <td>42.639594</td>\n",
       "      <td>43.083508</td>\n",
       "      <td>167080000</td>\n",
       "      <td>0.0</td>\n",
       "      <td>0.0</td>\n",
       "      <td>AAPL</td>\n",
       "    </tr>\n",
       "    <tr>\n",
       "      <th>458</th>\n",
       "      <td>2018-11-30 00:00:00-05:00</td>\n",
       "      <td>43.261071</td>\n",
       "      <td>43.270671</td>\n",
       "      <td>42.478826</td>\n",
       "      <td>42.850754</td>\n",
       "      <td>158126000</td>\n",
       "      <td>0.0</td>\n",
       "      <td>0.0</td>\n",
       "      <td>AAPL</td>\n",
       "    </tr>\n",
       "    <tr>\n",
       "      <th>916</th>\n",
       "      <td>2018-12-03 00:00:00-05:00</td>\n",
       "      <td>44.261681</td>\n",
       "      <td>44.376858</td>\n",
       "      <td>43.481835</td>\n",
       "      <td>44.348064</td>\n",
       "      <td>163210000</td>\n",
       "      <td>0.0</td>\n",
       "      <td>0.0</td>\n",
       "      <td>AAPL</td>\n",
       "    </tr>\n",
       "    <tr>\n",
       "      <th>1374</th>\n",
       "      <td>2018-12-04 00:00:00-05:00</td>\n",
       "      <td>43.419445</td>\n",
       "      <td>43.764977</td>\n",
       "      <td>42.296468</td>\n",
       "      <td>42.397247</td>\n",
       "      <td>165377200</td>\n",
       "      <td>0.0</td>\n",
       "      <td>0.0</td>\n",
       "      <td>AAPL</td>\n",
       "    </tr>\n",
       "    <tr>\n",
       "      <th>1832</th>\n",
       "      <td>2018-12-06 00:00:00-05:00</td>\n",
       "      <td>41.214280</td>\n",
       "      <td>41.938938</td>\n",
       "      <td>40.892744</td>\n",
       "      <td>41.924541</td>\n",
       "      <td>172393600</td>\n",
       "      <td>0.0</td>\n",
       "      <td>0.0</td>\n",
       "      <td>AAPL</td>\n",
       "    </tr>\n",
       "  </tbody>\n",
       "</table>\n",
       "</div>"
      ],
      "text/plain": [
       "                           Date       Open       High        Low      Close  \\\n",
       "0     2018-11-29 00:00:00-05:00  43.829761  43.863354  42.639594  43.083508   \n",
       "458   2018-11-30 00:00:00-05:00  43.261071  43.270671  42.478826  42.850754   \n",
       "916   2018-12-03 00:00:00-05:00  44.261681  44.376858  43.481835  44.348064   \n",
       "1374  2018-12-04 00:00:00-05:00  43.419445  43.764977  42.296468  42.397247   \n",
       "1832  2018-12-06 00:00:00-05:00  41.214280  41.938938  40.892744  41.924541   \n",
       "\n",
       "         Volume  Dividends  Stock Splits Company  \n",
       "0     167080000        0.0           0.0    AAPL  \n",
       "458   158126000        0.0           0.0    AAPL  \n",
       "916   163210000        0.0           0.0    AAPL  \n",
       "1374  165377200        0.0           0.0    AAPL  \n",
       "1832  172393600        0.0           0.0    AAPL  "
      ]
     },
     "execution_count": 2,
     "metadata": {},
     "output_type": "execute_result"
    }
   ],
   "source": [
    "# 특정 회사(컴퍼니)만 시계열 가져오기 (나오게)\n",
    "selected_company = 'AAPL'\n",
    "df_stock = df_stock_all[df_stock_all['Company'] == selected_company]\n",
    "df_stock.head()"
   ]
  },
  {
   "cell_type": "markdown",
   "id": "d3c12a78",
   "metadata": {
    "papermill": {
     "duration": 0.003508,
     "end_time": "2025-03-11T05:24:10.953521",
     "exception": false,
     "start_time": "2025-03-11T05:24:10.950013",
     "status": "completed"
    },
    "tags": []
   },
   "source": [
    "### 데이터 전처리"
   ]
  },
  {
   "cell_type": "code",
   "execution_count": 3,
   "id": "9f8edff5",
   "metadata": {
    "execution": {
     "iopub.execute_input": "2025-03-11T05:24:10.961752Z",
     "iopub.status.busy": "2025-03-11T05:24:10.961511Z",
     "iopub.status.idle": "2025-03-11T05:24:10.981898Z",
     "shell.execute_reply": "2025-03-11T05:24:10.980981Z"
    },
    "papermill": {
     "duration": 0.025769,
     "end_time": "2025-03-11T05:24:10.983021",
     "exception": false,
     "start_time": "2025-03-11T05:24:10.957252",
     "status": "completed"
    },
    "tags": []
   },
   "outputs": [
    {
     "name": "stderr",
     "output_type": "stream",
     "text": [
      "<ipython-input-3-6faa62f0cc68>:2: SettingWithCopyWarning: \n",
      "A value is trying to be set on a copy of a slice from a DataFrame.\n",
      "Try using .loc[row_indexer,col_indexer] = value instead\n",
      "\n",
      "See the caveats in the documentation: https://pandas.pydata.org/pandas-docs/stable/user_guide/indexing.html#returning-a-view-versus-a-copy\n",
      "  df_stock['Date'] = pd.to_datetime(df_stock['Date'], utc=True)\n"
     ]
    },
    {
     "data": {
      "text/plain": [
       "datetime64[ns, UTC]"
      ]
     },
     "execution_count": 3,
     "metadata": {},
     "output_type": "execute_result"
    }
   ],
   "source": [
    "# 날짜를 datetime 변환\n",
    "df_stock['Date'] = pd.to_datetime(df_stock['Date'], utc=True)\n",
    "df_stock['Date'].dtype"
   ]
  },
  {
   "cell_type": "code",
   "execution_count": 4,
   "id": "504cf913",
   "metadata": {
    "execution": {
     "iopub.execute_input": "2025-03-11T05:24:10.991053Z",
     "iopub.status.busy": "2025-03-11T05:24:10.990847Z",
     "iopub.status.idle": "2025-03-11T05:24:10.993540Z",
     "shell.execute_reply": "2025-03-11T05:24:10.992939Z"
    },
    "papermill": {
     "duration": 0.008027,
     "end_time": "2025-03-11T05:24:10.994781",
     "exception": false,
     "start_time": "2025-03-11T05:24:10.986754",
     "status": "completed"
    },
    "tags": []
   },
   "outputs": [],
   "source": [
    "# df_stock.info()"
   ]
  },
  {
   "cell_type": "code",
   "execution_count": 5,
   "id": "e76a868c",
   "metadata": {
    "execution": {
     "iopub.execute_input": "2025-03-11T05:24:11.003556Z",
     "iopub.status.busy": "2025-03-11T05:24:11.003349Z",
     "iopub.status.idle": "2025-03-11T05:24:12.172926Z",
     "shell.execute_reply": "2025-03-11T05:24:12.171947Z"
    },
    "papermill": {
     "duration": 1.175714,
     "end_time": "2025-03-11T05:24:12.174659",
     "exception": false,
     "start_time": "2025-03-11T05:24:10.998945",
     "status": "completed"
    },
    "tags": []
   },
   "outputs": [
    {
     "name": "stderr",
     "output_type": "stream",
     "text": [
      "<ipython-input-5-7eb35ecb155c>:4: SettingWithCopyWarning: \n",
      "A value is trying to be set on a copy of a slice from a DataFrame.\n",
      "Try using .loc[row_indexer,col_indexer] = value instead\n",
      "\n",
      "See the caveats in the documentation: https://pandas.pydata.org/pandas-docs/stable/user_guide/indexing.html#returning-a-view-versus-a-copy\n",
      "  df_stock[['Open','High','Low','Close','Volume']] = scaler.fit_transform(df_stock[['Open','High','Low','Close','Volume']])\n"
     ]
    },
    {
     "data": {
      "text/html": [
       "<div>\n",
       "<style scoped>\n",
       "    .dataframe tbody tr th:only-of-type {\n",
       "        vertical-align: middle;\n",
       "    }\n",
       "\n",
       "    .dataframe tbody tr th {\n",
       "        vertical-align: top;\n",
       "    }\n",
       "\n",
       "    .dataframe thead th {\n",
       "        text-align: right;\n",
       "    }\n",
       "</style>\n",
       "<table border=\"1\" class=\"dataframe\">\n",
       "  <thead>\n",
       "    <tr style=\"text-align: right;\">\n",
       "      <th></th>\n",
       "      <th>Date</th>\n",
       "      <th>Open</th>\n",
       "      <th>High</th>\n",
       "      <th>Low</th>\n",
       "      <th>Close</th>\n",
       "      <th>Volume</th>\n",
       "      <th>Dividends</th>\n",
       "      <th>Stock Splits</th>\n",
       "      <th>Company</th>\n",
       "    </tr>\n",
       "  </thead>\n",
       "  <tbody>\n",
       "    <tr>\n",
       "      <th>0</th>\n",
       "      <td>2018-11-29 05:00:00+00:00</td>\n",
       "      <td>-1.598199</td>\n",
       "      <td>-1.611253</td>\n",
       "      <td>-1.611061</td>\n",
       "      <td>-1.615618</td>\n",
       "      <td>1.176835</td>\n",
       "      <td>0.0</td>\n",
       "      <td>0.0</td>\n",
       "      <td>AAPL</td>\n",
       "    </tr>\n",
       "    <tr>\n",
       "      <th>458</th>\n",
       "      <td>2018-11-30 05:00:00+00:00</td>\n",
       "      <td>-1.610310</td>\n",
       "      <td>-1.623753</td>\n",
       "      <td>-1.614516</td>\n",
       "      <td>-1.620572</td>\n",
       "      <td>1.010309</td>\n",
       "      <td>0.0</td>\n",
       "      <td>0.0</td>\n",
       "      <td>AAPL</td>\n",
       "    </tr>\n",
       "    <tr>\n",
       "      <th>916</th>\n",
       "      <td>2018-12-03 05:00:00+00:00</td>\n",
       "      <td>-1.589000</td>\n",
       "      <td>-1.600423</td>\n",
       "      <td>-1.592958</td>\n",
       "      <td>-1.588704</td>\n",
       "      <td>1.104861</td>\n",
       "      <td>0.0</td>\n",
       "      <td>0.0</td>\n",
       "      <td>AAPL</td>\n",
       "    </tr>\n",
       "  </tbody>\n",
       "</table>\n",
       "</div>"
      ],
      "text/plain": [
       "                         Date      Open      High       Low     Close  \\\n",
       "0   2018-11-29 05:00:00+00:00 -1.598199 -1.611253 -1.611061 -1.615618   \n",
       "458 2018-11-30 05:00:00+00:00 -1.610310 -1.623753 -1.614516 -1.620572   \n",
       "916 2018-12-03 05:00:00+00:00 -1.589000 -1.600423 -1.592958 -1.588704   \n",
       "\n",
       "       Volume  Dividends  Stock Splits Company  \n",
       "0    1.176835        0.0           0.0    AAPL  \n",
       "458  1.010309        0.0           0.0    AAPL  \n",
       "916  1.104861        0.0           0.0    AAPL  "
      ]
     },
     "execution_count": 5,
     "metadata": {},
     "output_type": "execute_result"
    }
   ],
   "source": [
    "# 스케일링\n",
    "from sklearn.preprocessing import StandardScaler\n",
    "scaler = StandardScaler()\n",
    "df_stock[['Open','High','Low','Close','Volume']] = scaler.fit_transform(df_stock[['Open','High','Low','Close','Volume']])\n",
    "df_stock.head(3)"
   ]
  },
  {
   "cell_type": "code",
   "execution_count": 6,
   "id": "c44c940a",
   "metadata": {
    "execution": {
     "iopub.execute_input": "2025-03-11T05:24:12.184199Z",
     "iopub.status.busy": "2025-03-11T05:24:12.183804Z",
     "iopub.status.idle": "2025-03-11T05:24:12.188266Z",
     "shell.execute_reply": "2025-03-11T05:24:12.187456Z"
    },
    "papermill": {
     "duration": 0.010491,
     "end_time": "2025-03-11T05:24:12.189593",
     "exception": false,
     "start_time": "2025-03-11T05:24:12.179102",
     "status": "completed"
    },
    "tags": []
   },
   "outputs": [
    {
     "data": {
      "text/plain": [
       "(1258, 9)"
      ]
     },
     "execution_count": 6,
     "metadata": {},
     "output_type": "execute_result"
    }
   ],
   "source": [
    "df_stock.shape"
   ]
  },
  {
   "cell_type": "code",
   "execution_count": 7,
   "id": "2ad65331",
   "metadata": {
    "execution": {
     "iopub.execute_input": "2025-03-11T05:24:12.198289Z",
     "iopub.status.busy": "2025-03-11T05:24:12.198039Z",
     "iopub.status.idle": "2025-03-11T05:24:15.744017Z",
     "shell.execute_reply": "2025-03-11T05:24:15.743212Z"
    },
    "papermill": {
     "duration": 3.55181,
     "end_time": "2025-03-11T05:24:15.745386",
     "exception": false,
     "start_time": "2025-03-11T05:24:12.193576",
     "status": "completed"
    },
    "tags": []
   },
   "outputs": [
    {
     "name": "stderr",
     "output_type": "stream",
     "text": [
      "Generating Sequences: 100%|██████████| 1253/1253 [00:00<00:00, 1323127.62it/s]\n"
     ]
    },
    {
     "data": {
      "text/plain": [
       "((1253, 5), (1253,))"
      ]
     },
     "execution_count": 7,
     "metadata": {},
     "output_type": "execute_result"
    }
   ],
   "source": [
    "# 시계열 데이터 생성\n",
    "import numpy as np\n",
    "import torch\n",
    "\n",
    "sequence_length = 5 # 5일 단위\n",
    "\n",
    "from tqdm import tqdm\n",
    "\n",
    "\n",
    "def create_sequences(data, seq_length):\n",
    "    xs = []\n",
    "    ys = []\n",
    "    # for i in range(len(data) - seq_length):\n",
    "    for i in tqdm(range(len(data) - seq_length), desc = 'Generating Sequences'):\n",
    "        x = data[i:i+seq_length]\n",
    "        y = data[i+seq_length]\n",
    "        xs.append(x)\n",
    "        ys.append(y)\n",
    "    return np.array(xs), np.array(ys) # features, label\n",
    "\n",
    "features, label = create_sequences(df_stock['Close'].values, sequence_length)\n",
    "features.shape, label.shape"
   ]
  },
  {
   "cell_type": "code",
   "execution_count": 8,
   "id": "e0c6ba77",
   "metadata": {
    "execution": {
     "iopub.execute_input": "2025-03-11T05:24:15.755266Z",
     "iopub.status.busy": "2025-03-11T05:24:15.754921Z",
     "iopub.status.idle": "2025-03-11T05:24:15.759569Z",
     "shell.execute_reply": "2025-03-11T05:24:15.758949Z"
    },
    "papermill": {
     "duration": 0.010779,
     "end_time": "2025-03-11T05:24:15.760794",
     "exception": false,
     "start_time": "2025-03-11T05:24:15.750015",
     "status": "completed"
    },
    "tags": []
   },
   "outputs": [
    {
     "data": {
      "text/plain": [
       "array([[-1.61561817, -1.62057201, -1.58870387, -1.63022425, -1.64028513],\n",
       "       [-1.62057201, -1.58870387, -1.63022425, -1.64028513, -1.67210203],\n",
       "       [-1.58870387, -1.63022425, -1.64028513, -1.67210203, -1.66643324]])"
      ]
     },
     "execution_count": 8,
     "metadata": {},
     "output_type": "execute_result"
    }
   ],
   "source": [
    "features[:3]"
   ]
  },
  {
   "cell_type": "code",
   "execution_count": 9,
   "id": "0b547ed0",
   "metadata": {
    "execution": {
     "iopub.execute_input": "2025-03-11T05:24:15.770266Z",
     "iopub.status.busy": "2025-03-11T05:24:15.770026Z",
     "iopub.status.idle": "2025-03-11T05:24:15.814350Z",
     "shell.execute_reply": "2025-03-11T05:24:15.813684Z"
    },
    "papermill": {
     "duration": 0.050334,
     "end_time": "2025-03-11T05:24:15.815462",
     "exception": false,
     "start_time": "2025-03-11T05:24:15.765128",
     "status": "completed"
    },
    "tags": []
   },
   "outputs": [
    {
     "data": {
      "text/plain": [
       "(torch.Size([1253, 5, 1]), torch.Size([1253, 1]))"
      ]
     },
     "execution_count": 9,
     "metadata": {},
     "output_type": "execute_result"
    }
   ],
   "source": [
    "# 텐서 변환\n",
    "features_tensor = torch.tensor(features, dtype = torch.float32).unsqueeze(-1)\n",
    "label_tensor = torch.tensor(label, dtype = torch.float32).unsqueeze(-1)\n",
    "features_tensor.shape, label_tensor.shape"
   ]
  },
  {
   "cell_type": "markdown",
   "id": "7108ec84",
   "metadata": {
    "papermill": {
     "duration": 0.004323,
     "end_time": "2025-03-11T05:24:15.824358",
     "exception": false,
     "start_time": "2025-03-11T05:24:15.820035",
     "status": "completed"
    },
    "tags": []
   },
   "source": [
    "## 모델관련"
   ]
  },
  {
   "cell_type": "code",
   "execution_count": 10,
   "id": "604a3776",
   "metadata": {
    "execution": {
     "iopub.execute_input": "2025-03-11T05:24:15.834067Z",
     "iopub.status.busy": "2025-03-11T05:24:15.833868Z",
     "iopub.status.idle": "2025-03-11T05:24:15.847715Z",
     "shell.execute_reply": "2025-03-11T05:24:15.847093Z"
    },
    "papermill": {
     "duration": 0.020086,
     "end_time": "2025-03-11T05:24:15.848854",
     "exception": false,
     "start_time": "2025-03-11T05:24:15.828768",
     "status": "completed"
    },
    "tags": []
   },
   "outputs": [
    {
     "data": {
      "text/plain": [
       "SimpleRNN(\n",
       "  (rnn): RNN(1, 5, batch_first=True)\n",
       "  (fc): Linear(in_features=5, out_features=1, bias=True)\n",
       ")"
      ]
     },
     "execution_count": 10,
     "metadata": {},
     "output_type": "execute_result"
    }
   ],
   "source": [
    "# RNN 모델 정의\n",
    "import torch.nn as nn\n",
    "\n",
    "class SimpleRNN(nn.Module):\n",
    "    def __init__(self, input_size, hidden_size, output_size):\n",
    "        super(SimpleRNN, self).__init__()\n",
    "        self.rnn = nn.RNN(input_size, hidden_size, batch_first=True)\n",
    "        self.fc = nn.Linear(hidden_size, output_size)\n",
    "    \n",
    "    def forward(self, x):\n",
    "        h0 = torch.zeros(1, x.size(0), hidden_size)\n",
    "        out, _ = self.rnn(x, h0)\n",
    "        out = self.fc(out[:, -1, :])\n",
    "        return out\n",
    "\n",
    "input_size = 1 # row 단위 갯수\n",
    "hidden_size = 5 # 은닉층 갯수\n",
    "output_size = 1 \n",
    "\n",
    "model = SimpleRNN(input_size, hidden_size, output_size)\n",
    "model"
   ]
  },
  {
   "cell_type": "code",
   "execution_count": 11,
   "id": "c2f51138",
   "metadata": {
    "execution": {
     "iopub.execute_input": "2025-03-11T05:24:15.858402Z",
     "iopub.status.busy": "2025-03-11T05:24:15.858177Z",
     "iopub.status.idle": "2025-03-11T05:24:19.981545Z",
     "shell.execute_reply": "2025-03-11T05:24:19.980341Z"
    },
    "papermill": {
     "duration": 4.130182,
     "end_time": "2025-03-11T05:24:19.983366",
     "exception": false,
     "start_time": "2025-03-11T05:24:15.853184",
     "status": "completed"
    },
    "tags": []
   },
   "outputs": [
    {
     "name": "stderr",
     "output_type": "stream",
     "text": [
      "learning Model:  81%|████████  | 81/100 [00:00<00:00, 248.42it/s]"
     ]
    },
    {
     "name": "stdout",
     "output_type": "stream",
     "text": [
      "Epoch [10 / 100]. Loss : 0.75484\n",
      "Epoch [20 / 100]. Loss : 0.38755\n",
      "Epoch [30 / 100]. Loss : 0.05493\n",
      "Epoch [40 / 100]. Loss : 0.05256\n",
      "Epoch [50 / 100]. Loss : 0.02888\n",
      "Epoch [60 / 100]. Loss : 0.02177\n",
      "Epoch [70 / 100]. Loss : 0.01721\n",
      "Epoch [80 / 100]. Loss : 0.01491\n",
      "Epoch [90 / 100]. Loss : 0.01241\n"
     ]
    },
    {
     "name": "stderr",
     "output_type": "stream",
     "text": [
      "learning Model: 100%|██████████| 100/100 [00:00<00:00, 215.71it/s]"
     ]
    },
    {
     "name": "stdout",
     "output_type": "stream",
     "text": [
      "Epoch [100 / 100]. Loss : 0.01095\n"
     ]
    },
    {
     "name": "stderr",
     "output_type": "stream",
     "text": [
      "\n"
     ]
    }
   ],
   "source": [
    "# 모델 학습\n",
    "import torch.optim as optim\n",
    "\n",
    "criterion = nn.MSELoss()\n",
    "optimizer = optim.AdamW(model.parameters(), lr = 0.01)\n",
    "\n",
    "epochs = 100\n",
    "\n",
    "for epoch in tqdm(range(epochs), desc = 'learning Model'):\n",
    "    model.train()\n",
    "    outputs = model(features_tensor)\n",
    "    optimizer.zero_grad()\n",
    "    loss = criterion(outputs, label_tensor) # error율 확인\n",
    "    loss.backward()\n",
    "    optimizer.step()\n",
    "\n",
    "    if (epoch+1) % 10 == 0: # 10회에 1번 출력\n",
    "        print(f'Epoch [{epoch+1} / {epochs}]. Loss : {loss.item():.5f}')"
   ]
  },
  {
   "cell_type": "code",
   "execution_count": 12,
   "id": "70fd68b1",
   "metadata": {
    "execution": {
     "iopub.execute_input": "2025-03-11T05:24:19.995384Z",
     "iopub.status.busy": "2025-03-11T05:24:19.994995Z",
     "iopub.status.idle": "2025-03-11T05:24:20.015687Z",
     "shell.execute_reply": "2025-03-11T05:24:20.014996Z"
    },
    "papermill": {
     "duration": 0.02799,
     "end_time": "2025-03-11T05:24:20.016812",
     "exception": false,
     "start_time": "2025-03-11T05:24:19.988822",
     "status": "completed"
    },
    "tags": []
   },
   "outputs": [
    {
     "data": {
      "text/plain": [
       "OrderedDict([('rnn.weight_ih_l0',\n",
       "              tensor([[-0.3730],\n",
       "                      [ 0.0368],\n",
       "                      [ 0.1746],\n",
       "                      [-0.4556],\n",
       "                      [-0.5008]])),\n",
       "             ('rnn.weight_hh_l0',\n",
       "              tensor([[ 0.1839,  0.2416,  0.0006,  0.3604,  0.1347],\n",
       "                      [-0.0115, -0.0886, -0.3826,  0.2802,  0.3423],\n",
       "                      [-0.4097,  0.0032, -0.2343, -0.0299,  0.3455],\n",
       "                      [ 0.3106, -0.3605, -0.0803, -0.0486,  0.1144],\n",
       "                      [-0.1968, -0.4716,  0.1403,  0.1910,  0.2999]])),\n",
       "             ('rnn.bias_ih_l0',\n",
       "              tensor([-0.3379,  0.0077, -0.5455,  0.2126,  0.2498])),\n",
       "             ('rnn.bias_hh_l0',\n",
       "              tensor([ 0.2935,  0.2868,  0.1044, -0.1761, -0.1293])),\n",
       "             ('fc.weight',\n",
       "              tensor([[-0.6317, -0.1506,  0.1115, -0.6099, -0.5353]])),\n",
       "             ('fc.bias', tensor([-0.0366]))])"
      ]
     },
     "execution_count": 12,
     "metadata": {},
     "output_type": "execute_result"
    }
   ],
   "source": [
    "model.state_dict()"
   ]
  },
  {
   "cell_type": "markdown",
   "id": "a728ef90",
   "metadata": {
    "papermill": {
     "duration": 0.004702,
     "end_time": "2025-03-11T05:24:20.026669",
     "exception": false,
     "start_time": "2025-03-11T05:24:20.021967",
     "status": "completed"
    },
    "tags": []
   },
   "source": [
    "## 평가 관련"
   ]
  },
  {
   "cell_type": "code",
   "execution_count": 13,
   "id": "0e5ddbcb",
   "metadata": {
    "execution": {
     "iopub.execute_input": "2025-03-11T05:24:20.037439Z",
     "iopub.status.busy": "2025-03-11T05:24:20.037176Z",
     "iopub.status.idle": "2025-03-11T05:24:20.041931Z",
     "shell.execute_reply": "2025-03-11T05:24:20.041126Z"
    },
    "papermill": {
     "duration": 0.011486,
     "end_time": "2025-03-11T05:24:20.043086",
     "exception": false,
     "start_time": "2025-03-11T05:24:20.031600",
     "status": "completed"
    },
    "tags": []
   },
   "outputs": [
    {
     "data": {
      "text/plain": [
       "SimpleRNN(\n",
       "  (rnn): RNN(1, 5, batch_first=True)\n",
       "  (fc): Linear(in_features=5, out_features=1, bias=True)\n",
       ")"
      ]
     },
     "execution_count": 13,
     "metadata": {},
     "output_type": "execute_result"
    }
   ],
   "source": [
    "model.eval()"
   ]
  },
  {
   "cell_type": "code",
   "execution_count": 14,
   "id": "6af25244",
   "metadata": {
    "execution": {
     "iopub.execute_input": "2025-03-11T05:24:20.053760Z",
     "iopub.status.busy": "2025-03-11T05:24:20.053497Z",
     "iopub.status.idle": "2025-03-11T05:24:20.060066Z",
     "shell.execute_reply": "2025-03-11T05:24:20.059145Z"
    },
    "papermill": {
     "duration": 0.013374,
     "end_time": "2025-03-11T05:24:20.061393",
     "exception": false,
     "start_time": "2025-03-11T05:24:20.048019",
     "status": "completed"
    },
    "tags": []
   },
   "outputs": [
    {
     "data": {
      "text/plain": [
       "(tensor([[-1.4909],\n",
       "         [-1.5040],\n",
       "         [-1.5047],\n",
       "         [-1.5057],\n",
       "         [-1.5052]]),\n",
       " tensor([[-1.6721],\n",
       "         [-1.6664],\n",
       "         [-1.6714],\n",
       "         [-1.6690],\n",
       "         [-1.6595]]))"
      ]
     },
     "execution_count": 14,
     "metadata": {},
     "output_type": "execute_result"
    }
   ],
   "source": [
    "with torch.no_grad():\n",
    "    predicted = model(features_tensor[:5])\n",
    "predicted, label_tensor[:5]"
   ]
  },
  {
   "cell_type": "code",
   "execution_count": null,
   "id": "74c6cab1",
   "metadata": {
    "papermill": {
     "duration": 0.004878,
     "end_time": "2025-03-11T05:24:20.071330",
     "exception": false,
     "start_time": "2025-03-11T05:24:20.066452",
     "status": "completed"
    },
    "tags": []
   },
   "outputs": [],
   "source": []
  }
 ],
 "metadata": {
  "kaggle": {
   "accelerator": "nvidiaTeslaT4",
   "dataSources": [
    {
     "datasetId": 4081618,
     "sourceId": 7084494,
     "sourceType": "datasetVersion"
    }
   ],
   "dockerImageVersionId": 30840,
   "isGpuEnabled": true,
   "isInternetEnabled": true,
   "language": "python",
   "sourceType": "notebook"
  },
  "kernelspec": {
   "display_name": "Python 3",
   "language": "python",
   "name": "python3"
  },
  "language_info": {
   "codemirror_mode": {
    "name": "ipython",
    "version": 3
   },
   "file_extension": ".py",
   "mimetype": "text/x-python",
   "name": "python",
   "nbconvert_exporter": "python",
   "pygments_lexer": "ipython3",
   "version": "3.10.12"
  },
  "papermill": {
   "default_parameters": {},
   "duration": 15.678339,
   "end_time": "2025-03-11T05:24:21.596347",
   "environment_variables": {},
   "exception": null,
   "input_path": "__notebook__.ipynb",
   "output_path": "__notebook__.ipynb",
   "parameters": {},
   "start_time": "2025-03-11T05:24:05.918008",
   "version": "2.6.0"
  }
 },
 "nbformat": 4,
 "nbformat_minor": 5
}
