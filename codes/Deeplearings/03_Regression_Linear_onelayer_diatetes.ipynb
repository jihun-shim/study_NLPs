{
 "cells": [
  {
   "cell_type": "markdown",
   "id": "ce9cf54f",
   "metadata": {
    "id": "V6lAQd16JItP",
    "papermill": {
     "duration": 0.004633,
     "end_time": "2025-02-03T01:53:41.098189",
     "exception": false,
     "start_time": "2025-02-03T01:53:41.093556",
     "status": "completed"
    },
    "tags": []
   },
   "source": [
    "## 데이터수집"
   ]
  },
  {
   "cell_type": "code",
   "execution_count": 1,
   "id": "f4f3f80f",
   "metadata": {
    "execution": {
     "iopub.execute_input": "2025-02-03T01:53:41.107657Z",
     "iopub.status.busy": "2025-02-03T01:53:41.107277Z",
     "iopub.status.idle": "2025-02-03T01:53:42.547645Z",
     "shell.execute_reply": "2025-02-03T01:53:42.546578Z"
    },
    "id": "NpJiWQafJ10W",
    "outputId": "5d342cd9-08dc-4341-84db-b98703731f92",
    "papermill": {
     "duration": 1.447238,
     "end_time": "2025-02-03T01:53:42.549558",
     "exception": false,
     "start_time": "2025-02-03T01:53:41.102320",
     "status": "completed"
    },
    "tags": []
   },
   "outputs": [
    {
     "data": {
      "text/plain": [
       "((442, 10), (442,))"
      ]
     },
     "execution_count": 1,
     "metadata": {},
     "output_type": "execute_result"
    }
   ],
   "source": [
    "from sklearn.datasets import load_diabetes\n",
    "data_diabetes = load_diabetes()\n",
    "features,label = data_diabetes.data, data_diabetes.target\n",
    "features.shape, label.shape"
   ]
  },
  {
   "cell_type": "markdown",
   "id": "61d1075a",
   "metadata": {
    "id": "9qZyDDCSJOQX",
    "papermill": {
     "duration": 0.003761,
     "end_time": "2025-02-03T01:53:42.557595",
     "exception": false,
     "start_time": "2025-02-03T01:53:42.553834",
     "status": "completed"
    },
    "tags": []
   },
   "source": [
    "## 데이터 전처리\n",
    "- 데이터 분석"
   ]
  },
  {
   "cell_type": "markdown",
   "id": "01dbc417",
   "metadata": {
    "id": "s0clEPYqJXXd",
    "papermill": {
     "duration": 0.003547,
     "end_time": "2025-02-03T01:53:42.565062",
     "exception": false,
     "start_time": "2025-02-03T01:53:42.561515",
     "status": "completed"
    },
    "tags": []
   },
   "source": [
    "## 데이터 분할\n",
    "- train, test, validation"
   ]
  },
  {
   "cell_type": "code",
   "execution_count": 2,
   "id": "aa50ea63",
   "metadata": {
    "execution": {
     "iopub.execute_input": "2025-02-03T01:53:42.574180Z",
     "iopub.status.busy": "2025-02-03T01:53:42.573725Z",
     "iopub.status.idle": "2025-02-03T01:53:42.691535Z",
     "shell.execute_reply": "2025-02-03T01:53:42.690575Z"
    },
    "id": "X2CDJ7gyKukW",
    "papermill": {
     "duration": 0.124391,
     "end_time": "2025-02-03T01:53:42.693377",
     "exception": false,
     "start_time": "2025-02-03T01:53:42.568986",
     "status": "completed"
    },
    "tags": []
   },
   "outputs": [],
   "source": [
    "from sklearn.model_selection import train_test_split\n",
    "train_features, test_features, train_label, test_label = train_test_split(features, label, test_size=0.2, random_state=42)"
   ]
  },
  {
   "cell_type": "code",
   "execution_count": 3,
   "id": "a2f2b034",
   "metadata": {
    "execution": {
     "iopub.execute_input": "2025-02-03T01:53:42.703198Z",
     "iopub.status.busy": "2025-02-03T01:53:42.702845Z",
     "iopub.status.idle": "2025-02-03T01:53:46.751989Z",
     "shell.execute_reply": "2025-02-03T01:53:46.750796Z"
    },
    "id": "l5yPrDB1LVDv",
    "papermill": {
     "duration": 4.056187,
     "end_time": "2025-02-03T01:53:46.754038",
     "exception": false,
     "start_time": "2025-02-03T01:53:42.697851",
     "status": "completed"
    },
    "tags": []
   },
   "outputs": [],
   "source": [
    "import torch"
   ]
  },
  {
   "cell_type": "code",
   "execution_count": 4,
   "id": "4b0504e7",
   "metadata": {
    "execution": {
     "iopub.execute_input": "2025-02-03T01:53:46.763857Z",
     "iopub.status.busy": "2025-02-03T01:53:46.763368Z",
     "iopub.status.idle": "2025-02-03T01:53:46.804937Z",
     "shell.execute_reply": "2025-02-03T01:53:46.803918Z"
    },
    "id": "oPkkAD-MLe-P",
    "outputId": "bfb207b0-5781-4807-ad52-abfbf0905a1f",
    "papermill": {
     "duration": 0.048411,
     "end_time": "2025-02-03T01:53:46.806699",
     "exception": false,
     "start_time": "2025-02-03T01:53:46.758288",
     "status": "completed"
    },
    "tags": []
   },
   "outputs": [
    {
     "data": {
      "text/plain": [
       "(torch.Tensor, torch.Tensor, torch.Size([353, 1]))"
      ]
     },
     "execution_count": 4,
     "metadata": {},
     "output_type": "execute_result"
    }
   ],
   "source": [
    "train_features_tensor = torch.tensor(train_features, dtype = torch.float32)\n",
    "train_label_tensor = torch.tensor(train_label, dtype = torch.float32).view(-1,1) # 행렬 모양으로 변경\n",
    "# train_features_tensor = torch.tensor(train_features)\n",
    "# train_label_tensor = torch.tensor(train_label)\n",
    "type(train_features_tensor),type(train_label_tensor), train_label_tensor.shape"
   ]
  },
  {
   "cell_type": "markdown",
   "id": "5f34d074",
   "metadata": {
    "id": "QYBDBvLqJkjG",
    "papermill": {
     "duration": 0.003872,
     "end_time": "2025-02-03T01:53:46.814906",
     "exception": false,
     "start_time": "2025-02-03T01:53:46.811034",
     "status": "completed"
    },
    "tags": []
   },
   "source": [
    "## 모델 학습"
   ]
  },
  {
   "cell_type": "code",
   "execution_count": 5,
   "id": "2ab09521",
   "metadata": {
    "execution": {
     "iopub.execute_input": "2025-02-03T01:53:46.824401Z",
     "iopub.status.busy": "2025-02-03T01:53:46.824077Z",
     "iopub.status.idle": "2025-02-03T01:53:46.829705Z",
     "shell.execute_reply": "2025-02-03T01:53:46.828574Z"
    },
    "id": "Jl-enc3SMMk3",
    "papermill": {
     "duration": 0.012296,
     "end_time": "2025-02-03T01:53:46.831390",
     "exception": false,
     "start_time": "2025-02-03T01:53:46.819094",
     "status": "completed"
    },
    "tags": []
   },
   "outputs": [],
   "source": [
    "# simple model linear regression\n",
    "class LinearRegression(torch.nn.Module):\n",
    "  def __init__(self, input_dim, output_dim):  # input_dim:fetures 열 갯수, output_dim:label 카테고리 갯수\n",
    "    super(LinearRegression, self).__init__()\n",
    "    self.linear = torch.nn.Linear(input_dim, output_dim)\n",
    "\n",
    "  def forward(self, x):\n",
    "    out = self.linear(x)\n",
    "    return out\n"
   ]
  },
  {
   "cell_type": "code",
   "execution_count": 6,
   "id": "20f7a1e4",
   "metadata": {
    "execution": {
     "iopub.execute_input": "2025-02-03T01:53:46.841725Z",
     "iopub.status.busy": "2025-02-03T01:53:46.841329Z",
     "iopub.status.idle": "2025-02-03T01:53:46.847035Z",
     "shell.execute_reply": "2025-02-03T01:53:46.846156Z"
    },
    "id": "0h1AQ3w-OVLW",
    "outputId": "8a1308d6-e429-497b-9469-a55f706de59e",
    "papermill": {
     "duration": 0.013039,
     "end_time": "2025-02-03T01:53:46.848836",
     "exception": false,
     "start_time": "2025-02-03T01:53:46.835797",
     "status": "completed"
    },
    "tags": []
   },
   "outputs": [
    {
     "data": {
      "text/plain": [
       "(torch.Size([353, 10]), torch.Size([353, 1]))"
      ]
     },
     "execution_count": 6,
     "metadata": {},
     "output_type": "execute_result"
    }
   ],
   "source": [
    "train_features_tensor.shape, train_label_tensor.shape"
   ]
  },
  {
   "cell_type": "code",
   "execution_count": 7,
   "id": "191dce0b",
   "metadata": {
    "execution": {
     "iopub.execute_input": "2025-02-03T01:53:46.859222Z",
     "iopub.status.busy": "2025-02-03T01:53:46.858844Z",
     "iopub.status.idle": "2025-02-03T01:53:46.875706Z",
     "shell.execute_reply": "2025-02-03T01:53:46.874596Z"
    },
    "id": "eMOUacaVOLMm",
    "papermill": {
     "duration": 0.024198,
     "end_time": "2025-02-03T01:53:46.877587",
     "exception": false,
     "start_time": "2025-02-03T01:53:46.853389",
     "status": "completed"
    },
    "tags": []
   },
   "outputs": [],
   "source": [
    "model = LinearRegression(10,train_label_tensor.shape[1])"
   ]
  },
  {
   "cell_type": "code",
   "execution_count": 8,
   "id": "ae4c8593",
   "metadata": {
    "execution": {
     "iopub.execute_input": "2025-02-03T01:53:46.888171Z",
     "iopub.status.busy": "2025-02-03T01:53:46.887814Z",
     "iopub.status.idle": "2025-02-03T01:53:46.893245Z",
     "shell.execute_reply": "2025-02-03T01:53:46.892275Z"
    },
    "id": "MBzHAhycPOPW",
    "outputId": "8a9f549c-7fce-43d1-b43b-0b00917e1c34",
    "papermill": {
     "duration": 0.012933,
     "end_time": "2025-02-03T01:53:46.895007",
     "exception": false,
     "start_time": "2025-02-03T01:53:46.882074",
     "status": "completed"
    },
    "tags": []
   },
   "outputs": [
    {
     "data": {
      "text/plain": [
       "LinearRegression(\n",
       "  (linear): Linear(in_features=10, out_features=1, bias=True)\n",
       ")"
      ]
     },
     "execution_count": 8,
     "metadata": {},
     "output_type": "execute_result"
    }
   ],
   "source": [
    "model"
   ]
  },
  {
   "cell_type": "code",
   "execution_count": 9,
   "id": "df6dc70c",
   "metadata": {
    "execution": {
     "iopub.execute_input": "2025-02-03T01:53:46.905106Z",
     "iopub.status.busy": "2025-02-03T01:53:46.904776Z",
     "iopub.status.idle": "2025-02-03T01:53:51.779699Z",
     "shell.execute_reply": "2025-02-03T01:53:51.778632Z"
    },
    "id": "xeYbUQRpVZ_u",
    "papermill": {
     "duration": 4.882099,
     "end_time": "2025-02-03T01:53:51.781664",
     "exception": false,
     "start_time": "2025-02-03T01:53:46.899565",
     "status": "completed"
    },
    "tags": []
   },
   "outputs": [],
   "source": [
    "criterion = torch.nn.MSELoss() # Loss function\n",
    "optimizer = torch.optim.SGD(model.parameters(), lr=0.01) # optimizer function"
   ]
  },
  {
   "cell_type": "code",
   "execution_count": 10,
   "id": "c446692d",
   "metadata": {
    "execution": {
     "iopub.execute_input": "2025-02-03T01:53:51.792843Z",
     "iopub.status.busy": "2025-02-03T01:53:51.792328Z",
     "iopub.status.idle": "2025-02-03T01:53:52.325880Z",
     "shell.execute_reply": "2025-02-03T01:53:52.324921Z"
    },
    "id": "HKmhql0VXIXv",
    "outputId": "7eee8f9f-3ba8-4c6c-feb8-c27f771e3e2e",
    "papermill": {
     "duration": 0.541355,
     "end_time": "2025-02-03T01:53:52.327755",
     "exception": false,
     "start_time": "2025-02-03T01:53:51.786400",
     "status": "completed"
    },
    "tags": []
   },
   "outputs": [
    {
     "name": "stdout",
     "output_type": "stream",
     "text": [
      "epoch:0, loss:29695.0546875\n",
      "epoch:100, loss:6409.2421875\n",
      "epoch:200, loss:5924.84912109375\n",
      "epoch:300, loss:5843.791015625\n",
      "epoch:400, loss:5772.0751953125\n",
      "epoch:500, loss:5702.69482421875\n",
      "epoch:600, loss:5635.4541015625\n",
      "epoch:700, loss:5570.27783203125\n",
      "epoch:800, loss:5507.09765625\n",
      "epoch:900, loss:5445.8447265625\n"
     ]
    }
   ],
   "source": [
    "## 반복 학습\n",
    "# for epoch in range(10):\n",
    "for epoch in range(1000):\n",
    "    # Forward pass: Compute predicted y by passing x to the model\n",
    "    pred_y = model(train_features_tensor)\n",
    "\n",
    "    # Compute and print loss\n",
    "    loss = criterion(pred_y, train_label_tensor)\n",
    "\n",
    "    optimizer.zero_grad()\n",
    "    loss.backward()\n",
    "    optimizer.step()\n",
    "    if epoch % 100 == 0 :\n",
    "      print('epoch:{}, loss:{}'.format(epoch, loss.item()))"
   ]
  },
  {
   "cell_type": "markdown",
   "id": "aa3fc7d7",
   "metadata": {
    "id": "6J8KtjmUJpCG",
    "papermill": {
     "duration": 0.004148,
     "end_time": "2025-02-03T01:53:52.336562",
     "exception": false,
     "start_time": "2025-02-03T01:53:52.332414",
     "status": "completed"
    },
    "tags": []
   },
   "source": [
    "## 모델 평가"
   ]
  },
  {
   "cell_type": "code",
   "execution_count": 11,
   "id": "7a23e6cc",
   "metadata": {
    "execution": {
     "iopub.execute_input": "2025-02-03T01:53:52.347224Z",
     "iopub.status.busy": "2025-02-03T01:53:52.346882Z",
     "iopub.status.idle": "2025-02-03T01:53:52.352503Z",
     "shell.execute_reply": "2025-02-03T01:53:52.351677Z"
    },
    "id": "Dlc5dEsHYsC_",
    "outputId": "33010a8f-3142-44ba-9ab5-e62a364cd25a",
    "papermill": {
     "duration": 0.01312,
     "end_time": "2025-02-03T01:53:52.354184",
     "exception": false,
     "start_time": "2025-02-03T01:53:52.341064",
     "status": "completed"
    },
    "tags": []
   },
   "outputs": [
    {
     "data": {
      "text/plain": [
       "LinearRegression(\n",
       "  (linear): Linear(in_features=10, out_features=1, bias=True)\n",
       ")"
      ]
     },
     "execution_count": 11,
     "metadata": {},
     "output_type": "execute_result"
    }
   ],
   "source": [
    "model.eval()"
   ]
  },
  {
   "cell_type": "code",
   "execution_count": 12,
   "id": "b78d30c7",
   "metadata": {
    "execution": {
     "iopub.execute_input": "2025-02-03T01:53:52.365210Z",
     "iopub.status.busy": "2025-02-03T01:53:52.364806Z",
     "iopub.status.idle": "2025-02-03T01:53:52.370411Z",
     "shell.execute_reply": "2025-02-03T01:53:52.369306Z"
    },
    "id": "e2qZkPxRY2pO",
    "outputId": "dff1ebb4-23e7-4cf8-8250-4419d2290acc",
    "papermill": {
     "duration": 0.012749,
     "end_time": "2025-02-03T01:53:52.372097",
     "exception": false,
     "start_time": "2025-02-03T01:53:52.359348",
     "status": "completed"
    },
    "tags": []
   },
   "outputs": [
    {
     "name": "stdout",
     "output_type": "stream",
     "text": [
      "loss: 5386.4541015625\n"
     ]
    }
   ],
   "source": [
    "with torch.no_grad(): # 학습 목적 아닌 평가 목적 위해 고정\n",
    "  pred_y = model(train_features_tensor)\n",
    "  loss = criterion(pred_y, train_label_tensor) # 예측도 같은 Loss function\n",
    "  print('loss: {}'.format(loss.item()))"
   ]
  },
  {
   "cell_type": "markdown",
   "id": "ee376948",
   "metadata": {
    "id": "fBzdrnYpJtW9",
    "papermill": {
     "duration": 0.004289,
     "end_time": "2025-02-03T01:53:52.381253",
     "exception": false,
     "start_time": "2025-02-03T01:53:52.376964",
     "status": "completed"
    },
    "tags": []
   },
   "source": [
    "## 모델 배포"
   ]
  }
 ],
 "metadata": {
  "colab": {
   "provenance": []
  },
  "kaggle": {
   "accelerator": "none",
   "dataSources": [],
   "dockerImageVersionId": 30839,
   "isGpuEnabled": false,
   "isInternetEnabled": false,
   "language": "python",
   "sourceType": "notebook"
  },
  "kernelspec": {
   "display_name": "Python 3",
   "language": "python",
   "name": "python3"
  },
  "language_info": {
   "codemirror_mode": {
    "name": "ipython",
    "version": 3
   },
   "file_extension": ".py",
   "mimetype": "text/x-python",
   "name": "python",
   "nbconvert_exporter": "python",
   "pygments_lexer": "ipython3",
   "version": "3.10.12"
  },
  "papermill": {
   "default_parameters": {},
   "duration": 16.610361,
   "end_time": "2025-02-03T01:53:54.744022",
   "environment_variables": {},
   "exception": null,
   "input_path": "__notebook__.ipynb",
   "output_path": "__notebook__.ipynb",
   "parameters": {},
   "start_time": "2025-02-03T01:53:38.133661",
   "version": "2.6.0"
  }
 },
 "nbformat": 4,
 "nbformat_minor": 5
}
