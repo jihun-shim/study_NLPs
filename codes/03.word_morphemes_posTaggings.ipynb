{
 "cells": [
  {
   "cell_type": "markdown",
   "metadata": {},
   "source": [
    "## 품사달기\n",
    "- https://konlpy.org/ko/stable/api/konlpy.tag/"
   ]
  },
  {
   "cell_type": "code",
   "execution_count": 38,
   "metadata": {},
   "outputs": [],
   "source": [
    "sentence_list = ['아버지가방에들어가신다'\n",
    "                ,'나는 밥을 먹는다.'\n",
    "                , '하늘을 나는 자동차'\n",
    "                , '아이폰 기다리다 지쳐 애플공홈에서 언락폰질러버렸다 6+ 128기가실버ㅋ' ]\n",
    "\n",
    "'''\n",
    "설명:\n",
    "    분석할 예제 문장을 리스트로 저장합니다.\n",
    "    문장들은 간단한 표현부터 긴 비격식적 표현까지 다양합니다.\n",
    "'''"
   ]
  },
  {
   "cell_type": "markdown",
   "metadata": {},
   "source": [
    "### Okt"
   ]
  },
  {
   "cell_type": "code",
   "execution_count": 39,
   "metadata": {},
   "outputs": [],
   "source": [
    "from konlpy.tag import Okt\n",
    "okt = Okt()\n",
    "\n",
    "'''\n",
    "2.1 Okt 객체 생성\n",
    "\n",
    "Okt란?\n",
    "    Open Korean Text의 약자로, 한글 형태소 분석기입니다.\n",
    "    형태소 분석, 품사 태깅, 명사 추출 등의 기능을 제공합니다.\n",
    "'''"
   ]
  },
  {
   "cell_type": "code",
   "execution_count": 40,
   "metadata": {},
   "outputs": [
    {
     "data": {
      "text/plain": [
       "['아버지', '가방', '에', '들어가신다']"
      ]
     },
     "execution_count": 40,
     "metadata": {},
     "output_type": "execute_result"
    }
   ],
   "source": [
    "pos_list = okt.morphs(sentence_list[0])\n",
    "pos_list\n",
    "\n",
    "'''\n",
    "2.2 형태소 분석\n",
    "\n",
    "설명:\n",
    "    morphs() 메서드는 문장을 형태소 단위로 나눕니다.\n",
    "    예: ['아버지', '가', '방', '에', '들어가신다']\n",
    "'''"
   ]
  },
  {
   "cell_type": "code",
   "execution_count": 41,
   "metadata": {},
   "outputs": [
    {
     "data": {
      "text/plain": [
       "[('아버지', 'Noun'), ('가방', 'Noun'), ('에', 'Josa'), ('들어가신다', 'Verb')]"
      ]
     },
     "execution_count": 41,
     "metadata": {},
     "output_type": "execute_result"
    }
   ],
   "source": [
    "# 품사 확인\n",
    "okt.pos(sentence_list[0])\n",
    "# pos_tag_list = okt.pos(sentence_list[1])\n",
    "# pos_tag_list\n",
    "\n",
    "'''\n",
    "2.3 품사 태깅\n",
    "\n",
    "설명:\n",
    "    pos() 메서드는 형태소를 추출하면서 동시에 품사 태깅을 수행합니다.\n",
    "    예: [('아버지', 'Noun'), ('가', 'Josa'), ('방', 'Noun'), ('에', 'Josa'), ('들어가신다', 'Verb')]\n",
    "    각 단어에 대해 어떤 품사인지 함께 표시됩니다.\n",
    "'''"
   ]
  },
  {
   "cell_type": "code",
   "execution_count": 42,
   "metadata": {},
   "outputs": [
    {
     "data": {
      "text/plain": [
       "[('아버지', 'Noun'), ('가방', 'Noun'), ('에', 'Josa'), ('들어가다', 'Verb')]"
      ]
     },
     "execution_count": 42,
     "metadata": {},
     "output_type": "execute_result"
    }
   ],
   "source": [
    "# 품사 원형 복원\n",
    "okt.pos(sentence_list[0], stem = True)\n",
    "\n",
    "'''\n",
    "2.4 품사 원형 복원\n",
    "\n",
    "설명:\n",
    "    stem=True 옵션을 사용하면, 동사와 형용사의 어간(기본형)을 복원합니다.\n",
    "    예: [('아버지', 'Noun'), ('가', 'Josa'), ('방', 'Noun'), ('에', 'Josa'), ('들어가다', 'Verb')]\n",
    "    기본형 복원은 언어 분석에 유용합니다.\n",
    "'''"
   ]
  },
  {
   "cell_type": "code",
   "execution_count": 43,
   "metadata": {},
   "outputs": [
    {
     "data": {
      "text/plain": [
       "['아이폰', '애플', '공홈', '락폰', '기', '실버']"
      ]
     },
     "execution_count": 43,
     "metadata": {},
     "output_type": "execute_result"
    }
   ],
   "source": [
    "# 명사만 모임\n",
    "okt.nouns(sentence_list[3])\n",
    "\n",
    "'''\n",
    "2.5 명사 추출\n",
    "\n",
    "설명:\n",
    "    nouns() 메서드는 문장에서 명사만 추출합니다.\n",
    "    예: ['아이폰', '기다리다', '지쳐', '애플', '공홈', '언락', '폰질러버렸다', '128', '기가', '실버']\n",
    "'''"
   ]
  },
  {
   "cell_type": "code",
   "execution_count": 44,
   "metadata": {},
   "outputs": [
    {
     "data": {
      "text/plain": [
       "['들어가다', '먹다', '기다리다', '지치다', '지르다', '버리다']"
      ]
     },
     "execution_count": 44,
     "metadata": {},
     "output_type": "execute_result"
    }
   ],
   "source": [
    "# 명사외에 특정 품사 모임 만들기\n",
    "sentences = ' '.join(sentence_list)\n",
    "len(sentences)\n",
    "# sentence_pos = okt.pos(sentences)\n",
    "sentence_pos = okt.pos(sentences, stem = True)\n",
    "\n",
    "# verb_list = []\n",
    "# for word, pos in sentence_pos :\n",
    "#     if pos == 'Verb':\n",
    "#         verb_list.append(word)\n",
    "#     pass\n",
    "\n",
    "verb_list = [word for word, pos in sentence_pos if pos == 'Verb']\n",
    "verb_list\n",
    "\n",
    "'''\n",
    "2.6 특정 품사만 추출\n",
    "\n",
    "설명:\n",
    "    문장들을 하나로 합칩니다.\n",
    "    pos()로 품사를 태깅합니다.  \n",
    "    반복문을 사용해 태깅된 품사 중에서 동사(Verb)만 추출합니다.\n",
    "    예: ['들어가다', '먹다', '나다', '기다리다', '지치다', '질르다']\n",
    "'''"
   ]
  },
  {
   "cell_type": "markdown",
   "metadata": {},
   "source": [
    "### Mecab"
   ]
  },
  {
   "cell_type": "code",
   "execution_count": 45,
   "metadata": {},
   "outputs": [],
   "source": [
    "from mecab import MeCab\n",
    "mecab = MeCab()\n",
    "\n",
    "'''\n",
    "Mecab이란?\n",
    "    한글에 특화된 형태소 분석기로, 속도가 빠르고 정확도가 높습니다.\n",
    "    Mecab은 Konlpy 라이브러리를 통해 사용할 수 있습니다.\n",
    "'''"
   ]
  },
  {
   "cell_type": "code",
   "execution_count": 46,
   "metadata": {},
   "outputs": [
    {
     "data": {
      "text/plain": [
       "['아버지', '가', '방', '에', '들어가', '신다']"
      ]
     },
     "execution_count": 46,
     "metadata": {},
     "output_type": "execute_result"
    }
   ],
   "source": [
    "mecab.morphs(sentence_list[0])\n",
    "\n",
    "'''\n",
    "3.2 형태소 분석\n",
    "morphs() 메서드는 문장을 형태소 단위로 나눕니다.\n",
    "예: ['아버지', '가', '방', '에', '들어가', '신다']\n",
    "'''"
   ]
  },
  {
   "cell_type": "code",
   "execution_count": 47,
   "metadata": {},
   "outputs": [
    {
     "data": {
      "text/plain": [
       "[('나', 'NP'),\n",
       " ('는', 'JX'),\n",
       " ('밥', 'NNG'),\n",
       " ('을', 'JKO'),\n",
       " ('먹', 'VV'),\n",
       " ('는다', 'EF'),\n",
       " ('.', 'SF')]"
      ]
     },
     "execution_count": 47,
     "metadata": {},
     "output_type": "execute_result"
    }
   ],
   "source": [
    "# mecab.pos(sentence_list[0])\n",
    "mecab.pos(sentence_list[1])\n",
    "\n",
    "'''\n",
    "3.3 품사 태깅\n",
    "    pos() 메서드는 형태소를 추출하면서 품사 태깅을 수행합니다.\n",
    "    예: [('나', 'NP'), ('는', 'JX'), ('밥', 'NNG'), ('을', 'JKO'), ('먹', 'VV'), ('는다', 'EF'), ('.', 'SF')]\n",
    "'''"
   ]
  },
  {
   "cell_type": "code",
   "execution_count": 48,
   "metadata": {},
   "outputs": [
    {
     "data": {
      "text/plain": [
       "['아이폰', '애플', '공홈', '언락', '폰', '기', '실버']"
      ]
     },
     "execution_count": 48,
     "metadata": {},
     "output_type": "execute_result"
    }
   ],
   "source": [
    "mecab.nouns(sentence_list[3])\n",
    "'''\n",
    "3.4 명사 추출\n",
    "설명:\n",
    "    nouns() 메서드는 문장에서 명사만 추출합니다.\n",
    "    예: ['아이폰', '애플', '공홈', '언락', '폰', '128', '기가', '실버']\n",
    "'''"
   ]
  },
  {
   "cell_type": "code",
   "execution_count": null,
   "metadata": {},
   "outputs": [],
   "source": []
  }
 ],
 "metadata": {
  "kernelspec": {
   "display_name": "Python 3",
   "language": "python",
   "name": "python3"
  },
  "language_info": {
   "codemirror_mode": {
    "name": "ipython",
    "version": 3
   },
   "file_extension": ".py",
   "mimetype": "text/x-python",
   "name": "python",
   "nbconvert_exporter": "python",
   "pygments_lexer": "ipython3",
   "version": "3.11.11"
  }
 },
 "nbformat": 4,
 "nbformat_minor": 2
}
