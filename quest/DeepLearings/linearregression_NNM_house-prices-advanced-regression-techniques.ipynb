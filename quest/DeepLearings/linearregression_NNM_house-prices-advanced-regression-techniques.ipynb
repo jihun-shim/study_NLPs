{
 "cells": [
  {
   "cell_type": "code",
   "execution_count": 1,
   "id": "426cccca",
   "metadata": {
    "execution": {
     "iopub.execute_input": "2025-02-03T14:02:06.092257Z",
     "iopub.status.busy": "2025-02-03T14:02:06.091871Z",
     "iopub.status.idle": "2025-02-03T14:02:06.941068Z",
     "shell.execute_reply": "2025-02-03T14:02:06.940093Z"
    },
    "papermill": {
     "duration": 0.85781,
     "end_time": "2025-02-03T14:02:06.942581",
     "exception": false,
     "start_time": "2025-02-03T14:02:06.084771",
     "status": "completed"
    },
    "tags": []
   },
   "outputs": [
    {
     "name": "stdout",
     "output_type": "stream",
     "text": [
      "/kaggle/input/house-prices-advanced-regression-techniques/sample_submission.csv\n",
      "/kaggle/input/house-prices-advanced-regression-techniques/data_description.txt\n",
      "/kaggle/input/house-prices-advanced-regression-techniques/train.csv\n",
      "/kaggle/input/house-prices-advanced-regression-techniques/test.csv\n"
     ]
    }
   ],
   "source": [
    "# This Python 3 environment comes with many helpful analytics libraries installed\n",
    "# It is defined by the kaggle/python Docker image: https://github.com/kaggle/docker-python\n",
    "# For example, here's several helpful packages to load\n",
    "\n",
    "import numpy as np # linear algebra\n",
    "import pandas as pd # data processing, CSV file I/O (e.g. pd.read_csv)\n",
    "\n",
    "# Input data files are available in the read-only \"../input/\" directory\n",
    "# For example, running this (by clicking run or pressing Shift+Enter) will list all files under the input directory\n",
    "\n",
    "import os\n",
    "for dirname, _, filenames in os.walk('/kaggle/input'):\n",
    "    for filename in filenames:\n",
    "        print(os.path.join(dirname, filename))\n",
    "\n",
    "# You can write up to 20GB to the current directory (/kaggle/working/) that gets preserved as output when you create a version using \"Save & Run All\" \n",
    "# You can also write temporary files to /kaggle/temp/, but they won't be saved outside of the current session"
   ]
  },
  {
   "cell_type": "code",
   "execution_count": 2,
   "id": "ffd7c930",
   "metadata": {
    "execution": {
     "iopub.execute_input": "2025-02-03T14:02:06.954614Z",
     "iopub.status.busy": "2025-02-03T14:02:06.954151Z",
     "iopub.status.idle": "2025-02-03T14:02:08.115444Z",
     "shell.execute_reply": "2025-02-03T14:02:08.114416Z"
    },
    "papermill": {
     "duration": 1.16909,
     "end_time": "2025-02-03T14:02:08.117178",
     "exception": false,
     "start_time": "2025-02-03T14:02:06.948088",
     "status": "completed"
    },
    "tags": []
   },
   "outputs": [],
   "source": [
    "import pandas as pd\n",
    "from sklearn.preprocessing import StandardScaler"
   ]
  },
  {
   "cell_type": "markdown",
   "id": "a2302365",
   "metadata": {
    "papermill": {
     "duration": 0.004964,
     "end_time": "2025-02-03T14:02:08.127641",
     "exception": false,
     "start_time": "2025-02-03T14:02:08.122677",
     "status": "completed"
    },
    "tags": []
   },
   "source": [
    "## 데이터 수집"
   ]
  },
  {
   "cell_type": "code",
   "execution_count": 3,
   "id": "6cd12ab0",
   "metadata": {
    "execution": {
     "iopub.execute_input": "2025-02-03T14:02:08.139269Z",
     "iopub.status.busy": "2025-02-03T14:02:08.138810Z",
     "iopub.status.idle": "2025-02-03T14:02:08.202110Z",
     "shell.execute_reply": "2025-02-03T14:02:08.201341Z"
    },
    "id": "WWqnlVD1Jzzr",
    "outputId": "b720360d-8452-4f42-f643-f7730c47e2fd",
    "papermill": {
     "duration": 0.070929,
     "end_time": "2025-02-03T14:02:08.203805",
     "exception": false,
     "start_time": "2025-02-03T14:02:08.132876",
     "status": "completed"
    },
    "tags": []
   },
   "outputs": [],
   "source": [
    "train_data = pd.read_csv(\"/kaggle/input/house-prices-advanced-regression-techniques/train.csv\")\n",
    "test_data = pd.read_csv(\"/kaggle/input/house-prices-advanced-regression-techniques/test.csv\")\n",
    "\n",
    "# from sklearn.datasets import load_diabetes\n",
    "# data_diabetes = load_diabetes()\n",
    "# features, label = data_diabetes.data, data_diabetes.target\n",
    "# features.shape, label.shape"
   ]
  },
  {
   "cell_type": "markdown",
   "id": "5a540c5f",
   "metadata": {
    "id": "5KcIOhMiJNKp",
    "papermill": {
     "duration": 0.005123,
     "end_time": "2025-02-03T14:02:08.214398",
     "exception": false,
     "start_time": "2025-02-03T14:02:08.209275",
     "status": "completed"
    },
    "tags": []
   },
   "source": [
    "## 데이터 전처리\n",
    "- 데이터 분석"
   ]
  },
  {
   "cell_type": "code",
   "execution_count": 4,
   "id": "80b8f723",
   "metadata": {
    "execution": {
     "iopub.execute_input": "2025-02-03T14:02:08.226110Z",
     "iopub.status.busy": "2025-02-03T14:02:08.225787Z",
     "iopub.status.idle": "2025-02-03T14:02:08.266904Z",
     "shell.execute_reply": "2025-02-03T14:02:08.265864Z"
    },
    "papermill": {
     "duration": 0.049025,
     "end_time": "2025-02-03T14:02:08.268658",
     "exception": false,
     "start_time": "2025-02-03T14:02:08.219633",
     "status": "completed"
    },
    "tags": []
   },
   "outputs": [],
   "source": [
    "# 1. features(입력 데이터)와 label(정답) 타겟 변수 분리\n",
    "features = train_data.drop(columns=[\"SalePrice\"])  \n",
    "label = train_data[\"SalePrice\"]  \n",
    "test_features = test_data  \n",
    "\n",
    "# 2. 연속형 변수 선택(숫자형 데이터만 선택)\n",
    "numerical_features = features.select_dtypes(include=[\"int64\",\"float64\"]).columns\n",
    "\n",
    "# 3. StandardScaler 적용 (학습 데이터 기준으로 스케일링)\n",
    "scaler = StandardScaler()\n",
    "\n",
    "# 학습 데이터 변환\n",
    "features_scaled = scaler.fit_transform(features[numerical_features])  \n",
    "features_scaled = pd.DataFrame(features_scaled, columns=numerical_features)\n",
    "\n",
    "# 테스트 데이터 변환 (train 기준으로 변환해야 함)\n",
    "test_features_scaled = scaler.transform(test_features[numerical_features])  \n",
    "test_features_scaled = pd.DataFrame(test_features_scaled, columns=numerical_features)"
   ]
  },
  {
   "cell_type": "markdown",
   "id": "f1faa083",
   "metadata": {
    "id": "zucSSN6sJWJC",
    "papermill": {
     "duration": 0.004902,
     "end_time": "2025-02-03T14:02:08.278977",
     "exception": false,
     "start_time": "2025-02-03T14:02:08.274075",
     "status": "completed"
    },
    "tags": []
   },
   "source": [
    "## 데이터 분할\n",
    "- train, test, validation"
   ]
  },
  {
   "cell_type": "code",
   "execution_count": 5,
   "id": "1ffc7ea4",
   "metadata": {
    "execution": {
     "iopub.execute_input": "2025-02-03T14:02:08.290484Z",
     "iopub.status.busy": "2025-02-03T14:02:08.290113Z",
     "iopub.status.idle": "2025-02-03T14:02:08.386484Z",
     "shell.execute_reply": "2025-02-03T14:02:08.385684Z"
    },
    "id": "H4Bwj5IvKsXq",
    "papermill": {
     "duration": 0.10402,
     "end_time": "2025-02-03T14:02:08.388159",
     "exception": false,
     "start_time": "2025-02-03T14:02:08.284139",
     "status": "completed"
    },
    "tags": []
   },
   "outputs": [],
   "source": [
    "from sklearn.model_selection import train_test_split\n",
    "# train_features, test_features, train_label, test_label = train_test_split(features, label, test_size=0.2, random_state=42)"
   ]
  },
  {
   "cell_type": "code",
   "execution_count": 6,
   "id": "321ceb40",
   "metadata": {
    "execution": {
     "iopub.execute_input": "2025-02-03T14:02:08.399826Z",
     "iopub.status.busy": "2025-02-03T14:02:08.399506Z",
     "iopub.status.idle": "2025-02-03T14:02:12.035889Z",
     "shell.execute_reply": "2025-02-03T14:02:12.034816Z"
    },
    "id": "yuhS4Jc9LQbZ",
    "papermill": {
     "duration": 3.644227,
     "end_time": "2025-02-03T14:02:12.037815",
     "exception": false,
     "start_time": "2025-02-03T14:02:08.393588",
     "status": "completed"
    },
    "tags": []
   },
   "outputs": [],
   "source": [
    "import torch\n",
    "import numpy as np"
   ]
  },
  {
   "cell_type": "markdown",
   "id": "2146a040",
   "metadata": {
    "papermill": {
     "duration": 0.00508,
     "end_time": "2025-02-03T14:02:12.048538",
     "exception": false,
     "start_time": "2025-02-03T14:02:12.043458",
     "status": "completed"
    },
    "tags": []
   },
   "source": [
    "- 텐서변화"
   ]
  },
  {
   "cell_type": "code",
   "execution_count": 7,
   "id": "7d848e84",
   "metadata": {
    "execution": {
     "iopub.execute_input": "2025-02-03T14:02:12.060198Z",
     "iopub.status.busy": "2025-02-03T14:02:12.059701Z",
     "iopub.status.idle": "2025-02-03T14:02:12.066211Z",
     "shell.execute_reply": "2025-02-03T14:02:12.065266Z"
    },
    "papermill": {
     "duration": 0.01409,
     "end_time": "2025-02-03T14:02:12.067802",
     "exception": false,
     "start_time": "2025-02-03T14:02:12.053712",
     "status": "completed"
    },
    "tags": []
   },
   "outputs": [],
   "source": [
    "# NaN(결측값)이 있다면 처리하기\n",
    "features_scaled = features_scaled.fillna(0)\n",
    "test_features_scaled = test_features_scaled.fillna(0)"
   ]
  },
  {
   "cell_type": "code",
   "execution_count": 8,
   "id": "9417bd4c",
   "metadata": {
    "execution": {
     "iopub.execute_input": "2025-02-03T14:02:12.079546Z",
     "iopub.status.busy": "2025-02-03T14:02:12.079158Z",
     "iopub.status.idle": "2025-02-03T14:02:12.082736Z",
     "shell.execute_reply": "2025-02-03T14:02:12.081798Z"
    },
    "papermill": {
     "duration": 0.011136,
     "end_time": "2025-02-03T14:02:12.084354",
     "exception": false,
     "start_time": "2025-02-03T14:02:12.073218",
     "status": "completed"
    },
    "tags": []
   },
   "outputs": [],
   "source": [
    "# train-test 데이터 분할 (모델 평가를 위해 80:20으로 분할)\n",
    "# train_features, val_features, train_label, val_label = train_test_split(features_scaled, label, test_size=0.2, random_state=42)"
   ]
  },
  {
   "cell_type": "code",
   "execution_count": 9,
   "id": "e2f57687",
   "metadata": {
    "execution": {
     "iopub.execute_input": "2025-02-03T14:02:12.096048Z",
     "iopub.status.busy": "2025-02-03T14:02:12.095713Z",
     "iopub.status.idle": "2025-02-03T14:02:12.134066Z",
     "shell.execute_reply": "2025-02-03T14:02:12.133029Z"
    },
    "id": "t_YAJ9mELdpZ",
    "outputId": "c71d840d-763a-4497-b6c6-1e27a09e71c6",
    "papermill": {
     "duration": 0.046342,
     "end_time": "2025-02-03T14:02:12.136044",
     "exception": false,
     "start_time": "2025-02-03T14:02:12.089702",
     "status": "completed"
    },
    "tags": []
   },
   "outputs": [],
   "source": [
    "# pyTorch 텐서 변환\n",
    "# train_features_tensor = torch.tensor(train_features.values, dtype=torch.float32)\n",
    "# val_features_tensor = torch.tensor(val_features.values, dtype=torch.float32)\n",
    "# train_label_tensor = torch.tensor(train_label.values, dtype=torch.float32).view(-1,1)\n",
    "# val_label_tensor = torch.tensor(val_label.values, dtype=torch.float32).view(-1,1)\n",
    "# test_features_tensor = torch.tensor(test_features_scaled.values, dtype=torch.float32)\n",
    "\n",
    "train_features_tensor = torch.tensor(features_scaled.values, dtype=torch.float32)\n",
    "train_label_tensor = torch.tensor(label.values, dtype=torch.float32).view(-1, 1)\n",
    "test_features_tensor = torch.tensor(test_features_scaled.values, dtype=torch.float32)\n"
   ]
  },
  {
   "cell_type": "markdown",
   "id": "11752d98",
   "metadata": {
    "id": "nATrFQ0EJjwJ",
    "papermill": {
     "duration": 0.005054,
     "end_time": "2025-02-03T14:02:12.146663",
     "exception": false,
     "start_time": "2025-02-03T14:02:12.141609",
     "status": "completed"
    },
    "tags": []
   },
   "source": [
    "## 모델 학습"
   ]
  },
  {
   "cell_type": "code",
   "execution_count": 10,
   "id": "6d1f52f6",
   "metadata": {
    "execution": {
     "iopub.execute_input": "2025-02-03T14:02:12.158161Z",
     "iopub.status.busy": "2025-02-03T14:02:12.157838Z",
     "iopub.status.idle": "2025-02-03T14:02:12.163524Z",
     "shell.execute_reply": "2025-02-03T14:02:12.162646Z"
    },
    "id": "-pe2fsPfL9gp",
    "papermill": {
     "duration": 0.013147,
     "end_time": "2025-02-03T14:02:12.164939",
     "exception": false,
     "start_time": "2025-02-03T14:02:12.151792",
     "status": "completed"
    },
    "tags": []
   },
   "outputs": [],
   "source": [
    "# Neural Network model linear regression\n",
    "class LinearRegressionNNM(torch.nn.Module):\n",
    "    def __init__(self, input_dim):    # input_dim:features 열 갯수\n",
    "        super(LinearRegressionNNM, self).__init__()\n",
    "        # super(self).__init__()\n",
    "        self.hidden_1 = torch.nn.Linear(input_dim, 64)\n",
    "        self.hidden_2 = torch.nn.Linear(64, 32)\n",
    "        self.hidden_3 = torch.nn.Linear(32, 16)\n",
    "        self.output = torch.nn.Linear(16, 1)\n",
    "        self.relu = torch.nn.ReLU()  # Activation function\n",
    "\n",
    "    def forward(self, x):\n",
    "        x = self.relu(self.hidden_1(x))  # hidden layer 1\n",
    "        x = self.relu(self.hidden_2(x))  # hidden layer 2\n",
    "        x = self.relu(self.hidden_3(x))  # hidden layer 3\n",
    "        out = self.output(x)   # result\n",
    "        return out\n"
   ]
  },
  {
   "cell_type": "code",
   "execution_count": 11,
   "id": "44fe3272",
   "metadata": {
    "execution": {
     "iopub.execute_input": "2025-02-03T14:02:12.176536Z",
     "iopub.status.busy": "2025-02-03T14:02:12.176178Z",
     "iopub.status.idle": "2025-02-03T14:02:12.179627Z",
     "shell.execute_reply": "2025-02-03T14:02:12.178782Z"
    },
    "id": "gJRMFMXjOToZ",
    "outputId": "eff5c085-ceb2-462a-975f-ef6f08e71131",
    "papermill": {
     "duration": 0.010703,
     "end_time": "2025-02-03T14:02:12.180972",
     "exception": false,
     "start_time": "2025-02-03T14:02:12.170269",
     "status": "completed"
    },
    "tags": []
   },
   "outputs": [],
   "source": [
    "# train_features_tensor.shape, train_label_tensor.shape"
   ]
  },
  {
   "cell_type": "code",
   "execution_count": 12,
   "id": "7b8fd5f0",
   "metadata": {
    "execution": {
     "iopub.execute_input": "2025-02-03T14:02:12.192483Z",
     "iopub.status.busy": "2025-02-03T14:02:12.192149Z",
     "iopub.status.idle": "2025-02-03T14:02:12.195688Z",
     "shell.execute_reply": "2025-02-03T14:02:12.194883Z"
    },
    "id": "N6dfYfN9OKVZ",
    "papermill": {
     "duration": 0.010858,
     "end_time": "2025-02-03T14:02:12.197136",
     "exception": false,
     "start_time": "2025-02-03T14:02:12.186278",
     "status": "completed"
    },
    "tags": []
   },
   "outputs": [],
   "source": [
    "# 모델 생성(input_dim 자동 설정)\n",
    "input_dim = train_features_tensor.shape[1] # 입력차원 : 특성 개수"
   ]
  },
  {
   "cell_type": "code",
   "execution_count": 13,
   "id": "781efa38",
   "metadata": {
    "execution": {
     "iopub.execute_input": "2025-02-03T14:02:12.208695Z",
     "iopub.status.busy": "2025-02-03T14:02:12.208366Z",
     "iopub.status.idle": "2025-02-03T14:02:12.223060Z",
     "shell.execute_reply": "2025-02-03T14:02:12.222090Z"
    },
    "id": "Vu7UEFjrPNGR",
    "outputId": "2459ef1f-9b7b-4392-90db-0c868ab350f4",
    "papermill": {
     "duration": 0.021961,
     "end_time": "2025-02-03T14:02:12.224559",
     "exception": false,
     "start_time": "2025-02-03T14:02:12.202598",
     "status": "completed"
    },
    "tags": []
   },
   "outputs": [],
   "source": [
    "model = LinearRegressionNNM(input_dim)"
   ]
  },
  {
   "cell_type": "code",
   "execution_count": 14,
   "id": "94d7bb87",
   "metadata": {
    "execution": {
     "iopub.execute_input": "2025-02-03T14:02:12.235983Z",
     "iopub.status.busy": "2025-02-03T14:02:12.235674Z",
     "iopub.status.idle": "2025-02-03T14:02:16.460075Z",
     "shell.execute_reply": "2025-02-03T14:02:16.459181Z"
    },
    "id": "PkH3WN7eVZE6",
    "papermill": {
     "duration": 4.232125,
     "end_time": "2025-02-03T14:02:16.462001",
     "exception": false,
     "start_time": "2025-02-03T14:02:12.229876",
     "status": "completed"
    },
    "tags": []
   },
   "outputs": [],
   "source": [
    "criterion = torch.nn.MSELoss()  # Loss function\n",
    "# optimizer = torch.optim.SGD(model.parameters(), lr=0.01)  # optimizer function\n",
    "optimizer = torch.optim.Adam(model.parameters(), lr=0.001)  # optimizer function"
   ]
  },
  {
   "cell_type": "code",
   "execution_count": 15,
   "id": "c325c66c",
   "metadata": {
    "execution": {
     "iopub.execute_input": "2025-02-03T14:02:16.474631Z",
     "iopub.status.busy": "2025-02-03T14:02:16.474056Z",
     "iopub.status.idle": "2025-02-03T14:02:18.847352Z",
     "shell.execute_reply": "2025-02-03T14:02:18.846090Z"
    },
    "id": "fAp4BWFOWpvJ",
    "outputId": "c011f3aa-ea92-4172-8073-244b0321a5e7",
    "papermill": {
     "duration": 2.381282,
     "end_time": "2025-02-03T14:02:18.849147",
     "exception": false,
     "start_time": "2025-02-03T14:02:16.467865",
     "status": "completed"
    },
    "tags": []
   },
   "outputs": [
    {
     "name": "stdout",
     "output_type": "stream",
     "text": [
      "Epoch [10/100], Loss: 39039262720.0000\n",
      "Epoch [20/100], Loss: 39039111168.0000\n",
      "Epoch [30/100], Loss: 39038824448.0000\n",
      "Epoch [40/100], Loss: 39038246912.0000\n",
      "Epoch [50/100], Loss: 39037116416.0000\n",
      "Epoch [60/100], Loss: 39035056128.0000\n",
      "Epoch [70/100], Loss: 39031463936.0000\n",
      "Epoch [80/100], Loss: 39025565696.0000\n",
      "Epoch [90/100], Loss: 39016333312.0000\n",
      "Epoch [100/100], Loss: 39002374144.0000\n",
      "Epoch [110/100], Loss: 38982057984.0000\n",
      "Epoch [120/100], Loss: 38953488384.0000\n",
      "Epoch [130/100], Loss: 38914445312.0000\n",
      "Epoch [140/100], Loss: 38862434304.0000\n",
      "Epoch [150/100], Loss: 38794641408.0000\n",
      "Epoch [160/100], Loss: 38707978240.0000\n",
      "Epoch [170/100], Loss: 38599086080.0000\n",
      "Epoch [180/100], Loss: 38464311296.0000\n",
      "Epoch [190/100], Loss: 38299422720.0000\n",
      "Epoch [200/100], Loss: 38099562496.0000\n",
      "Epoch [210/100], Loss: 37860098048.0000\n",
      "Epoch [220/100], Loss: 37576491008.0000\n",
      "Epoch [230/100], Loss: 37244174336.0000\n",
      "Epoch [240/100], Loss: 36858531840.0000\n",
      "Epoch [250/100], Loss: 36414427136.0000\n",
      "Epoch [260/100], Loss: 35907219456.0000\n",
      "Epoch [270/100], Loss: 35333185536.0000\n",
      "Epoch [280/100], Loss: 34689163264.0000\n",
      "Epoch [290/100], Loss: 33972797440.0000\n",
      "Epoch [300/100], Loss: 33182537728.0000\n",
      "Epoch [310/100], Loss: 32317884416.0000\n",
      "Epoch [320/100], Loss: 31379558400.0000\n",
      "Epoch [330/100], Loss: 30369611776.0000\n",
      "Epoch [340/100], Loss: 29291749376.0000\n",
      "Epoch [350/100], Loss: 28151232512.0000\n",
      "Epoch [360/100], Loss: 26955139072.0000\n",
      "Epoch [370/100], Loss: 25712302080.0000\n",
      "Epoch [380/100], Loss: 24433342464.0000\n",
      "Epoch [390/100], Loss: 23130417152.0000\n",
      "Epoch [400/100], Loss: 21817128960.0000\n",
      "Epoch [410/100], Loss: 20508168192.0000\n",
      "Epoch [420/100], Loss: 19218812928.0000\n",
      "Epoch [430/100], Loss: 17964478464.0000\n",
      "Epoch [440/100], Loss: 16760163328.0000\n",
      "Epoch [450/100], Loss: 15619758080.0000\n",
      "Epoch [460/100], Loss: 14555409408.0000\n",
      "Epoch [470/100], Loss: 13576930304.0000\n",
      "Epoch [480/100], Loss: 12691159040.0000\n",
      "Epoch [490/100], Loss: 11901495296.0000\n",
      "Epoch [500/100], Loss: 11207788544.0000\n",
      "Epoch [510/100], Loss: 10606329856.0000\n",
      "Epoch [520/100], Loss: 10090332160.0000\n",
      "Epoch [530/100], Loss: 9650715648.0000\n",
      "Epoch [540/100], Loss: 9277129728.0000\n",
      "Epoch [550/100], Loss: 8958854144.0000\n",
      "Epoch [560/100], Loss: 8685613056.0000\n",
      "Epoch [570/100], Loss: 8448137728.0000\n",
      "Epoch [580/100], Loss: 8238555136.0000\n",
      "Epoch [590/100], Loss: 8050653184.0000\n",
      "Epoch [600/100], Loss: 7879468544.0000\n",
      "Epoch [610/100], Loss: 7721426432.0000\n",
      "Epoch [620/100], Loss: 7573690880.0000\n",
      "Epoch [630/100], Loss: 7434691072.0000\n",
      "Epoch [640/100], Loss: 7303415296.0000\n",
      "Epoch [650/100], Loss: 7178362368.0000\n",
      "Epoch [660/100], Loss: 7058739200.0000\n",
      "Epoch [670/100], Loss: 6943821824.0000\n",
      "Epoch [680/100], Loss: 6833125888.0000\n",
      "Epoch [690/100], Loss: 6726240768.0000\n",
      "Epoch [700/100], Loss: 6622725632.0000\n",
      "Epoch [710/100], Loss: 6522256896.0000\n",
      "Epoch [720/100], Loss: 6424575488.0000\n",
      "Epoch [730/100], Loss: 6329425920.0000\n",
      "Epoch [740/100], Loss: 6236685312.0000\n",
      "Epoch [750/100], Loss: 6146114560.0000\n",
      "Epoch [760/100], Loss: 6057577472.0000\n",
      "Epoch [770/100], Loss: 5970775040.0000\n",
      "Epoch [780/100], Loss: 5885595136.0000\n",
      "Epoch [790/100], Loss: 5802004992.0000\n",
      "Epoch [800/100], Loss: 5719766016.0000\n",
      "Epoch [810/100], Loss: 5638776832.0000\n",
      "Epoch [820/100], Loss: 5558977024.0000\n",
      "Epoch [830/100], Loss: 5480415232.0000\n",
      "Epoch [840/100], Loss: 5403092992.0000\n",
      "Epoch [850/100], Loss: 5326862848.0000\n",
      "Epoch [860/100], Loss: 5251606016.0000\n",
      "Epoch [870/100], Loss: 5177400320.0000\n",
      "Epoch [880/100], Loss: 5104570880.0000\n",
      "Epoch [890/100], Loss: 5033014272.0000\n",
      "Epoch [900/100], Loss: 4962386432.0000\n",
      "Epoch [910/100], Loss: 4892747776.0000\n",
      "Epoch [920/100], Loss: 4824019968.0000\n",
      "Epoch [930/100], Loss: 4756200448.0000\n",
      "Epoch [940/100], Loss: 4689273344.0000\n",
      "Epoch [950/100], Loss: 4623218688.0000\n",
      "Epoch [960/100], Loss: 4558029312.0000\n",
      "Epoch [970/100], Loss: 4493647360.0000\n",
      "Epoch [980/100], Loss: 4430102016.0000\n",
      "Epoch [990/100], Loss: 4367361536.0000\n",
      "Epoch [1000/100], Loss: 4305359872.0000\n"
     ]
    }
   ],
   "source": [
    "# 반복 학습\n",
    "# for epoch in range(10):\n",
    "for epoch in range(1000):\n",
    "# for epoch in range(10000):\n",
    "    # Forward pass: Compute predicted y by passing x to the model\n",
    "    pred_y = model(train_features_tensor)\n",
    "\n",
    "    # Compute and print loss\n",
    "    loss = criterion(pred_y, train_label_tensor)\n",
    "\n",
    "    optimizer.zero_grad()\n",
    "    loss.backward()\n",
    "    optimizer.step()\n",
    "    # if epoch % 1000 == 0:\n",
    "    #   print('epoch: {}, loss: {}'.format(epoch, loss.item()))\n",
    "\n",
    "# for epoch in range(100):\n",
    "#     predictions = model(train_features_tensor)\n",
    "#     loss = criterion(predictions, train_label_tensor)\n",
    "#     optimizer.zero_grad()\n",
    "#     loss.backward()\n",
    "#     optimizer.step()\n",
    "\n",
    "    if (epoch+1) % 10 == 0:\n",
    "        print(f\"Epoch [{epoch+1}/100], Loss: {loss.item():.4f}\")"
   ]
  },
  {
   "cell_type": "markdown",
   "id": "b0924111",
   "metadata": {
    "id": "Vm7nLFcqJn6h",
    "papermill": {
     "duration": 0.005668,
     "end_time": "2025-02-03T14:02:18.860977",
     "exception": false,
     "start_time": "2025-02-03T14:02:18.855309",
     "status": "completed"
    },
    "tags": []
   },
   "source": [
    "## 모델 평가"
   ]
  },
  {
   "cell_type": "code",
   "execution_count": 16,
   "id": "1b9c7f94",
   "metadata": {
    "execution": {
     "iopub.execute_input": "2025-02-03T14:02:18.874097Z",
     "iopub.status.busy": "2025-02-03T14:02:18.873732Z",
     "iopub.status.idle": "2025-02-03T14:02:18.880210Z",
     "shell.execute_reply": "2025-02-03T14:02:18.879262Z"
    },
    "id": "TcxYXQj2YojK",
    "outputId": "b216ed77-ae65-4995-c99f-8858c92b4136",
    "papermill": {
     "duration": 0.014887,
     "end_time": "2025-02-03T14:02:18.881879",
     "exception": false,
     "start_time": "2025-02-03T14:02:18.866992",
     "status": "completed"
    },
    "tags": []
   },
   "outputs": [
    {
     "data": {
      "text/plain": [
       "LinearRegressionNNM(\n",
       "  (hidden_1): Linear(in_features=37, out_features=64, bias=True)\n",
       "  (hidden_2): Linear(in_features=64, out_features=32, bias=True)\n",
       "  (hidden_3): Linear(in_features=32, out_features=16, bias=True)\n",
       "  (output): Linear(in_features=16, out_features=1, bias=True)\n",
       "  (relu): ReLU()\n",
       ")"
      ]
     },
     "execution_count": 16,
     "metadata": {},
     "output_type": "execute_result"
    }
   ],
   "source": [
    "model.eval()"
   ]
  },
  {
   "cell_type": "code",
   "execution_count": 17,
   "id": "caa08cdf",
   "metadata": {
    "execution": {
     "iopub.execute_input": "2025-02-03T14:02:18.895222Z",
     "iopub.status.busy": "2025-02-03T14:02:18.894893Z",
     "iopub.status.idle": "2025-02-03T14:02:18.901218Z",
     "shell.execute_reply": "2025-02-03T14:02:18.900239Z"
    },
    "id": "kZsIrHPnYsox",
    "outputId": "0d4c2cb2-9995-4f3c-d8ec-b51200d652db",
    "papermill": {
     "duration": 0.014899,
     "end_time": "2025-02-03T14:02:18.902881",
     "exception": false,
     "start_time": "2025-02-03T14:02:18.887982",
     "status": "completed"
    },
    "tags": []
   },
   "outputs": [
    {
     "name": "stdout",
     "output_type": "stream",
     "text": [
      "loss: 4299201024.0\n"
     ]
    }
   ],
   "source": [
    "with torch.no_grad():   # 학습 목적 아닌 평가 목적 위해 고정\n",
    "    pred_y = model(train_features_tensor)\n",
    "    loss = criterion(pred_y, train_label_tensor)  # 예측도 같은 Loss function\n",
    "    print('loss: {}'.format(loss.item()))"
   ]
  },
  {
   "cell_type": "code",
   "execution_count": 18,
   "id": "cd4fc5f2",
   "metadata": {
    "execution": {
     "iopub.execute_input": "2025-02-03T14:02:18.916586Z",
     "iopub.status.busy": "2025-02-03T14:02:18.916198Z",
     "iopub.status.idle": "2025-02-03T14:02:18.939343Z",
     "shell.execute_reply": "2025-02-03T14:02:18.938376Z"
    },
    "papermill": {
     "duration": 0.031636,
     "end_time": "2025-02-03T14:02:18.940921",
     "exception": false,
     "start_time": "2025-02-03T14:02:18.909285",
     "status": "completed"
    },
    "tags": []
   },
   "outputs": [
    {
     "data": {
      "text/plain": [
       "(tensor([182948.9688]), tensor([208500.]))"
      ]
     },
     "execution_count": 18,
     "metadata": {},
     "output_type": "execute_result"
    }
   ],
   "source": [
    "# 결과 값(예측값, 원래값)\n",
    "pred_y[0], train_label_tensor[0]"
   ]
  },
  {
   "cell_type": "markdown",
   "id": "87d7f1a3",
   "metadata": {
    "id": "AmEg3DFvJqlK",
    "papermill": {
     "duration": 0.005909,
     "end_time": "2025-02-03T14:02:18.953160",
     "exception": false,
     "start_time": "2025-02-03T14:02:18.947251",
     "status": "completed"
    },
    "tags": []
   },
   "source": [
    "## 모델 배포"
   ]
  },
  {
   "cell_type": "code",
   "execution_count": null,
   "id": "bc232a62",
   "metadata": {
    "papermill": {
     "duration": 0.005864,
     "end_time": "2025-02-03T14:02:18.965358",
     "exception": false,
     "start_time": "2025-02-03T14:02:18.959494",
     "status": "completed"
    },
    "tags": []
   },
   "outputs": [],
   "source": []
  },
  {
   "cell_type": "code",
   "execution_count": null,
   "id": "dfcf2610",
   "metadata": {
    "id": "L1Hp5HyRI3ov",
    "papermill": {
     "duration": 0.006255,
     "end_time": "2025-02-03T14:02:18.977786",
     "exception": false,
     "start_time": "2025-02-03T14:02:18.971531",
     "status": "completed"
    },
    "tags": []
   },
   "outputs": [],
   "source": []
  }
 ],
 "metadata": {
  "colab": {
   "provenance": []
  },
  "kaggle": {
   "accelerator": "none",
   "dataSources": [
    {
     "databundleVersionId": 868283,
     "sourceId": 5407,
     "sourceType": "competition"
    }
   ],
   "dockerImageVersionId": 30839,
   "isGpuEnabled": false,
   "isInternetEnabled": false,
   "language": "python",
   "sourceType": "notebook"
  },
  "kernelspec": {
   "display_name": "Python 3",
   "language": "python",
   "name": "python3"
  },
  "language_info": {
   "codemirror_mode": {
    "name": "ipython",
    "version": 3
   },
   "file_extension": ".py",
   "mimetype": "text/x-python",
   "name": "python",
   "nbconvert_exporter": "python",
   "pygments_lexer": "ipython3",
   "version": "3.10.12"
  },
  "papermill": {
   "default_parameters": {},
   "duration": 17.37824,
   "end_time": "2025-02-03T14:02:20.807885",
   "environment_variables": {},
   "exception": null,
   "input_path": "__notebook__.ipynb",
   "output_path": "__notebook__.ipynb",
   "parameters": {},
   "start_time": "2025-02-03T14:02:03.429645",
   "version": "2.6.0"
  }
 },
 "nbformat": 4,
 "nbformat_minor": 5
}
