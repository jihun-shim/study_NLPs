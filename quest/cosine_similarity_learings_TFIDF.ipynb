{
 "cells": [
  {
   "cell_type": "code",
   "execution_count": 85,
   "metadata": {},
   "outputs": [],
   "source": [
    "from collections import Counter\n",
    "from wordcloud import WordCloud\n",
    "from pymongo import MongoClient\n",
    "import pandas as pd\n",
    "import matplotlib.pyplot as plt\n",
    "import re\n",
    "from konlpy.tag import Okt  # 형태소 분석기"
   ]
  },
  {
   "cell_type": "code",
   "execution_count": 86,
   "metadata": {},
   "outputs": [],
   "source": [
    "client = MongoClient('mongodb://192.168.0.50')\n",
    "db_name = client['DB_SGMN']\n",
    "collection = db_name['COL_SCRAPPING_TOSS_COMMENT_HISTORY']"
   ]
  },
  {
   "cell_type": "code",
   "execution_count": 87,
   "metadata": {},
   "outputs": [],
   "source": [
    "# 데이터 로드\n",
    "\n",
    "find_data = collection.find()\n",
    "toss_data = list(find_data)"
   ]
  },
  {
   "cell_type": "code",
   "execution_count": 88,
   "metadata": {},
   "outputs": [
    {
     "data": {
      "text/html": [
       "<div>\n",
       "<style scoped>\n",
       "    .dataframe tbody tr th:only-of-type {\n",
       "        vertical-align: middle;\n",
       "    }\n",
       "\n",
       "    .dataframe tbody tr th {\n",
       "        vertical-align: top;\n",
       "    }\n",
       "\n",
       "    .dataframe thead th {\n",
       "        text-align: right;\n",
       "    }\n",
       "</style>\n",
       "<table border=\"1\" class=\"dataframe\">\n",
       "  <thead>\n",
       "    <tr style=\"text-align: right;\">\n",
       "      <th></th>\n",
       "      <th>_id</th>\n",
       "      <th>COMMENT</th>\n",
       "      <th>CREATED_AT</th>\n",
       "      <th>DATE</th>\n",
       "      <th>DATETIME</th>\n",
       "      <th>SYMBOL</th>\n",
       "      <th>UPDATED_AT</th>\n",
       "    </tr>\n",
       "  </thead>\n",
       "  <tbody>\n",
       "    <tr>\n",
       "      <th>0</th>\n",
       "      <td>675082d6239b5012b3c84a0b</td>\n",
       "      <td>머선일이야</td>\n",
       "      <td>2024-11-21 23:59:13.068</td>\n",
       "      <td>2024-11-22</td>\n",
       "      <td>2024-11-22T01:36:32+09:00</td>\n",
       "      <td>AADI</td>\n",
       "      <td>2024-11-21 23:58:33</td>\n",
       "    </tr>\n",
       "    <tr>\n",
       "      <th>1</th>\n",
       "      <td>675082d6239b5012b3c84a0c</td>\n",
       "      <td>뭐냐 너..왜 희망 갖게하냐</td>\n",
       "      <td>2024-11-21 23:59:13.068</td>\n",
       "      <td>2024-11-22</td>\n",
       "      <td>2024-11-22T01:07:42+09:00</td>\n",
       "      <td>AADI</td>\n",
       "      <td>2024-11-21 23:58:34</td>\n",
       "    </tr>\n",
       "    <tr>\n",
       "      <th>2</th>\n",
       "      <td>675082d6239b5012b3c84a0d</td>\n",
       "      <td>몇개월 기다리다가 조금 올라서 뺏더니 잘 올라가네.. ㅠ</td>\n",
       "      <td>2024-11-21 23:59:13.068</td>\n",
       "      <td>2024-11-22</td>\n",
       "      <td>2024-11-22T01:00:04+09:00</td>\n",
       "      <td>AADI</td>\n",
       "      <td>2024-11-21 23:58:34</td>\n",
       "    </tr>\n",
       "  </tbody>\n",
       "</table>\n",
       "</div>"
      ],
      "text/plain": [
       "                        _id                          COMMENT  \\\n",
       "0  675082d6239b5012b3c84a0b                            머선일이야   \n",
       "1  675082d6239b5012b3c84a0c                  뭐냐 너..왜 희망 갖게하냐   \n",
       "2  675082d6239b5012b3c84a0d  몇개월 기다리다가 조금 올라서 뺏더니 잘 올라가네.. ㅠ   \n",
       "\n",
       "               CREATED_AT        DATE                   DATETIME SYMBOL  \\\n",
       "0 2024-11-21 23:59:13.068  2024-11-22  2024-11-22T01:36:32+09:00   AADI   \n",
       "1 2024-11-21 23:59:13.068  2024-11-22  2024-11-22T01:07:42+09:00   AADI   \n",
       "2 2024-11-21 23:59:13.068  2024-11-22  2024-11-22T01:00:04+09:00   AADI   \n",
       "\n",
       "            UPDATED_AT  \n",
       "0  2024-11-21 23:58:33  \n",
       "1  2024-11-21 23:58:34  \n",
       "2  2024-11-21 23:58:34  "
      ]
     },
     "execution_count": 88,
     "metadata": {},
     "output_type": "execute_result"
    }
   ],
   "source": [
    "df_toss_data = pd.DataFrame(toss_data)\n",
    "df_toss_data.head(3)"
   ]
  },
  {
   "cell_type": "code",
   "execution_count": 89,
   "metadata": {},
   "outputs": [
    {
     "name": "stdout",
     "output_type": "stream",
     "text": [
      "<class 'pandas.core.frame.DataFrame'>\n",
      "RangeIndex: 251836 entries, 0 to 251835\n",
      "Data columns (total 7 columns):\n",
      " #   Column      Non-Null Count   Dtype         \n",
      "---  ------      --------------   -----         \n",
      " 0   _id         251836 non-null  object        \n",
      " 1   COMMENT     251836 non-null  object        \n",
      " 2   CREATED_AT  251836 non-null  datetime64[ns]\n",
      " 3   DATE        251836 non-null  object        \n",
      " 4   DATETIME    251836 non-null  object        \n",
      " 5   SYMBOL      251836 non-null  object        \n",
      " 6   UPDATED_AT  251836 non-null  object        \n",
      "dtypes: datetime64[ns](1), object(6)\n",
      "memory usage: 13.4+ MB\n"
     ]
    }
   ],
   "source": [
    "df_toss_data.info()"
   ]
  },
  {
   "cell_type": "code",
   "execution_count": 90,
   "metadata": {},
   "outputs": [],
   "source": [
    "# 3. CREATED_AT 필드 날짜 변환\n",
    "\n",
    "# CREATED_AT을 datetime 형식으로 변환\n",
    "df_toss_data['CREATED_AT'] = pd.to_datetime(df_toss_data['CREATED_AT'])\n",
    "\n",
    "# 주 단위로 그룹화 준비 (연도-주 형식 추가)\n",
    "df_toss_data['YEAR_WEEK'] = df_toss_data['CREATED_AT'].dt.strftime('%Y-%U')"
   ]
  },
  {
   "cell_type": "code",
   "execution_count": 91,
   "metadata": {},
   "outputs": [],
   "source": [
    "it_sentence = df_toss_data['COMMENT'].values.tolist() # array list 로 변환 05번 it_sentence 변환 참조"
   ]
  },
  {
   "cell_type": "code",
   "execution_count": 92,
   "metadata": {},
   "outputs": [],
   "source": [
    "# Okt 형태소 분석기를 사용하여 동사만 추출하는 함수\n",
    "\n",
    "okt = Okt()\n",
    "\n",
    "def extract_verbs(text):\n",
    "    # 형태소 분석 후 동사만 필터링\n",
    "    return [word for word, pos in okt.pos(text) if pos == 'Verb']"
   ]
  },
  {
   "cell_type": "code",
   "execution_count": 93,
   "metadata": {},
   "outputs": [],
   "source": [
    "# 주 단위로 그룹화\n",
    "grouped = df_toss_data.groupby('YEAR_WEEK')"
   ]
  },
  {
   "cell_type": "code",
   "execution_count": 94,
   "metadata": {},
   "outputs": [],
   "source": [
    "# 주 단위로 TF-IDF 계산 및 워드클라우드 생성\n",
    "for year_week, group in grouped:\n",
    "    \n",
    "    # 댓글을 하나의 리스트로 연결\n",
    "    sentences = group['COMMENT'].dropna().tolist()\n",
    "    \n",
    "    # 동사만 추출하여 새로운 리스트에 저장\n",
    "    verb_sentences = [' '.join(extract_verbs(comment)) for comment in it_sentence[:100]]"
   ]
  },
  {
   "cell_type": "code",
   "execution_count": 95,
   "metadata": {},
   "outputs": [
    {
     "data": {
      "text/plain": [
       "['',\n",
       " '갖게하냐',\n",
       " '기다리다가 올라서 뺏더니 잘 올라가네',\n",
       " '갈까',\n",
       " '와 타사 할 하며 둔 하기 하여',\n",
       " '',\n",
       " '',\n",
       " '나도',\n",
       " '힘내라 힘내라',\n",
       " '가겠는데',\n",
       " '',\n",
       " '올라가',\n",
       " '',\n",
       " '는 갖고 모으기',\n",
       " '',\n",
       " '',\n",
       " '꾸 준매',\n",
       " '사러',\n",
       " '였네',\n",
       " '가자',\n",
       " '',\n",
       " '몰랐을까',\n",
       " '',\n",
       " '',\n",
       " '빌 빌',\n",
       " '뛰는데 날까',\n",
       " '모으는',\n",
       " '오르는 하더니',\n",
       " '줄여야지',\n",
       " '하냐',\n",
       " '모으',\n",
       " '나도 줄여야지',\n",
       " '떨어지네',\n",
       " '',\n",
       " '줄여야지',\n",
       " '',\n",
       " '시켜서 줄이는 쓰시나요 들고 가시나요',\n",
       " '보여줍시다',\n",
       " '',\n",
       " '',\n",
       " '나와주네요',\n",
       " '올라가요',\n",
       " '',\n",
       " '',\n",
       " '',\n",
       " '모르겠다',\n",
       " '내렸다가 올라가네요',\n",
       " '넣고',\n",
       " '하노',\n",
       " '갖고있는데',\n",
       " '떨어지지 않는다 올라가지 않는다',\n",
       " '',\n",
       " '할 했다 한 되는 가진 했다 이끄는 할 되어 덧붙였다 할 하는 얻었다 되었습니다 든 하는 되지 않습니다 되며 알려 드립니다',\n",
       " '',\n",
       " '',\n",
       " '짚으며 오를수 보였습니다 될 하며 짚었습니다 더디더라도 내려간다면 했습니다 들',\n",
       " '',\n",
       " '오르지도 않지만 내리지도 않아서 되는',\n",
       " '모아가는거',\n",
       " '겁나 잡았네',\n",
       " '찾아서',\n",
       " '던지지 한게 한이다',\n",
       " '',\n",
       " '나면 돼있어라',\n",
       " '했습니다 합니다',\n",
       " '',\n",
       " '',\n",
       " '달디 돼야지',\n",
       " '모으기',\n",
       " '지리더라구요',\n",
       " '',\n",
       " '오세요 갑니다',\n",
       " '',\n",
       " '이었어 힘내',\n",
       " '',\n",
       " '',\n",
       " '살거니까',\n",
       " '두자',\n",
       " '들어오면 되는거',\n",
       " '',\n",
       " '잡자',\n",
       " '했는데 할 심해진 허 밀릴 올리려는 짜치네 않다 사는',\n",
       " '봐 올릴 올림',\n",
       " '약해질까 하는거야',\n",
       " '',\n",
       " '',\n",
       " '',\n",
       " '되겠죠 들 파는거에요 잘 된건 모르겠어요',\n",
       " '들려주세요',\n",
       " '잘 먹고 갑니다',\n",
       " '',\n",
       " '',\n",
       " '재진 나을까요 모아가는 나을까요',\n",
       " '나가게',\n",
       " '떨구면 싶은데',\n",
       " '먹을게 올라다오',\n",
       " '오르지',\n",
       " '보니',\n",
       " '',\n",
       " '']"
      ]
     },
     "execution_count": 95,
     "metadata": {},
     "output_type": "execute_result"
    }
   ],
   "source": [
    "verb_sentences"
   ]
  },
  {
   "cell_type": "code",
   "execution_count": 96,
   "metadata": {},
   "outputs": [],
   "source": [
    "# TF-IDF 벡터화\n",
    "\n",
    "from sklearn.feature_extraction.text import TfidfVectorizer\n",
    "tfidfVectorizer = TfidfVectorizer()\n",
    "tfidfVectorizer.fit(verb_sentences) # 학습용\n",
    "result_vectors = tfidfVectorizer.transform(verb_sentences) # 서비스용"
   ]
  },
  {
   "cell_type": "code",
   "execution_count": 97,
   "metadata": {},
   "outputs": [
    {
     "data": {
      "text/plain": [
       "((100, 121), (121,))"
      ]
     },
     "execution_count": 97,
     "metadata": {},
     "output_type": "execute_result"
    }
   ],
   "source": [
    "# TF-IDE 결과 확인\n",
    "\n",
    "result_vectors.toarray().shape, tfidfVectorizer.get_feature_names_out().shape"
   ]
  },
  {
   "cell_type": "code",
   "execution_count": 98,
   "metadata": {},
   "outputs": [
    {
     "data": {
      "text/plain": [
       "(array(['가겠는데', '가시나요', '가자', '가진', '갈까', '갑니다', '갖게하냐', '갖고', '갖고있는데',\n",
       "        '겁나', '기다리다가', '나가게', '나도', '나면', '나와주네요', '나을까요', '날까', '내려간다면',\n",
       "        '내렸다가', '내리지도', '넣고', '달디', '더디더라도', '던지지', '덧붙였다', '돼야지', '돼있어라',\n",
       "        '되겠죠', '되는', '되는거', '되며', '되어', '되었습니다', '되지', '된건', '두자', '드립니다',\n",
       "        '들고', '들려주세요', '들어오면', '떨구면', '떨어지네', '떨어지지', '뛰는데', '먹고', '먹을게',\n",
       "        '모르겠다', '모르겠어요', '모아가는', '모아가는거', '모으', '모으기', '모으는', '몰랐을까', '밀릴',\n",
       "        '보니', '보여줍시다', '보였습니다', '뺏더니', '사는', '사러', '살거니까', '시켜서', '심해진',\n",
       "        '싶은데', '쓰시나요', '않는다', '않다', '않습니다', '않아서', '않지만', '알려', '약해질까',\n",
       "        '얻었다', '였네', '오르는', '오르지', '오르지도', '오를수', '오세요', '올라가', '올라가네',\n",
       "        '올라가네요', '올라가요', '올라가지', '올라다오', '올라서', '올리려는', '올릴', '올림', '이끄는',\n",
       "        '이었어', '잡았네', '잡자', '재진', '준매', '줄여야지', '줄이는', '지리더라구요', '짚었습니다',\n",
       "        '짚으며', '짜치네', '찾아서', '타사', '파는거에요', '하기', '하냐', '하노', '하는', '하는거야',\n",
       "        '하더니', '하며', '하여', '한게', '한이다', '합니다', '했는데', '했다', '했습니다', '힘내',\n",
       "        '힘내라'], dtype=object),\n",
       " array([0., 0., 0., 0., 0., 0., 0., 0., 0., 0., 0., 0., 0., 0., 0., 0., 0.,\n",
       "        0., 0., 0., 0., 0., 0., 0., 0., 0., 0., 0., 0., 0., 0., 0., 0., 0.,\n",
       "        0., 0., 0., 0., 0., 0., 0., 0., 0., 0., 0., 0., 0., 0., 0., 0., 0.,\n",
       "        0., 0., 0., 0., 0., 0., 0., 0., 0., 0., 0., 0., 0., 0., 0., 0., 0.,\n",
       "        0., 0., 0., 0., 0., 0., 0., 0., 0., 0., 0., 0., 0., 0., 0., 0., 0.,\n",
       "        0., 0., 0., 0., 0., 0., 0., 0., 0., 0., 0., 0., 0., 0., 0., 0., 0.,\n",
       "        0., 0., 0., 0., 0., 0., 0., 0., 0., 0., 0., 0., 0., 0., 0., 0., 0.,\n",
       "        0., 0.]))"
      ]
     },
     "execution_count": 98,
     "metadata": {},
     "output_type": "execute_result"
    }
   ],
   "source": [
    "# 문장과 단어 vocab에 대한 매칭 관계 확인\n",
    "tfidfVectorizer.get_feature_names_out(), result_vectors.toarray()[0]"
   ]
  },
  {
   "cell_type": "code",
   "execution_count": 99,
   "metadata": {},
   "outputs": [
    {
     "data": {
      "text/plain": [
       "(121,)"
      ]
     },
     "execution_count": 99,
     "metadata": {},
     "output_type": "execute_result"
    }
   ],
   "source": [
    "# tfidf_scores = result_vectors.toarray().sum(axis=0) # 자료가 너무 많아 오류가 남으로 아래처럼 수정\n",
    "tfidf_scores = result_vectors.toarray().sum(axis = 0)\n",
    "tfidf_scores.shape"
   ]
  },
  {
   "cell_type": "code",
   "execution_count": 100,
   "metadata": {},
   "outputs": [
    {
     "data": {
      "text/plain": [
       "[(2.6834764565973352, '줄여야지'),\n",
       " (1.729972556523292, '나도'),\n",
       " (1.6761068036596087, '모으기'),\n",
       " (1.3522136073192175, '갑니다'),\n",
       " (1.007137468728489, '했습니다'),\n",
       " (1.0, '힘내라'),\n",
       " (1.0, '하노'),\n",
       " (1.0, '하냐'),\n",
       " (1.0, '찾아서'),\n",
       " (1.0, '지리더라구요'),\n",
       " (1.0, '준매'),\n",
       " (1.0, '잡자'),\n",
       " (1.0, '올라가요'),\n",
       " (1.0, '올라가'),\n",
       " (1.0, '오르지'),\n",
       " (1.0, '였네'),\n",
       " (1.0, '살거니까'),\n",
       " (1.0, '사러'),\n",
       " (1.0, '보여줍시다'),\n",
       " (1.0, '보니')]"
      ]
     },
     "execution_count": 100,
     "metadata": {},
     "output_type": "execute_result"
    }
   ],
   "source": [
    "# 5. 상위 20개 단어 선택\n",
    "tfidf_ranking_20 = sorted(zip(tfidf_scores, tfidfVectorizer.get_feature_names_out())\n",
    "                          , reverse = True)[:20]\n",
    "tfidf_ranking_20"
   ]
  },
  {
   "cell_type": "code",
   "execution_count": 101,
   "metadata": {},
   "outputs": [
    {
     "data": {
      "text/plain": [
       "{'줄여야지': 2.6834764565973352,\n",
       " '나도': 1.729972556523292,\n",
       " '모으기': 1.6761068036596087,\n",
       " '갑니다': 1.3522136073192175,\n",
       " '했습니다': 1.007137468728489,\n",
       " '힘내라': 1.0,\n",
       " '하노': 1.0,\n",
       " '하냐': 1.0,\n",
       " '찾아서': 1.0,\n",
       " '지리더라구요': 1.0,\n",
       " '준매': 1.0,\n",
       " '잡자': 1.0,\n",
       " '올라가요': 1.0,\n",
       " '올라가': 1.0,\n",
       " '오르지': 1.0,\n",
       " '였네': 1.0,\n",
       " '살거니까': 1.0,\n",
       " '사러': 1.0,\n",
       " '보여줍시다': 1.0,\n",
       " '보니': 1.0}"
      ]
     },
     "execution_count": 101,
     "metadata": {},
     "output_type": "execute_result"
    }
   ],
   "source": [
    "# 딕셔너리 형태로 상위 20개 단어와 그 점수를 저장합니다.\n",
    "top20_word = {word:score for score, word in tfidf_ranking_20}\n",
    "top20_word"
   ]
  },
  {
   "cell_type": "code",
   "execution_count": 102,
   "metadata": {},
   "outputs": [],
   "source": [
    "wordCloud = WordCloud(background_color='white'\n",
    "                      , font_path = '/usr/share/fonts/truetype/nanum/NanumBarunGothic.ttf')"
   ]
  },
  {
   "cell_type": "code",
   "execution_count": 103,
   "metadata": {},
   "outputs": [
    {
     "data": {
      "image/png": "[encoded data removed]",
      "text/plain": [
       "<Figure size 640x480 with 1 Axes>"
      ]
     },
     "metadata": {},
     "output_type": "display_data"
    }
   ],
   "source": [
    "wordCloud.generate_from_frequencies(top20_word)\n",
    "\n",
    "plt.imshow(wordCloud)\n",
    "plt.axis('off')\n",
    "plt.show()"
   ]
  },
  {
   "cell_type": "code",
   "execution_count": null,
   "metadata": {},
   "outputs": [],
   "source": []
  }
 ],
 "metadata": {
  "kernelspec": {
   "display_name": "Python 3",
   "language": "python",
   "name": "python3"
  },
  "language_info": {
   "codemirror_mode": {
    "name": "ipython",
    "version": 3
   },
   "file_extension": ".py",
   "mimetype": "text/x-python",
   "name": "python",
   "nbconvert_exporter": "python",
   "pygments_lexer": "ipython3",
   "version": "3.11.11"
  }
 },
 "nbformat": 4,
 "nbformat_minor": 2
}
