{
 "cells": [
  {
   "cell_type": "code",
   "execution_count": 5,
   "metadata": {},
   "outputs": [],
   "source": [
    "from collections import Counter\n",
    "from wordcloud import WordCloud\n",
    "from pymongo import MongoClient\n",
    "import pandas as pd\n",
    "import matplotlib.pyplot as plt\n",
    "import matplotlib.pyplot as plt\n",
    "import re\n",
    "from konlpy.tag import Okt  # 형태소 분석기"
   ]
  },
  {
   "cell_type": "code",
   "execution_count": 6,
   "metadata": {},
   "outputs": [],
   "source": [
    "client = MongoClient('mongodb://192.168.0.50')\n",
    "db_name = client['DB_SGMN']\n",
    "collection = db_name['COL_SCRAPPING_TOSS_COMMENT_HISTORY']"
   ]
  },
  {
   "cell_type": "code",
   "execution_count": 12,
   "metadata": {},
   "outputs": [],
   "source": [
    "# 데이터 로드\n",
    "\n",
    "find_data = collection.find()\n",
    "toss_data = list(find_data)"
   ]
  },
  {
   "cell_type": "code",
   "execution_count": 10,
   "metadata": {},
   "outputs": [
    {
     "data": {
      "text/html": [
       "<div>\n",
       "<style scoped>\n",
       "    .dataframe tbody tr th:only-of-type {\n",
       "        vertical-align: middle;\n",
       "    }\n",
       "\n",
       "    .dataframe tbody tr th {\n",
       "        vertical-align: top;\n",
       "    }\n",
       "\n",
       "    .dataframe thead th {\n",
       "        text-align: right;\n",
       "    }\n",
       "</style>\n",
       "<table border=\"1\" class=\"dataframe\">\n",
       "  <thead>\n",
       "    <tr style=\"text-align: right;\">\n",
       "      <th></th>\n",
       "      <th>_id</th>\n",
       "      <th>COMMENT</th>\n",
       "      <th>CREATED_AT</th>\n",
       "      <th>DATE</th>\n",
       "      <th>DATETIME</th>\n",
       "      <th>SYMBOL</th>\n",
       "      <th>UPDATED_AT</th>\n",
       "    </tr>\n",
       "  </thead>\n",
       "  <tbody>\n",
       "    <tr>\n",
       "      <th>0</th>\n",
       "      <td>675082d6239b5012b3c84a0b</td>\n",
       "      <td>머선일이야</td>\n",
       "      <td>2024-11-21 23:59:13.068</td>\n",
       "      <td>2024-11-22</td>\n",
       "      <td>2024-11-22T01:36:32+09:00</td>\n",
       "      <td>AADI</td>\n",
       "      <td>2024-11-21 23:58:33</td>\n",
       "    </tr>\n",
       "    <tr>\n",
       "      <th>1</th>\n",
       "      <td>675082d6239b5012b3c84a0c</td>\n",
       "      <td>뭐냐 너..왜 희망 갖게하냐</td>\n",
       "      <td>2024-11-21 23:59:13.068</td>\n",
       "      <td>2024-11-22</td>\n",
       "      <td>2024-11-22T01:07:42+09:00</td>\n",
       "      <td>AADI</td>\n",
       "      <td>2024-11-21 23:58:34</td>\n",
       "    </tr>\n",
       "    <tr>\n",
       "      <th>2</th>\n",
       "      <td>675082d6239b5012b3c84a0d</td>\n",
       "      <td>몇개월 기다리다가 조금 올라서 뺏더니 잘 올라가네.. ㅠ</td>\n",
       "      <td>2024-11-21 23:59:13.068</td>\n",
       "      <td>2024-11-22</td>\n",
       "      <td>2024-11-22T01:00:04+09:00</td>\n",
       "      <td>AADI</td>\n",
       "      <td>2024-11-21 23:58:34</td>\n",
       "    </tr>\n",
       "  </tbody>\n",
       "</table>\n",
       "</div>"
      ],
      "text/plain": [
       "                        _id                          COMMENT  \\\n",
       "0  675082d6239b5012b3c84a0b                            머선일이야   \n",
       "1  675082d6239b5012b3c84a0c                  뭐냐 너..왜 희망 갖게하냐   \n",
       "2  675082d6239b5012b3c84a0d  몇개월 기다리다가 조금 올라서 뺏더니 잘 올라가네.. ㅠ   \n",
       "\n",
       "               CREATED_AT        DATE                   DATETIME SYMBOL  \\\n",
       "0 2024-11-21 23:59:13.068  2024-11-22  2024-11-22T01:36:32+09:00   AADI   \n",
       "1 2024-11-21 23:59:13.068  2024-11-22  2024-11-22T01:07:42+09:00   AADI   \n",
       "2 2024-11-21 23:59:13.068  2024-11-22  2024-11-22T01:00:04+09:00   AADI   \n",
       "\n",
       "            UPDATED_AT  \n",
       "0  2024-11-21 23:58:33  \n",
       "1  2024-11-21 23:58:34  \n",
       "2  2024-11-21 23:58:34  "
      ]
     },
     "execution_count": 10,
     "metadata": {},
     "output_type": "execute_result"
    }
   ],
   "source": [
    "df_toss_data = pd.DataFrame(toss_data)\n",
    "df_toss_data.head(3)"
   ]
  },
  {
   "cell_type": "code",
   "execution_count": 13,
   "metadata": {},
   "outputs": [
    {
     "name": "stdout",
     "output_type": "stream",
     "text": [
      "<class 'pandas.core.frame.DataFrame'>\n",
      "RangeIndex: 251836 entries, 0 to 251835\n",
      "Data columns (total 7 columns):\n",
      " #   Column      Non-Null Count   Dtype         \n",
      "---  ------      --------------   -----         \n",
      " 0   _id         251836 non-null  object        \n",
      " 1   COMMENT     251836 non-null  object        \n",
      " 2   CREATED_AT  251836 non-null  datetime64[ns]\n",
      " 3   DATE        251836 non-null  object        \n",
      " 4   DATETIME    251836 non-null  object        \n",
      " 5   SYMBOL      251836 non-null  object        \n",
      " 6   UPDATED_AT  251836 non-null  object        \n",
      "dtypes: datetime64[ns](1), object(6)\n",
      "memory usage: 13.4+ MB\n"
     ]
    }
   ],
   "source": [
    "df_toss_data.info()"
   ]
  },
  {
   "cell_type": "code",
   "execution_count": null,
   "metadata": {},
   "outputs": [],
   "source": []
  }
 ],
 "metadata": {
  "kernelspec": {
   "display_name": "Python 3",
   "language": "python",
   "name": "python3"
  },
  "language_info": {
   "codemirror_mode": {
    "name": "ipython",
    "version": 3
   },
   "file_extension": ".py",
   "mimetype": "text/x-python",
   "name": "python",
   "nbconvert_exporter": "python",
   "pygments_lexer": "ipython3",
   "version": "3.11.11"
  }
 },
 "nbformat": 4,
 "nbformat_minor": 2
}
