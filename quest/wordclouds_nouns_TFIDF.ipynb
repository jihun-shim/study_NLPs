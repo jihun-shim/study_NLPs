{
 "cells": [
  {
   "cell_type": "code",
   "execution_count": 1,
   "metadata": {},
   "outputs": [],
   "source": [
    "from collections import Counter\n",
    "from wordcloud import WordCloud\n",
    "from pymongo import MongoClient\n",
    "import pandas as pd\n",
    "import matplotlib.pyplot as plt\n",
    "import re\n",
    "from konlpy.tag import Okt  # 형태소 분석기"
   ]
  },
  {
   "cell_type": "code",
   "execution_count": 2,
   "metadata": {},
   "outputs": [],
   "source": [
    "client = MongoClient('mongodb://192.168.0.50')\n",
    "db_name = client['DB_SGMN']\n",
    "collection = db_name['COL_SCRAPPING_TOSS_COMMENT_HISTORY']"
   ]
  },
  {
   "cell_type": "code",
   "execution_count": 3,
   "metadata": {},
   "outputs": [],
   "source": [
    "# 데이터 로드\n",
    "\n",
    "find_data = collection.find()\n",
    "toss_data = list(find_data)"
   ]
  },
  {
   "cell_type": "code",
   "execution_count": 4,
   "metadata": {},
   "outputs": [
    {
     "data": {
      "text/html": [
       "<div>\n",
       "<style scoped>\n",
       "    .dataframe tbody tr th:only-of-type {\n",
       "        vertical-align: middle;\n",
       "    }\n",
       "\n",
       "    .dataframe tbody tr th {\n",
       "        vertical-align: top;\n",
       "    }\n",
       "\n",
       "    .dataframe thead th {\n",
       "        text-align: right;\n",
       "    }\n",
       "</style>\n",
       "<table border=\"1\" class=\"dataframe\">\n",
       "  <thead>\n",
       "    <tr style=\"text-align: right;\">\n",
       "      <th></th>\n",
       "      <th>_id</th>\n",
       "      <th>COMMENT</th>\n",
       "      <th>CREATED_AT</th>\n",
       "      <th>DATE</th>\n",
       "      <th>DATETIME</th>\n",
       "      <th>SYMBOL</th>\n",
       "      <th>UPDATED_AT</th>\n",
       "    </tr>\n",
       "  </thead>\n",
       "  <tbody>\n",
       "    <tr>\n",
       "      <th>0</th>\n",
       "      <td>675082d6239b5012b3c84a0b</td>\n",
       "      <td>머선일이야</td>\n",
       "      <td>2024-11-21 23:59:13.068</td>\n",
       "      <td>2024-11-22</td>\n",
       "      <td>2024-11-22T01:36:32+09:00</td>\n",
       "      <td>AADI</td>\n",
       "      <td>2024-11-21 23:58:33</td>\n",
       "    </tr>\n",
       "    <tr>\n",
       "      <th>1</th>\n",
       "      <td>675082d6239b5012b3c84a0c</td>\n",
       "      <td>뭐냐 너..왜 희망 갖게하냐</td>\n",
       "      <td>2024-11-21 23:59:13.068</td>\n",
       "      <td>2024-11-22</td>\n",
       "      <td>2024-11-22T01:07:42+09:00</td>\n",
       "      <td>AADI</td>\n",
       "      <td>2024-11-21 23:58:34</td>\n",
       "    </tr>\n",
       "    <tr>\n",
       "      <th>2</th>\n",
       "      <td>675082d6239b5012b3c84a0d</td>\n",
       "      <td>몇개월 기다리다가 조금 올라서 뺏더니 잘 올라가네.. ㅠ</td>\n",
       "      <td>2024-11-21 23:59:13.068</td>\n",
       "      <td>2024-11-22</td>\n",
       "      <td>2024-11-22T01:00:04+09:00</td>\n",
       "      <td>AADI</td>\n",
       "      <td>2024-11-21 23:58:34</td>\n",
       "    </tr>\n",
       "  </tbody>\n",
       "</table>\n",
       "</div>"
      ],
      "text/plain": [
       "                        _id                          COMMENT  \\\n",
       "0  675082d6239b5012b3c84a0b                            머선일이야   \n",
       "1  675082d6239b5012b3c84a0c                  뭐냐 너..왜 희망 갖게하냐   \n",
       "2  675082d6239b5012b3c84a0d  몇개월 기다리다가 조금 올라서 뺏더니 잘 올라가네.. ㅠ   \n",
       "\n",
       "               CREATED_AT        DATE                   DATETIME SYMBOL  \\\n",
       "0 2024-11-21 23:59:13.068  2024-11-22  2024-11-22T01:36:32+09:00   AADI   \n",
       "1 2024-11-21 23:59:13.068  2024-11-22  2024-11-22T01:07:42+09:00   AADI   \n",
       "2 2024-11-21 23:59:13.068  2024-11-22  2024-11-22T01:00:04+09:00   AADI   \n",
       "\n",
       "            UPDATED_AT  \n",
       "0  2024-11-21 23:58:33  \n",
       "1  2024-11-21 23:58:34  \n",
       "2  2024-11-21 23:58:34  "
      ]
     },
     "execution_count": 4,
     "metadata": {},
     "output_type": "execute_result"
    }
   ],
   "source": [
    "df_toss_data = pd.DataFrame(toss_data)\n",
    "df_toss_data.head(3)"
   ]
  },
  {
   "cell_type": "code",
   "execution_count": 5,
   "metadata": {},
   "outputs": [
    {
     "name": "stdout",
     "output_type": "stream",
     "text": [
      "<class 'pandas.core.frame.DataFrame'>\n",
      "RangeIndex: 251836 entries, 0 to 251835\n",
      "Data columns (total 7 columns):\n",
      " #   Column      Non-Null Count   Dtype         \n",
      "---  ------      --------------   -----         \n",
      " 0   _id         251836 non-null  object        \n",
      " 1   COMMENT     251836 non-null  object        \n",
      " 2   CREATED_AT  251836 non-null  datetime64[ns]\n",
      " 3   DATE        251836 non-null  object        \n",
      " 4   DATETIME    251836 non-null  object        \n",
      " 5   SYMBOL      251836 non-null  object        \n",
      " 6   UPDATED_AT  251836 non-null  object        \n",
      "dtypes: datetime64[ns](1), object(6)\n",
      "memory usage: 13.4+ MB\n"
     ]
    }
   ],
   "source": [
    "df_toss_data.info()"
   ]
  },
  {
   "cell_type": "code",
   "execution_count": 6,
   "metadata": {},
   "outputs": [],
   "source": [
    "# 3. CREATED_AT 필드 날짜 변환\n",
    "\n",
    "# CREATED_AT을 datetime 형식으로 변환\n",
    "df_toss_data['CREATED_AT'] = pd.to_datetime(df_toss_data['CREATED_AT'])\n",
    "\n",
    "# 주 단위로 그룹화 준비 (연도-주 형식 추가)\n",
    "df_toss_data['YEAR_WEEK'] = df_toss_data['CREATED_AT'].dt.strftime('%Y-%U')"
   ]
  },
  {
   "cell_type": "code",
   "execution_count": 7,
   "metadata": {},
   "outputs": [],
   "source": [
    "it_sentence = df_toss_data['COMMENT'].values.tolist() # array list 로 변환 05번 it_sentence 변환 참조"
   ]
  },
  {
   "cell_type": "code",
   "execution_count": 8,
   "metadata": {},
   "outputs": [],
   "source": [
    "# Okt 형태소 분석기를 사용하여 동사만 추출하는 함수\n",
    "\n",
    "okt = Okt()\n",
    "\n",
    "def extract_verbs(text):\n",
    "    # 형태소 분석 후 동사만 필터링\n",
    "    return [word for word, pos in okt.pos(text) if pos == 'Noun']"
   ]
  },
  {
   "cell_type": "code",
   "execution_count": 9,
   "metadata": {},
   "outputs": [],
   "source": [
    "# 주 단위로 그룹화\n",
    "grouped = df_toss_data.groupby('YEAR_WEEK')"
   ]
  },
  {
   "cell_type": "code",
   "execution_count": 10,
   "metadata": {},
   "outputs": [],
   "source": [
    "# 주 단위로 TF-IDF 계산 및 워드클라우드 생성\n",
    "for year_week, group in grouped:\n",
    "    \n",
    "    # 댓글을 하나의 리스트로 연결\n",
    "    sentences = group['COMMENT'].dropna().tolist()\n",
    "    \n",
    "    # 동사만 추출하여 새로운 리스트에 저장\n",
    "    noun_sentences = [' '.join(extract_verbs(comment)) for comment in it_sentence[:100]]"
   ]
  },
  {
   "cell_type": "code",
   "execution_count": 11,
   "metadata": {},
   "outputs": [
    {
     "data": {
      "text/plain": [
       "['머선 일이',\n",
       " '뭐 너 왜 희망',\n",
       " '몇개 월 조금',\n",
       " '얘 얼마 요',\n",
       " '애플 출시 목표 시리 전면 개편 추진 내용 대규모 언어 모델 기반 시리 개발 중 시리 프로젝트 진행 의 일부 공개 예정 봄 정식 출시 대화 작업 처리 앱 연동 기능 강화 요약 현재 별도 앱 테스트 중이 기존 시리 대체 예정 수준 대화 인터페이스 인공 지능 기능 구현 텍스트 생 요약 앱 제어 등 기능 통합 단계 기능 도입 시리 출시 준비 사용자 개인정보 보호 중점 차별 전략 추구 핵심 요약 애플 대응 위해 기반 차세대 시리 개발 봄 출시 예정',\n",
       " '거 횡보',\n",
       " '흠',\n",
       " '애플 주주',\n",
       " '짝 짝',\n",
       " '최고',\n",
       " '',\n",
       " '더',\n",
       " '음',\n",
       " '평생 간다 주식 체결 완료',\n",
       " '단타',\n",
       " '',\n",
       " '',\n",
       " '감',\n",
       " '진짜 애플 금사',\n",
       " '진입 장투',\n",
       " '진입 완료',\n",
       " '왜',\n",
       " '겨울 사과 사과',\n",
       " '',\n",
       " '천하 애플 기네',\n",
       " '슬라 엔비 사과 오늘 맛 별로 언제 맛',\n",
       " '애플 재미',\n",
       " '척',\n",
       " '비중 좀 후',\n",
       " '장난 나 지금',\n",
       " '적립 기 진짜',\n",
       " '',\n",
       " '또',\n",
       " '',\n",
       " '얘 비중 좀',\n",
       " '',\n",
       " '손실 종목 실현 세금 전략 손실 쭉',\n",
       " '애플 주주 언제 상승 빌빌거릴 것입 동학 애플 주주 저력',\n",
       " '좀 횡보끝나',\n",
       " '레츠고',\n",
       " '골든 크로스 추 매각',\n",
       " '슬슬',\n",
       " '장기 매수 답 애플',\n",
       " '',\n",
       " '',\n",
       " '식이 처음',\n",
       " '지금 애플 다시',\n",
       " '애플 거 그냥 계속 가지 임',\n",
       " '머 총 위 탈환 안해',\n",
       " '얘 달 그대로',\n",
       " '애플 장점 하락 애플 단점 상승',\n",
       " '애플 땡큐',\n",
       " '번스타인 애널 리스트 애플 주가 강세 시나리오 최대 상승 가능성 전망 번스타인 애플 중간 자릿수 매출 성장 개선 마진 자본 환원 두 자릿수 순이익 성장 품질 장주 로 평가 토니 사코 나기 애널 리스트 마이너스 현금 전환 주기 감안 때 주가 생각 평가 고 투자자 애플 핵심 보유 주로 유지 주가 하락 때 추가 매수 전략 성과 내용 이 글 정보 제공 목적 작성 방식 자산 매수 장려 거나 투자 요청 제안 추천 조언 상담 권유 것 간주 모든 자산 관점 평가 매우 투자 결정 및 관련 위험 각 투자자 책임 점 출처 인베 스팅 프로 애플 차트',\n",
       " '무선랜 포함 무선 접속 시스템 용 무선 기기 주파수 대역',\n",
       " '오',\n",
       " '번스타인 애플 매출 성장 마진 개선 애플 향후 의견 의 대표 수혜자 것 전망 회계 연도 제품 교체 사이클 질 것 점 아이폰 사이클 예상 예상 내년 사이 애플 주가 아래 매수 시기 강조 타임 라인 글로벌 헤드라인 및 마감 전 주요 지수 앵커 오프닝 특징 주 브리핑 스몰 캡 글로벌 리포트 원자재 이슈 브리핑 글로벌 마감 황 및 일장 체크 포인트 글로벌 특파원 리포트 매수 시그널 영상 보기',\n",
       " '니 짱',\n",
       " '크게 크게 감 교차 애플',\n",
       " '거',\n",
       " '점 더살걸',\n",
       " '곳',\n",
       " '장초',\n",
       " '늘 항상 그 자리',\n",
       " '훈련소 수료',\n",
       " '프로 구매 응원 주주',\n",
       " '애플 적당',\n",
       " '안정 투자',\n",
       " '우리 애플 독사 단 사과',\n",
       " '주식 시작',\n",
       " '맥미니 진짜 주 구매',\n",
       " '안전 자산 만가',\n",
       " '퀀텀 컴퓨팅 이제',\n",
       " '',\n",
       " '애플 내 삶 위안',\n",
       " '',\n",
       " '못 놈',\n",
       " '돈 생기 아이패드 프로 사고 맥북 애플 항상',\n",
       " '중국 광 제 기간 아이폰 판매량 리수 감소',\n",
       " '트럼프 정권 애플 북',\n",
       " '중국 스마트폰 판매 광 제 기간 년 대비 감소 카운터 포인트 리서치 화웨이 판매 년 대비 증가 반면 너 애플 두 자릿수 감소 기록 카운터 포인트 리서치',\n",
       " '타이밍',\n",
       " '업뎃 스 크롤 때 프레임 드랍 좀더 느낌 스냅드래곤 칩셋 거 압박 감 식 배터리 타임 거 애플 예전 버핏 옹 애플비 줄 다른 거 이유',\n",
       " '엔비디아 바 총 놈 놈 총 이야기 그냥 애플 한계 임',\n",
       " '애플 왜 중국 절대 정보공개 안함 슈퍼 갑 왜 중국 자꾸 빼액',\n",
       " '',\n",
       " '',\n",
       " '',\n",
       " '그냥 가지 왜 지금 현재 지도 실',\n",
       " '퀀텀 컴퓨팅 즇습니',\n",
       " '모두 투하 세',\n",
       " '횽들님 제 애플 수익 가용 이 정도 주식 고수 인정',\n",
       " '정도 괜찮죵',\n",
       " '대학생 그냥 주 팔고 용돈 나중 입하 게 적금 게',\n",
       " '좀 라라 팔고',\n",
       " '좀 더 사고',\n",
       " '프로',\n",
       " '뭐 왜',\n",
       " '다시 총 위인',\n",
       " '마지막 소수점 판매',\n",
       " '전 일단 도망']"
      ]
     },
     "execution_count": 11,
     "metadata": {},
     "output_type": "execute_result"
    }
   ],
   "source": [
    "noun_sentences"
   ]
  },
  {
   "cell_type": "code",
   "execution_count": 12,
   "metadata": {},
   "outputs": [],
   "source": [
    "# TF-IDF 벡터화\n",
    "\n",
    "from sklearn.feature_extraction.text import TfidfVectorizer\n",
    "tfidfVectorizer = TfidfVectorizer()\n",
    "tfidfVectorizer.fit(noun_sentences) # 학습용\n",
    "result_vectors = tfidfVectorizer.transform(noun_sentences) # 서비스용"
   ]
  },
  {
   "cell_type": "code",
   "execution_count": 13,
   "metadata": {},
   "outputs": [
    {
     "data": {
      "text/plain": [
       "((100, 317), (317,))"
      ]
     },
     "execution_count": 13,
     "metadata": {},
     "output_type": "execute_result"
    }
   ],
   "source": [
    "# TF-IDE 결과 확인\n",
    "\n",
    "result_vectors.toarray().shape, tfidfVectorizer.get_feature_names_out().shape"
   ]
  },
  {
   "cell_type": "code",
   "execution_count": 14,
   "metadata": {},
   "outputs": [
    {
     "data": {
      "text/plain": [
       "(array(['가능성', '가용', '가지', '간다', '간주', '감소', '감안', '강세', '강조', '강화', '개발',\n",
       "        '개선', '개인정보', '개편', '거나', '것입', '겨울', '결정', '계속', '고수', '골든', '공개',\n",
       "        '관련', '관점', '괜찮죵', '교차', '교체', '구매', '구현', '권유', '그냥', '그대로',\n",
       "        '글로벌', '금사', '기간', '기기', '기네', '기능', '기록', '기반', '기존', '나기', '나중',\n",
       "        '내년', '내용', '느낌', '다른', '다시', '단계', '단점', '단타', '대규모', '대비', '대역',\n",
       "        '대응', '대체', '대표', '대학생', '대화', '더살걸', '도망', '도입', '독사', '동학', '드랍',\n",
       "        '땡큐', '라라', '라인', '레츠고', '리서치', '리수', '리스트', '리포트', '마감', '마이너스',\n",
       "        '마지막', '마진', '만가', '매각', '매수', '매우', '매출', '맥미니', '맥북', '머선', '몇개',\n",
       "        '모델', '모두', '모든', '목적', '목표', '무선', '무선랜', '반면', '방식', '배터리', '버핏',\n",
       "        '번스타인', '별도', '별로', '보기', '보유', '보호', '브리핑', '비중', '빌빌거릴', '빼액',\n",
       "        '사고', '사과', '사용자', '사이', '사이클', '사코', '상담', '상승', '생각', '생기', '성과',\n",
       "        '성장', '세금', '소수점', '손실', '수료', '수익', '수준', '수혜자', '순이익', '슈퍼',\n",
       "        '스냅드래곤', '스마트폰', '스몰', '스팅', '슬라', '슬슬', '시그널', '시기', '시나리오', '시리',\n",
       "        '시스템', '시작', '식이', '실현', '아래', '아이패드', '아이폰', '안전', '안정', '안함',\n",
       "        '안해', '압박', '애널', '애플', '애플비', '앵커', '언어', '언제', '얼마', '업뎃', '엔비',\n",
       "        '엔비디아', '연도', '연동', '영상', '예상', '예전', '예정', '오늘', '오프닝', '완료',\n",
       "        '요약', '요청', '용돈', '우리', '원자재', '위안', '위인', '위해', '위험', '유지', '응원',\n",
       "        '의견', '이슈', '이야기', '이유', '이제', '인공', '인베', '인정', '인터페이스', '일단',\n",
       "        '일부', '일이', '일장', '입하', '자꾸', '자리', '자릿수', '자본', '자산', '작성', '작업',\n",
       "        '장기', '장난', '장려', '장점', '장주', '장초', '장투', '재미', '저력', '적금', '적당',\n",
       "        '적립', '전략', '전망', '전면', '전환', '절대', '접속', '정권', '정도', '정보', '정보공개',\n",
       "        '정식', '제공', '제안', '제어', '제품', '조금', '조언', '좀더', '종목', '주가', '주기',\n",
       "        '주로', '주식', '주요', '주주', '주파수', '준비', '중간', '중국', '중이', '중점', '즇습니',\n",
       "        '증가', '지금', '지능', '지도', '지수', '진입', '진짜', '진행', '차별', '차세대', '차트',\n",
       "        '책임', '처리', '처음', '천하', '체결', '체크', '최고', '최대', '추가', '추구', '추진',\n",
       "        '추천', '출시', '출처', '칩셋', '카운터', '컴퓨팅', '퀀텀', '크게', '크로스', '크롤',\n",
       "        '타이밍', '타임', '탈환', '테스트', '텍스트', '토니', '통합', '투자', '투자자', '투하',\n",
       "        '트럼프', '특징', '특파원', '판매', '판매량', '팔고', '평가', '평생', '포인트', '포함',\n",
       "        '품질', '프레임', '프로', '프로젝트', '하락', '한계', '항상', '핵심', '향후', '헤드라인',\n",
       "        '현금', '현재', '화웨이', '환원', '회계', '횡보', '횡보끝나', '횽들님', '훈련소', '희망'],\n",
       "       dtype=object),\n",
       " array([0.        , 0.        , 0.        , 0.        , 0.        ,\n",
       "        0.        , 0.        , 0.        , 0.        , 0.        ,\n",
       "        0.        , 0.        , 0.        , 0.        , 0.        ,\n",
       "        0.        , 0.        , 0.        , 0.        , 0.        ,\n",
       "        0.        , 0.        , 0.        , 0.        , 0.        ,\n",
       "        0.        , 0.        , 0.        , 0.        , 0.        ,\n",
       "        0.        , 0.        , 0.        , 0.        , 0.        ,\n",
       "        0.        , 0.        , 0.        , 0.        , 0.        ,\n",
       "        0.        , 0.        , 0.        , 0.        , 0.        ,\n",
       "        0.        , 0.        , 0.        , 0.        , 0.        ,\n",
       "        0.        , 0.        , 0.        , 0.        , 0.        ,\n",
       "        0.        , 0.        , 0.        , 0.        , 0.        ,\n",
       "        0.        , 0.        , 0.        , 0.        , 0.        ,\n",
       "        0.        , 0.        , 0.        , 0.        , 0.        ,\n",
       "        0.        , 0.        , 0.        , 0.        , 0.        ,\n",
       "        0.        , 0.        , 0.        , 0.        , 0.        ,\n",
       "        0.        , 0.        , 0.        , 0.        , 0.70710678,\n",
       "        0.        , 0.        , 0.        , 0.        , 0.        ,\n",
       "        0.        , 0.        , 0.        , 0.        , 0.        ,\n",
       "        0.        , 0.        , 0.        , 0.        , 0.        ,\n",
       "        0.        , 0.        , 0.        , 0.        , 0.        ,\n",
       "        0.        , 0.        , 0.        , 0.        , 0.        ,\n",
       "        0.        , 0.        , 0.        , 0.        , 0.        ,\n",
       "        0.        , 0.        , 0.        , 0.        , 0.        ,\n",
       "        0.        , 0.        , 0.        , 0.        , 0.        ,\n",
       "        0.        , 0.        , 0.        , 0.        , 0.        ,\n",
       "        0.        , 0.        , 0.        , 0.        , 0.        ,\n",
       "        0.        , 0.        , 0.        , 0.        , 0.        ,\n",
       "        0.        , 0.        , 0.        , 0.        , 0.        ,\n",
       "        0.        , 0.        , 0.        , 0.        , 0.        ,\n",
       "        0.        , 0.        , 0.        , 0.        , 0.        ,\n",
       "        0.        , 0.        , 0.        , 0.        , 0.        ,\n",
       "        0.        , 0.        , 0.        , 0.        , 0.        ,\n",
       "        0.        , 0.        , 0.        , 0.        , 0.        ,\n",
       "        0.        , 0.        , 0.        , 0.        , 0.        ,\n",
       "        0.        , 0.        , 0.        , 0.        , 0.        ,\n",
       "        0.        , 0.        , 0.        , 0.        , 0.        ,\n",
       "        0.        , 0.        , 0.        , 0.        , 0.        ,\n",
       "        0.        , 0.70710678, 0.        , 0.        , 0.        ,\n",
       "        0.        , 0.        , 0.        , 0.        , 0.        ,\n",
       "        0.        , 0.        , 0.        , 0.        , 0.        ,\n",
       "        0.        , 0.        , 0.        , 0.        , 0.        ,\n",
       "        0.        , 0.        , 0.        , 0.        , 0.        ,\n",
       "        0.        , 0.        , 0.        , 0.        , 0.        ,\n",
       "        0.        , 0.        , 0.        , 0.        , 0.        ,\n",
       "        0.        , 0.        , 0.        , 0.        , 0.        ,\n",
       "        0.        , 0.        , 0.        , 0.        , 0.        ,\n",
       "        0.        , 0.        , 0.        , 0.        , 0.        ,\n",
       "        0.        , 0.        , 0.        , 0.        , 0.        ,\n",
       "        0.        , 0.        , 0.        , 0.        , 0.        ,\n",
       "        0.        , 0.        , 0.        , 0.        , 0.        ,\n",
       "        0.        , 0.        , 0.        , 0.        , 0.        ,\n",
       "        0.        , 0.        , 0.        , 0.        , 0.        ,\n",
       "        0.        , 0.        , 0.        , 0.        , 0.        ,\n",
       "        0.        , 0.        , 0.        , 0.        , 0.        ,\n",
       "        0.        , 0.        , 0.        , 0.        , 0.        ,\n",
       "        0.        , 0.        , 0.        , 0.        , 0.        ,\n",
       "        0.        , 0.        , 0.        , 0.        , 0.        ,\n",
       "        0.        , 0.        , 0.        , 0.        , 0.        ,\n",
       "        0.        , 0.        , 0.        , 0.        , 0.        ,\n",
       "        0.        , 0.        , 0.        , 0.        , 0.        ,\n",
       "        0.        , 0.        , 0.        , 0.        , 0.        ,\n",
       "        0.        , 0.        , 0.        , 0.        , 0.        ,\n",
       "        0.        , 0.        ]))"
      ]
     },
     "execution_count": 14,
     "metadata": {},
     "output_type": "execute_result"
    }
   ],
   "source": [
    "# 문장과 단어 vocab에 대한 매칭 관계 확인\n",
    "tfidfVectorizer.get_feature_names_out(), result_vectors.toarray()[0]"
   ]
  },
  {
   "cell_type": "code",
   "execution_count": 15,
   "metadata": {},
   "outputs": [
    {
     "data": {
      "text/plain": [
       "(317,)"
      ]
     },
     "execution_count": 15,
     "metadata": {},
     "output_type": "execute_result"
    }
   ],
   "source": [
    "# tfidf_scores = result_vectors.toarray().sum(axis=0) # 자료가 너무 많아 오류가 남으로 아래처럼 수정\n",
    "tfidf_scores = result_vectors.toarray().sum(axis = 0)\n",
    "tfidf_scores.shape"
   ]
  },
  {
   "cell_type": "code",
   "execution_count": 16,
   "metadata": {},
   "outputs": [
    {
     "data": {
      "text/plain": [
       "[(6.9545534738116945, '애플'),\n",
       " (2.0, '비중'),\n",
       " (1.905225062443138, '주주'),\n",
       " (1.8742551292130492, '프로'),\n",
       " (1.7978842333981306, '진짜'),\n",
       " (1.726114102032304, '사과'),\n",
       " (1.7141418447310877, '지금'),\n",
       " (1.6254596637753864, '그냥'),\n",
       " (1.3883415653322277, '사고'),\n",
       " (1.3832135848461564, '진입'),\n",
       " (1.3821958522130982, '주식'),\n",
       " (1.3568119178201945, '다시'),\n",
       " (1.1358734205342342, '완료'),\n",
       " (1.1202051919543867, '퀀텀'),\n",
       " (1.1202051919543867, '컴퓨팅'),\n",
       " (1.0987881493473142, '중국'),\n",
       " (1.0808533974942578, '구매'),\n",
       " (1.0644483689918363, '항상'),\n",
       " (1.0359069101616647, '팔고'),\n",
       " (1.0275536786685793, '정도')]"
      ]
     },
     "execution_count": 16,
     "metadata": {},
     "output_type": "execute_result"
    }
   ],
   "source": [
    "# 5. 상위 20개 단어 선택\n",
    "tfidf_ranking_20 = sorted(zip(tfidf_scores, tfidfVectorizer.get_feature_names_out())\n",
    "                          , reverse = True)[:20]\n",
    "tfidf_ranking_20"
   ]
  },
  {
   "cell_type": "code",
   "execution_count": 17,
   "metadata": {},
   "outputs": [
    {
     "data": {
      "text/plain": [
       "{'애플': 6.9545534738116945,\n",
       " '비중': 2.0,\n",
       " '주주': 1.905225062443138,\n",
       " '프로': 1.8742551292130492,\n",
       " '진짜': 1.7978842333981306,\n",
       " '사과': 1.726114102032304,\n",
       " '지금': 1.7141418447310877,\n",
       " '그냥': 1.6254596637753864,\n",
       " '사고': 1.3883415653322277,\n",
       " '진입': 1.3832135848461564,\n",
       " '주식': 1.3821958522130982,\n",
       " '다시': 1.3568119178201945,\n",
       " '완료': 1.1358734205342342,\n",
       " '퀀텀': 1.1202051919543867,\n",
       " '컴퓨팅': 1.1202051919543867,\n",
       " '중국': 1.0987881493473142,\n",
       " '구매': 1.0808533974942578,\n",
       " '항상': 1.0644483689918363,\n",
       " '팔고': 1.0359069101616647,\n",
       " '정도': 1.0275536786685793}"
      ]
     },
     "execution_count": 17,
     "metadata": {},
     "output_type": "execute_result"
    }
   ],
   "source": [
    "# 딕셔너리 형태로 상위 20개 단어와 그 점수를 저장합니다.\n",
    "top20_word = {word:score for score, word in tfidf_ranking_20}\n",
    "top20_word"
   ]
  },
  {
   "cell_type": "code",
   "execution_count": 18,
   "metadata": {},
   "outputs": [],
   "source": [
    "wordCloud = WordCloud(background_color='white'\n",
    "                      , font_path = '/usr/share/fonts/truetype/nanum/NanumBarunGothic.ttf')"
   ]
  },
  {
   "cell_type": "code",
   "execution_count": 19,
   "metadata": {},
   "outputs": [
    {
     "data": {
      "image/png": "[encoded data removed]",
      "text/plain": [
       "<Figure size 640x480 with 1 Axes>"
      ]
     },
     "metadata": {},
     "output_type": "display_data"
    }
   ],
   "source": [
    "wordCloud.generate_from_frequencies(top20_word)\n",
    "\n",
    "plt.imshow(wordCloud)\n",
    "plt.axis('off')\n",
    "plt.show()"
   ]
  }
 ],
 "metadata": {
  "kernelspec": {
   "display_name": "Python 3",
   "language": "python",
   "name": "python3"
  },
  "language_info": {
   "codemirror_mode": {
    "name": "ipython",
    "version": 3
   },
   "file_extension": ".py",
   "mimetype": "text/x-python",
   "name": "python",
   "nbconvert_exporter": "python",
   "pygments_lexer": "ipython3",
   "version": "3.11.11"
  }
 },
 "nbformat": 4,
 "nbformat_minor": 2
}
